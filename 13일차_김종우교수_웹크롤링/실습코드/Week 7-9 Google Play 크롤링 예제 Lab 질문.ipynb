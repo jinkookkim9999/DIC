{
 "cells": [
  {
   "cell_type": "markdown",
   "metadata": {},
   "source": [
    "# Week 7-9 Google Play 크롤링 예제 Lab"
   ]
  },
  {
   "cell_type": "markdown",
   "metadata": {},
   "source": [
    "1. Google Play에서 삼성 SmartThings 리뷰를 수집하는 크롤러를 작성하시오.\n",
    "\n",
    "앞에 작성한 ThinQ 앱의 경우에서 다음 2가지를 변경하시오.\n",
    "\n",
    "(1) STAR의 경우, '별표 5개 만점에 1개를 받았습니다.' 형태로 저장하는 것이 아니라 '1'만 저장하도록 수정하시오.\n",
    "\n",
    "(2) 추가로 리뷰 작성자 아이디도 함께 수집하도록 수정하도록 작성하시오.\n",
    "실제 실행은 '더보기'를 두 번만 하도록 하시오."
   ]
  }
 ],
 "metadata": {
  "kernelspec": {
   "display_name": "Python 3",
   "language": "python",
   "name": "python3"
  },
  "language_info": {
   "codemirror_mode": {
    "name": "ipython",
    "version": 3
   },
   "file_extension": ".py",
   "mimetype": "text/x-python",
   "name": "python",
   "nbconvert_exporter": "python",
   "pygments_lexer": "ipython3",
   "version": "3.8.5"
  }
 },
 "nbformat": 4,
 "nbformat_minor": 4
}
