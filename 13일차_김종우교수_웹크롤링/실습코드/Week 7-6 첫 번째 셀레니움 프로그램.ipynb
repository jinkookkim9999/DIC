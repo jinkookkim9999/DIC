{
 "cells": [
  {
   "cell_type": "markdown",
   "metadata": {},
   "source": [
    "# Week 7-6 첫 번째 셀레니움 프로그램"
   ]
  },
  {
   "cell_type": "code",
   "execution_count": 5,
   "metadata": {},
   "outputs": [
    {
     "name": "stdout",
     "output_type": "stream",
     "text": [
      "무엇을 검색할까요? :LG\n"
     ]
    }
   ],
   "source": [
    "from urllib.parse import quote_plus\n",
    "from bs4 import BeautifulSoup\n",
    "from selenium import webdriver\n",
    "\n",
    "baseUrl = 'https://www.google.com/search?q='\n",
    "plusUrl = input('무엇을 검색할까요? :')\n",
    "url = baseUrl + quote_plus(plusUrl)  # quote_plus가 한글 변환\n",
    "\n",
    "\n",
    "driver = webdriver.Chrome(executable_path=r'D:\\kjw\\lecture\\LG전자_21\\week7_자연어처리\\chromedriver.exe')\n",
    "driver.get(url)\n"
   ]
  },
  {
   "cell_type": "code",
   "execution_count": 6,
   "metadata": {},
   "outputs": [
    {
     "name": "stdout",
     "output_type": "stream",
     "text": [
      "LG전자: LGE.COM\n",
      "https://www.lge.co.kr/\n",
      "\n",
      "스토어 - LG전자\n",
      "https://www.lge.co.kr/store\n",
      "\n",
      "LG그룹\n",
      "https://www.lg.co.kr/\n",
      "\n",
      "개인 | LG U+\n",
      "https://www.uplus.co.kr/\n",
      "\n",
      "LG전자 - 나무위키:대문\n",
      "https://namu.wiki/w/LG%EC%A0%84%EC%9E%90\n",
      "\n",
      "서울의 자존심 LG트윈스!\n",
      "https://www.lgtwins.com/\n",
      "\n",
      "LG이노텍\n",
      "http://www.lginnotek.com/\n",
      "\n",
      "페이지를 찾을 수 없습니다. · LG전자서비스\n",
      "https://www.lgservice.co.kr/cs_lg/\n",
      "\n"
     ]
    }
   ],
   "source": [
    "html = driver.page_source\n",
    "soup = BeautifulSoup(html,'html.parser')\n",
    "\n",
    "v = soup.select('div.yuRUbf')\n",
    "\n",
    "for i in v:\n",
    "    print(i.select_one('h3.LC20lb.DKV0Md').text)\n",
    "    print(i.a.attrs['href'])\n",
    "    print()\n",
    "\n",
    "driver.close()"
   ]
  }
 ],
 "metadata": {
  "kernelspec": {
   "display_name": "Python 3",
   "language": "python",
   "name": "python3"
  },
  "language_info": {
   "codemirror_mode": {
    "name": "ipython",
    "version": 3
   },
   "file_extension": ".py",
   "mimetype": "text/x-python",
   "name": "python",
   "nbconvert_exporter": "python",
   "pygments_lexer": "ipython3",
   "version": "3.8.5"
  }
 },
 "nbformat": 4,
 "nbformat_minor": 4
}
