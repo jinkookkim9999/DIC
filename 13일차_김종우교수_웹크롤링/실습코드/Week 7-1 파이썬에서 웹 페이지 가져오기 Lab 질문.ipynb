{
 "cells": [
  {
   "cell_type": "markdown",
   "metadata": {},
   "source": [
    "# Week 7-1 파이썬에서 웹 페이지 가져오기 Lab"
   ]
  },
  {
   "cell_type": "markdown",
   "metadata": {},
   "source": [
    "1. LG 전자의 영문 위키피디아 페이지를 가져오시오.\n",
    "\n",
    "   URL: https://en.wikipedia.org/wiki/LG_Electronics"
   ]
  },
  {
   "cell_type": "markdown",
   "metadata": {},
   "source": [
    "2. LG 전자의 국문 위키피디아 페이지를 가져오시오.\n",
    "\n",
    "   URL: https://ko.wikipedia.org/wiki/LG%EC%A0%84%EC%9E%90\n",
    "   \n",
    "   Hint: html.read()..decode('utf8') 사용"
   ]
  }
 ],
 "metadata": {
  "kernelspec": {
   "display_name": "Python 3 (ipykernel)",
   "language": "python",
   "name": "python3"
  },
  "language_info": {
   "codemirror_mode": {
    "name": "ipython",
    "version": 3
   },
   "file_extension": ".py",
   "mimetype": "text/x-python",
   "name": "python",
   "nbconvert_exporter": "python",
   "pygments_lexer": "ipython3",
   "version": "3.8.5"
  }
 },
 "nbformat": 4,
 "nbformat_minor": 4
}
