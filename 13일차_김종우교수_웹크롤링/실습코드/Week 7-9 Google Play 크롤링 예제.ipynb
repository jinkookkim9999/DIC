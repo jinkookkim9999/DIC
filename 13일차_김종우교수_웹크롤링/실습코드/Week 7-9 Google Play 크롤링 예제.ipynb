{
 "cells": [
  {
   "cell_type": "markdown",
   "metadata": {},
   "source": [
    "# Week 7-9 Google Play 크롤링 예제"
   ]
  },
  {
   "cell_type": "code",
   "execution_count": 112,
   "metadata": {},
   "outputs": [],
   "source": [
    "from selenium import webdriver\n",
    "import pandas as pd\n",
    "import time\n",
    " \n",
    "url = \"https://play.google.com/store/apps/details?id=com.lgeha.nuts&showAllReviews=true\" \n",
    "driverPath = \"D:\\kjw\\lecture\\LG전자_21\\week7_자연어처리\\chromedriver.exe\" \n",
    "driver = webdriver.Chrome(driverPath) \n",
    "driver.get(url)"
   ]
  },
  {
   "cell_type": "code",
   "execution_count": 13,
   "metadata": {},
   "outputs": [
    {
     "data": {
      "text/plain": [
       "'미니워시 상황 클릭하면 업데이트 하라고 뜨는데, 업데이트 클릭하면 제품이 작동 중일 때는 작동 중이라 안 된다고 뜨고 작동 중이 아닐 땐 전원이 꺼져 있으니 켜져 있을 때 다시 하라 합니다. 무한반복.'"
      ]
     },
     "execution_count": 13,
     "metadata": {},
     "output_type": "execute_result"
    }
   ],
   "source": [
    "# 리뷰\n",
    "comment = driver.find_element_by_xpath(\"//span[@jsname='bN97Pc']\") \n",
    "comment.text"
   ]
  },
  {
   "cell_type": "code",
   "execution_count": 14,
   "metadata": {},
   "outputs": [
    {
     "data": {
      "text/plain": [
       "'2021년 9월 25일'"
      ]
     },
     "execution_count": 14,
     "metadata": {},
     "output_type": "execute_result"
    }
   ],
   "source": [
    "# 날짜\n",
    "date = driver.find_element_by_xpath(\"//span[@class='p2TkOb']\") \n",
    "date.text"
   ]
  },
  {
   "cell_type": "code",
   "execution_count": 15,
   "metadata": {},
   "outputs": [
    {
     "data": {
      "text/plain": [
       "'1'"
      ]
     },
     "execution_count": 15,
     "metadata": {},
     "output_type": "execute_result"
    }
   ],
   "source": [
    "# 좋아요 수\n",
    "like = driver.find_element_by_xpath(\"//div[@aria-label='이 리뷰가 유용하다는 평가를 받은 횟수입니다.']\") \n",
    "like.text"
   ]
  },
  {
   "cell_type": "code",
   "execution_count": 16,
   "metadata": {},
   "outputs": [
    {
     "data": {
      "text/plain": [
       "'별표 5개 만점에 4개를 받았습니다.'"
      ]
     },
     "execution_count": 16,
     "metadata": {},
     "output_type": "execute_result"
    }
   ],
   "source": [
    "# 별점 데이터\n",
    "star = driver.find_element_by_xpath(\"//span[@class='nt2C1d']/div[@class='pf5lIe']/div[@role='img']\") \n",
    "star.get_attribute('aria-label')"
   ]
  },
  {
   "cell_type": "code",
   "execution_count": 17,
   "metadata": {},
   "outputs": [
    {
     "data": {
      "text/plain": [
       "'4'"
      ]
     },
     "execution_count": 17,
     "metadata": {},
     "output_type": "execute_result"
    }
   ],
   "source": [
    "star.get_attribute('aria-label')[10]"
   ]
  },
  {
   "cell_type": "code",
   "execution_count": 118,
   "metadata": {},
   "outputs": [
    {
     "data": {
      "text/plain": [
       "680"
      ]
     },
     "execution_count": 118,
     "metadata": {},
     "output_type": "execute_result"
    }
   ],
   "source": [
    "comments = driver.find_elements_by_xpath(\"//span[@jsname='bN97Pc']\") \n",
    "len(comments)"
   ]
  },
  {
   "cell_type": "code",
   "execution_count": 113,
   "metadata": {},
   "outputs": [],
   "source": [
    "driver.find_element_by_xpath(\"//span[@class='RveJvd snByac']\").click()"
   ]
  },
  {
   "cell_type": "code",
   "execution_count": 114,
   "metadata": {},
   "outputs": [],
   "source": [
    "driver.execute_script(\"window.scrollTo(0, document.body.scrollHeight)\")\n",
    "\n",
    "# 5번 스크롤 내리기\n",
    "for i in range(5): \n",
    "    driver.execute_script(\"window.scrollTo(0, document.body.scrollHeight)\") \n",
    "    time.sleep(3)\n",
    "\n",
    "# 더보기 누르기\n",
    "element=driver.find_element_by_xpath(\"//span[@class='RveJvd snByac']\")\n",
    "driver.execute_script(\"arguments[0].click();\", element)\n"
   ]
  },
  {
   "cell_type": "code",
   "execution_count": 103,
   "metadata": {},
   "outputs": [],
   "source": [
    "SCROLL_PAUSE_TIME = 3 \n",
    "last_height = driver.execute_script(\"return document.body.scrollHeight\") \n",
    "while True: \n",
    "    # (1) 5번의 스크롤링 \n",
    "    for i in range(5): \n",
    "        driver.execute_script(\"window.scrollTo(0, document.body.scrollHeight);\") \n",
    "        time.sleep(SCROLL_PAUSE_TIME) \n",
    "    # (2) 더보기 클릭 \n",
    "    try:\n",
    "        driver.find_element_by_xpath(\"//span[@class='RveJvd snByac']\").click()\n",
    "    except:\n",
    "        break\n",
    "    # (3) 종료 조건 \n",
    "    new_height = driver.execute_script(\"return document.body.scrollHeight\") \n",
    "    if new_height == last_height: \n",
    "        break \n",
    "    last_height = new_height"
   ]
  },
  {
   "cell_type": "code",
   "execution_count": 115,
   "metadata": {},
   "outputs": [],
   "source": [
    "# 편의상 한 번 만 반복하기\n",
    "for i in range(5): \n",
    "    driver.execute_script(\"window.scrollTo(0, document.body.scrollHeight);\") \n",
    "    time.sleep(SCROLL_PAUSE_TIME) \n",
    "\n",
    "    # (2) 더보기 클릭 \n",
    "driver.find_element_by_xpath(\"//span[@class='RveJvd snByac']\").click()"
   ]
  },
  {
   "cell_type": "code",
   "execution_count": 107,
   "metadata": {},
   "outputs": [
    {
     "name": "stdout",
     "output_type": "stream",
     "text": [
      "Iteration:0 Iteration:1 Iteration:2 Iteration:3 Iteration:4 Iteration:5 Iteration:6 Iteration:7 Iteration:8 Iteration:9 Iteration:10 Iteration:11 Iteration:12 Iteration:13 Iteration:14 Iteration:15 Iteration:16 Iteration:17 Iteration:18 Iteration:19 Iteration:20 Fail to click\n"
     ]
    }
   ],
   "source": [
    "# 주어진 횟수만큼만 더보기 하도록 수정한 버전\n",
    "\n",
    "SCROLL_PAUSE_TIME = 4 \n",
    "MAX_ITER = 100\n",
    "last_height = driver.execute_script(\"return document.body.scrollHeight\") \n",
    "iter = 0\n",
    "while True: \n",
    "    # (1) 5번의 스크롤링 \n",
    "    for i in range(5): \n",
    "        driver.execute_script(\"window.scrollTo(0, document.body.scrollHeight);\") \n",
    "        time.sleep(SCROLL_PAUSE_TIME)\n",
    "    # (2) 더보기 클릭 \n",
    "    try:\n",
    "        driver.find_element_by_xpath(\"//span[@class='RveJvd snByac']\").click()\n",
    "    except:\n",
    "        print(\"Fail to click\")\n",
    "        break\n",
    "    # (3) 종료 조건 \n",
    "    new_height = driver.execute_script(\"return document.body.scrollHeight\") \n",
    "    if new_height == last_height: \n",
    "        break \n",
    "    last_height = new_height\n",
    "\n",
    "    if iter > 100:\n",
    "        break\n",
    "    else:\n",
    "        print(\"Iteration:\"+str(iter),end=\" \")\n",
    "        iter=iter+1"
   ]
  },
  {
   "cell_type": "code",
   "execution_count": 119,
   "metadata": {},
   "outputs": [
    {
     "data": {
      "text/plain": [
       "680"
      ]
     },
     "execution_count": 119,
     "metadata": {},
     "output_type": "execute_result"
    }
   ],
   "source": [
    "# 데이터 가져오기\n",
    "\n",
    "comments = driver.find_elements_by_xpath(\"//span[@jsname='bN97Pc']\") \n",
    "len(comments)\n",
    "# 날짜\n",
    "dates = driver.find_elements_by_xpath(\"//span[@class='p2TkOb']\") \n",
    "len(dates)\n",
    "# 좋아요 수\n",
    "\n",
    "likes = driver.find_elements_by_xpath(\"//div[@aria-label='이 리뷰가 유용하다는 평가를 받은 횟수입니다.']\") \n",
    "len(likes)\n",
    "# 별점 데이터\n",
    "\n",
    "stars = driver.find_elements_by_xpath(\"//span[@class='nt2C1d']/div[@class='pf5lIe']/div[@role='img']\") \n",
    "len(stars)\n"
   ]
  },
  {
   "cell_type": "code",
   "execution_count": 120,
   "metadata": {},
   "outputs": [
    {
     "data": {
      "text/html": [
       "<div>\n",
       "<style scoped>\n",
       "    .dataframe tbody tr th:only-of-type {\n",
       "        vertical-align: middle;\n",
       "    }\n",
       "\n",
       "    .dataframe tbody tr th {\n",
       "        vertical-align: top;\n",
       "    }\n",
       "\n",
       "    .dataframe thead th {\n",
       "        text-align: right;\n",
       "    }\n",
       "</style>\n",
       "<table border=\"1\" class=\"dataframe\">\n",
       "  <thead>\n",
       "    <tr style=\"text-align: right;\">\n",
       "      <th></th>\n",
       "      <th>date</th>\n",
       "      <th>star</th>\n",
       "      <th>like</th>\n",
       "      <th>comment</th>\n",
       "    </tr>\n",
       "  </thead>\n",
       "  <tbody>\n",
       "    <tr>\n",
       "      <th>0</th>\n",
       "      <td>2021년 9월 25일</td>\n",
       "      <td>4</td>\n",
       "      <td>1</td>\n",
       "      <td>미니워시 상황 클릭하면 업데이트 하라고 뜨는데, 업데이트 클릭하면 제품이 작동 중일...</td>\n",
       "    </tr>\n",
       "    <tr>\n",
       "      <th>1</th>\n",
       "      <td>2021년 9월 27일</td>\n",
       "      <td>5</td>\n",
       "      <td>8</td>\n",
       "      <td>아카라허브 연결 후 문열림센서를 연결하려고 하는데요, 허브에서는 등록이 잘 되었다고...</td>\n",
       "    </tr>\n",
       "    <tr>\n",
       "      <th>2</th>\n",
       "      <td>2021년 9월 26일</td>\n",
       "      <td>3</td>\n",
       "      <td>6</td>\n",
       "      <td>뜻하지않게 여러개의 엘지 제품이 여러개등록해서쓰고있는데요 에어컨이나 공기청정기는 어...</td>\n",
       "    </tr>\n",
       "    <tr>\n",
       "      <th>3</th>\n",
       "      <td>2021년 9월 24일</td>\n",
       "      <td>1</td>\n",
       "      <td>1</td>\n",
       "      <td>TV로 모바일 컨텐츠보기가 업뎃되면서 바뀌었는데 진심 너무너무 불편해요. 전엔 연결...</td>\n",
       "    </tr>\n",
       "    <tr>\n",
       "      <th>4</th>\n",
       "      <td>2021년 9월 27일</td>\n",
       "      <td>1</td>\n",
       "      <td>1</td>\n",
       "      <td>그놈의 제품 추가정보등록... 폰바꿨다고 다시 등록해야하고 뭐때문에 또 다시 등록해...</td>\n",
       "    </tr>\n",
       "    <tr>\n",
       "      <th>...</th>\n",
       "      <td>...</td>\n",
       "      <td>...</td>\n",
       "      <td>...</td>\n",
       "      <td>...</td>\n",
       "    </tr>\n",
       "    <tr>\n",
       "      <th>675</th>\n",
       "      <td>2021년 6월 10일</td>\n",
       "      <td>1</td>\n",
       "      <td>9</td>\n",
       "      <td>어느순간 제품이 연결해제되서 안켜짐. 결국 다 지우고 다시 등록하는데 제품와이파이 ...</td>\n",
       "    </tr>\n",
       "    <tr>\n",
       "      <th>676</th>\n",
       "      <td>2021년 6월 17일</td>\n",
       "      <td>1</td>\n",
       "      <td>10</td>\n",
       "      <td>업데이트 이후 등록된 제품 원격제어가 갑자기 불가능해져서 전부 수동으로 새로 연결....</td>\n",
       "    </tr>\n",
       "    <tr>\n",
       "      <th>677</th>\n",
       "      <td>2021년 5월 16일</td>\n",
       "      <td>2</td>\n",
       "      <td>2</td>\n",
       "      <td>집에 세탁기, 건조기, 에어컨 2대, 제습기, 스타일러, 정수기까지 총 7대 모두 ...</td>\n",
       "    </tr>\n",
       "    <tr>\n",
       "      <th>678</th>\n",
       "      <td>2021년 6월 21일</td>\n",
       "      <td>1</td>\n",
       "      <td>8</td>\n",
       "      <td>엘지가 왜 만년 2등인지 알 수 있게 해주는 앱. 담당 부서 직원들도 집에서 이 앱...</td>\n",
       "    </tr>\n",
       "    <tr>\n",
       "      <th>679</th>\n",
       "      <td>2021년 6월 22일</td>\n",
       "      <td>3</td>\n",
       "      <td></td>\n",
       "      <td>세탁 진행단계마다 알림이 올수있게 설정할수도 있었으면 좋겠어요. 헹금단계때 알림이 ...</td>\n",
       "    </tr>\n",
       "  </tbody>\n",
       "</table>\n",
       "<p>680 rows × 4 columns</p>\n",
       "</div>"
      ],
      "text/plain": [
       "             date star like                                            comment\n",
       "0    2021년 9월 25일    4    1  미니워시 상황 클릭하면 업데이트 하라고 뜨는데, 업데이트 클릭하면 제품이 작동 중일...\n",
       "1    2021년 9월 27일    5    8  아카라허브 연결 후 문열림센서를 연결하려고 하는데요, 허브에서는 등록이 잘 되었다고...\n",
       "2    2021년 9월 26일    3    6  뜻하지않게 여러개의 엘지 제품이 여러개등록해서쓰고있는데요 에어컨이나 공기청정기는 어...\n",
       "3    2021년 9월 24일    1    1  TV로 모바일 컨텐츠보기가 업뎃되면서 바뀌었는데 진심 너무너무 불편해요. 전엔 연결...\n",
       "4    2021년 9월 27일    1    1  그놈의 제품 추가정보등록... 폰바꿨다고 다시 등록해야하고 뭐때문에 또 다시 등록해...\n",
       "..            ...  ...  ...                                                ...\n",
       "675  2021년 6월 10일    1    9  어느순간 제품이 연결해제되서 안켜짐. 결국 다 지우고 다시 등록하는데 제품와이파이 ...\n",
       "676  2021년 6월 17일    1   10  업데이트 이후 등록된 제품 원격제어가 갑자기 불가능해져서 전부 수동으로 새로 연결....\n",
       "677  2021년 5월 16일    2    2  집에 세탁기, 건조기, 에어컨 2대, 제습기, 스타일러, 정수기까지 총 7대 모두 ...\n",
       "678  2021년 6월 21일    1    8  엘지가 왜 만년 2등인지 알 수 있게 해주는 앱. 담당 부서 직원들도 집에서 이 앱...\n",
       "679  2021년 6월 22일    3       세탁 진행단계마다 알림이 올수있게 설정할수도 있었으면 좋겠어요. 헹금단계때 알림이 ...\n",
       "\n",
       "[680 rows x 4 columns]"
      ]
     },
     "execution_count": 120,
     "metadata": {},
     "output_type": "execute_result"
    }
   ],
   "source": [
    "# 데이터프레임에 저장하기\n",
    "# Make a dataframe\n",
    "res_dict = [] \n",
    "for i in range(len(comments)): \n",
    "    res_dict.append({ \n",
    "        'date' : dates[i].text, \n",
    "        'star' : stars[i].get_attribute('aria-label')[10], \n",
    "        'like' : likes[i].text, \n",
    "        'comment' : comments[i].text })\n",
    "res_df = pd.DataFrame(res_dict) \n",
    "res_df"
   ]
  },
  {
   "cell_type": "code",
   "execution_count": 34,
   "metadata": {},
   "outputs": [],
   "source": [
    "# csv 파일에 저장하기\n",
    "import os\n",
    "save_file_path = 'D:\\kjw\\lecture\\LG전자_21\\week7_자연어처리'\n",
    "os.chdir(save_file_path)\n",
    "res_df.to_csv('thinq_review.csv', index=False, encoding='utf-8-sig')"
   ]
  }
 ],
 "metadata": {
  "kernelspec": {
   "display_name": "Python 3",
   "language": "python",
   "name": "python3"
  },
  "language_info": {
   "codemirror_mode": {
    "name": "ipython",
    "version": 3
   },
   "file_extension": ".py",
   "mimetype": "text/x-python",
   "name": "python",
   "nbconvert_exporter": "python",
   "pygments_lexer": "ipython3",
   "version": "3.8.5"
  }
 },
 "nbformat": 4,
 "nbformat_minor": 4
}
