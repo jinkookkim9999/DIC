{
 "cells": [
  {
   "cell_type": "markdown",
   "metadata": {},
   "source": [
    "# Week 7-8  셀레니움 선택자 사용하기 2 Lab"
   ]
  },
  {
   "cell_type": "markdown",
   "metadata": {},
   "source": [
    "1. 네이버쇼핑에 LG전자 트롬 F17WDBP에 대한 상품 리뷰 페이지를 크롬 드라이버를 이용하여 여시오."
   ]
  },
  {
   "cell_type": "markdown",
   "metadata": {},
   "source": [
    "2. 현재 페이지 내에 보이는 리뷰명들, 작성날자들, 평점들, 내용들을 각각 가져오시오(Hint. 리뷰명, 작성날짜, 내용은 이전 예제 그대로 사용가능)."
   ]
  },
  {
   "cell_type": "markdown",
   "metadata": {},
   "source": [
    "3. 현재 페이지 내에 보이는 리뷰 제목, 작성일자, 평점, 내용을 데이터프레임에 저장하는 함수 get_review()를 작성하시오."
   ]
  },
  {
   "cell_type": "markdown",
   "metadata": {},
   "source": [
    "4. 여러 페이지에 리뷰들의 리뷰 제목, 작성일장, 평점, 내용을 trom_all_review.csv에 저장하는 코드를 작성하시오.\n",
    "단 반복횟수(iter)를 2로 하시오(즉 10페이지씩 2번만)"
   ]
  }
 ],
 "metadata": {
  "kernelspec": {
   "display_name": "Python 3",
   "language": "python",
   "name": "python3"
  },
  "language_info": {
   "codemirror_mode": {
    "name": "ipython",
    "version": 3
   },
   "file_extension": ".py",
   "mimetype": "text/x-python",
   "name": "python",
   "nbconvert_exporter": "python",
   "pygments_lexer": "ipython3",
   "version": "3.8.5"
  }
 },
 "nbformat": 4,
 "nbformat_minor": 4
}
