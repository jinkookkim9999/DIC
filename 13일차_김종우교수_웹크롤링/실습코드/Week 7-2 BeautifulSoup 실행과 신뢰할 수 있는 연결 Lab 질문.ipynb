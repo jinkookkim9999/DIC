{
 "cells": [
  {
   "cell_type": "markdown",
   "metadata": {},
   "source": [
    "# Week 7-2 BeautifulSoup 실행과 신뢰할 수 있는 연결 Lab"
   ]
  },
  {
   "cell_type": "markdown",
   "metadata": {},
   "source": [
    "1. LG 전자의 영문 위키피디아 페이지를 가져오시오.\n",
    "\n",
    "   URL: https://en.wikipedia.org/wiki/LG_Electronics"
   ]
  },
  {
   "cell_type": "markdown",
   "metadata": {},
   "source": [
    "2. BeautifulSoup을 이용해서 문서의 타이틀을 출력하시오."
   ]
  },
  {
   "cell_type": "markdown",
   "metadata": {},
   "source": [
    "3. BeautifulSoup을 이용해서 문서의 첫 번째 하위타이틀(h2 태그)를 출력하시오."
   ]
  },
  {
   "cell_type": "markdown",
   "metadata": {},
   "source": [
    "4. LG 전자의 국문 위키피디아 페이지를 가져오시오.\n",
    "\n",
    "   URL: https://ko.wikipedia.org/wiki/LG%EC%A0%84%EC%9E%90"
   ]
  },
  {
   "cell_type": "markdown",
   "metadata": {},
   "source": [
    "5. BeautifulSoup을 이용해서 문서의 타이틀을 출력하시오.\n",
    "\n",
    "   Hint: bs= BeautifulSoup(html, 'html.parser', from_encoding='utf-8')"
   ]
  },
  {
   "cell_type": "markdown",
   "metadata": {},
   "source": [
    "6. BeautifulSoup을 이용해서 문서의 첫 번째 하위타이틀(h2 태그)을 출력하시오."
   ]
  }
 ],
 "metadata": {
  "kernelspec": {
   "display_name": "Python 3",
   "language": "python",
   "name": "python3"
  },
  "language_info": {
   "codemirror_mode": {
    "name": "ipython",
    "version": 3
   },
   "file_extension": ".py",
   "mimetype": "text/x-python",
   "name": "python",
   "nbconvert_exporter": "python",
   "pygments_lexer": "ipython3",
   "version": "3.8.5"
  }
 },
 "nbformat": 4,
 "nbformat_minor": 4
}
