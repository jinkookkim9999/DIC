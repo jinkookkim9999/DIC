{
 "cells": [
  {
   "cell_type": "markdown",
   "metadata": {},
   "source": [
    "# Week 7-7 셀레니움 선택자 사용하기 1"
   ]
  },
  {
   "cell_type": "code",
   "execution_count": 1,
   "metadata": {},
   "outputs": [],
   "source": [
    "from selenium import webdriver\n",
    "\n",
    "browser = webdriver.Chrome(executable_path=r'D:\\kjw\\lecture\\LG전자_21\\week7_자연어처리\\chromedriver.exe')\n",
    "browser.get(\"https://search.shopping.naver.com/catalog/23550945493?query=LG%EB%83%89%EC%9E%A5%EA%B3%A0&NaPm=ct%3Dktpqedoo%7Cci%3Dfe4ac987d923bce5b3c8eaea3012b012bde87ae0%7Ctr%3Dslsl%7Csn%3D95694%7Chk%3De6bb1a0cc3f56e4a03793354611d726895fd8db6\")\n"
   ]
  },
  {
   "cell_type": "code",
   "execution_count": 4,
   "metadata": {},
   "outputs": [
    {
     "name": "stdout",
     "output_type": "stream",
     "text": [
      "LG전자 디오스 F873S11E\n"
     ]
    }
   ],
   "source": [
    "# 제품명 추출 xpath 사용 - 절대 경로\n",
    "\n",
    "product_name = browser.find_element_by_xpath(\"/html/body/div/div/div[2]/div[2]/div[1]/h2\")\n",
    "print(product_name.text)"
   ]
  },
  {
   "cell_type": "code",
   "execution_count": 5,
   "metadata": {},
   "outputs": [
    {
     "name": "stdout",
     "output_type": "stream",
     "text": [
      "LG전자 디오스 F873S11E\n",
      "LG전자 디오스 F873S11E\n"
     ]
    }
   ],
   "source": [
    "# 제품명 추출 xpath 사용 - 상대 경로\n",
    "\n",
    "product_name = browser.find_element_by_xpath(\"//div[@class='top_summary_title__15yAr']/h2\")\n",
    "print(product_name.text)\n",
    "\n",
    "product_name = browser.find_element_by_xpath('//*[@id=\"__next\"]/div/div[2]/div[2]/div[1]/h2')\n",
    "print(product_name.text)"
   ]
  },
  {
   "cell_type": "code",
   "execution_count": 11,
   "metadata": {},
   "outputs": [
    {
     "name": "stdout",
     "output_type": "stream",
     "text": [
      "LG전자 디오스 F873S11E\n"
     ]
    }
   ],
   "source": [
    "# 제품명 추출 css_selector 사용\n",
    "\n",
    "#__next > div > div.style_container__3iYev > div.style_inner__1Eo2z > div.top_summary_title__15yAr > h2\n",
    "\n",
    "product_name = browser.find_element_by_css_selector(\"div.top_summary_title__15yAr > h2\")\n",
    "\n",
    "print(product_name.text)"
   ]
  },
  {
   "cell_type": "code",
   "execution_count": 16,
   "metadata": {},
   "outputs": [
    {
     "name": "stdout",
     "output_type": "stream",
     "text": [
      "배송은 안내전화 왔던거보다 하루 일찍 왔어요! 친정에 선물해드린건데 아주 만족하십니다!! 옛날집이라 현관이 좁아서 고생 많이하셨을거에요ㅠㅠ 아버지가 설치기사님들 친절하시다고 칭찬\n",
      "실물이 예상했던것 보다 훨씬 마음에 들었고 가격에 비해\n",
      "어머니댁 냉장고가 고장나서 검색중 평이 좋아 주문 했습\n",
      "14년만에 고장나서 바꿨어요 생각보다 색깔이 진해서 좋\n",
      "기존 15년 이상된 엘지양문형 냉장고가 성에가 끼고 너\n",
      "배송 생각보다 빠르게 오고 톡으\n",
      "14년사용한 냉장고가 크리스마스날 갑자기 고장이나서 여\n",
      "드디어 쓰고 싶었던 상냉장,하냉동 4도어 냉장고가 도착\n",
      "**원래 배송이 하루만에 올 예정이었는데 비가 이틀동안...\n",
      "너무 반짝거린다고 하시네요.\n",
      "엄마 선물로 드렸는데 너무 좋아하시네요. 냉장고라는게\n",
      "엘지디오스양문형 자취때쓰던거 고장안나 결혼하고도계속쓰며\n",
      "8월 2일에 주문해서 8월 13일에 설치 받았습니다...\n",
      "조금 기다리긴 했으나 기다 린만큼 만족100%입니다.유\n",
      "일요일주문하고 화요일받았습니다. 시간도 잘맞춰서 와주셨구요. 마무리까지 깔끔하게 해주고 가셨어요~ 너무 감사합니다! 12년되더니 망가져서 구매했어요~ 홈바없는걸 처음써보는데 그닥\n",
      "부모님 댁에 사드렸는데 마음에 드신다고 합니다.빌라 3층이라 걱정했는데 사다리차로 잘 배송되었고 추가 비용도 없었습니다.넉넉히 사용하실 수 있을 것 같아서 좋네요. 가격대비 최고\n",
      "부모님댁에 선물해드렸어요. 주문후 10흘만에 배송되었습\n",
      "부모님 이사하시면서 새 냉장고로 바꾸시느라 주문했어요.\n",
      "여러 사이트를 보다가 카드 할인까지 받아서 새벽에 ...\n",
      "신청 후 10일만에 냉장고가 배송됐습니다. 한여...\n"
     ]
    }
   ],
   "source": [
    "# 리뷰 제목들 가져오기 xpath 사용\n",
    "\n",
    "review_titles = browser.find_elements_by_xpath('//*[@id=\"section_review\"]/ul/li[*]/div[2]/div/em')\n",
    "for title in review_titles:\n",
    "    print(title.text)"
   ]
  },
  {
   "cell_type": "code",
   "execution_count": 13,
   "metadata": {},
   "outputs": [
    {
     "name": "stdout",
     "output_type": "stream",
     "text": [
      "배송은 안내전화 왔던거보다 하루 일찍 왔어요! 친정에 선물해드린건데 아주 만족하십니다!! 옛날집이라 현관이 좁아서 고생 많이하셨을거에요ㅠㅠ 아버지가 설치기사님들 친절하시다고 칭찬\n",
      "실물이 예상했던것 보다 훨씬 마음에 들었고 가격에 비해\n",
      "어머니댁 냉장고가 고장나서 검색중 평이 좋아 주문 했습\n",
      "14년만에 고장나서 바꿨어요 생각보다 색깔이 진해서 좋\n",
      "기존 15년 이상된 엘지양문형 냉장고가 성에가 끼고 너\n",
      "배송 생각보다 빠르게 오고 톡으\n",
      "14년사용한 냉장고가 크리스마스날 갑자기 고장이나서 여\n",
      "드디어 쓰고 싶었던 상냉장,하냉동 4도어 냉장고가 도착\n",
      "**원래 배송이 하루만에 올 예정이었는데 비가 이틀동안...\n",
      "너무 반짝거린다고 하시네요.\n",
      "엄마 선물로 드렸는데 너무 좋아하시네요. 냉장고라는게\n",
      "엘지디오스양문형 자취때쓰던거 고장안나 결혼하고도계속쓰며\n",
      "8월 2일에 주문해서 8월 13일에 설치 받았습니다...\n",
      "조금 기다리긴 했으나 기다 린만큼 만족100%입니다.유\n",
      "일요일주문하고 화요일받았습니다. 시간도 잘맞춰서 와주셨구요. 마무리까지 깔끔하게 해주고 가셨어요~ 너무 감사합니다! 12년되더니 망가져서 구매했어요~ 홈바없는걸 처음써보는데 그닥\n",
      "부모님 댁에 사드렸는데 마음에 드신다고 합니다.빌라 3층이라 걱정했는데 사다리차로 잘 배송되었고 추가 비용도 없었습니다.넉넉히 사용하실 수 있을 것 같아서 좋네요. 가격대비 최고\n",
      "부모님댁에 선물해드렸어요. 주문후 10흘만에 배송되었습\n",
      "부모님 이사하시면서 새 냉장고로 바꾸시느라 주문했어요.\n",
      "여러 사이트를 보다가 카드 할인까지 받아서 새벽에 ...\n",
      "신청 후 10일만에 냉장고가 배송됐습니다. 한여...\n"
     ]
    }
   ],
   "source": [
    "# 리뷰 제목들 가져오기 css_selector 사용\n",
    "\n",
    "review_titles = browser.find_elements_by_css_selector(\"div.reviewItems_review__1eF8A > div > em\")\n",
    "for title in review_titles:\n",
    "    print(title.text)\n",
    "\n",
    "browser.close()"
   ]
  }
 ],
 "metadata": {
  "kernelspec": {
   "display_name": "Python 3",
   "language": "python",
   "name": "python3"
  },
  "language_info": {
   "codemirror_mode": {
    "name": "ipython",
    "version": 3
   },
   "file_extension": ".py",
   "mimetype": "text/x-python",
   "name": "python",
   "nbconvert_exporter": "python",
   "pygments_lexer": "ipython3",
   "version": "3.8.5"
  }
 },
 "nbformat": 4,
 "nbformat_minor": 4
}
