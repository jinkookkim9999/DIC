{
 "cells": [
  {
   "cell_type": "markdown",
   "metadata": {},
   "source": [
    "# Week 7-3 find()와 findAll() 등 Lab"
   ]
  },
  {
   "cell_type": "markdown",
   "metadata": {},
   "source": [
    "1. 네이버쇼핑에 디오스 F873S11E 냉장고에 대한 상품 리뷰 페이지를 가져오시오.\n",
    "\n",
    "URL: https://search.shopping.naver.com/catalog/23550945493?query=LG%EB%83%89%EC%9E%A5%EA%B3%A0&NaPm=ct%3Dktpjmt60%7Cci%3Dfcaa39acaed42d6b86d6d43e215a6b82e9ef5312%7Ctr%3Dslsl%7Csn%3D95694%7Chk%3Dd151f10870bb0188777e6d9c4e4c056d76764335"
   ]
  },
  {
   "cell_type": "markdown",
   "metadata": {},
   "source": [
    "2. 제품명을 추출하시오"
   ]
  },
  {
   "cell_type": "markdown",
   "metadata": {},
   "source": [
    "3. 리뷰 제목들을 모두 추출하시오."
   ]
  },
  {
   "cell_type": "markdown",
   "metadata": {},
   "source": [
    "4. 리뷰에 쇼핑몰 중 SSG닷컴이 몇 번 포함되어있는지 개수를 구하시오(Hint. findAll(text=?) 이용)."
   ]
  }
 ],
 "metadata": {
  "kernelspec": {
   "display_name": "Python 3",
   "language": "python",
   "name": "python3"
  },
  "language_info": {
   "codemirror_mode": {
    "name": "ipython",
    "version": 3
   },
   "file_extension": ".py",
   "mimetype": "text/x-python",
   "name": "python",
   "nbconvert_exporter": "python",
   "pygments_lexer": "ipython3",
   "version": "3.8.5"
  }
 },
 "nbformat": 4,
 "nbformat_minor": 4
}
