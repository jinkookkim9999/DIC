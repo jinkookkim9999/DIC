{
 "cells": [
  {
   "cell_type": "markdown",
   "metadata": {},
   "source": [
    "# Week 7-5 BeautifilSoup을 이용한 웹크롤링 예제1 Lab"
   ]
  },
  {
   "cell_type": "markdown",
   "metadata": {},
   "source": [
    "0. 네이버 쇼핑 사이트에서 세탁기에 대한 BEST100 페이지에 대하여 다음을 수행하시오.\n",
    "\n",
    "URL: https://search.shopping.naver.com/best100v2/detail.nhn?catId=50001408"
   ]
  },
  {
   "cell_type": "markdown",
   "metadata": {},
   "source": [
    "1. 해당 페이지에 있는 100개 제품의 랭킹, 제품명, 최저가, 상품평수를 ref_best.csv에 저장하시오."
   ]
  },
  {
   "cell_type": "markdown",
   "metadata": {},
   "source": [
    "2. 상세 페이지의 url을 가져와서 product_page_urls 리스트에 저장하시오."
   ]
  },
  {
   "cell_type": "markdown",
   "metadata": {},
   "source": [
    "3. 상세 페이지에서 제품명, 제조사 브랜드 평점, 최저가를 추출해서 저장하시오(for문은 시간 관계 상 30개 제품만 하도록 하시오)."
   ]
  }
 ],
 "metadata": {
  "kernelspec": {
   "display_name": "Python 3",
   "language": "python",
   "name": "python3"
  },
  "language_info": {
   "codemirror_mode": {
    "name": "ipython",
    "version": 3
   },
   "file_extension": ".py",
   "mimetype": "text/x-python",
   "name": "python",
   "nbconvert_exporter": "python",
   "pygments_lexer": "ipython3",
   "version": "3.8.5"
  }
 },
 "nbformat": 4,
 "nbformat_minor": 4
}
