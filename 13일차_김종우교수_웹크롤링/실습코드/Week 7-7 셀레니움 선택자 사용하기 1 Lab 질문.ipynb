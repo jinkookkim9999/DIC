{
 "cells": [
  {
   "cell_type": "markdown",
   "metadata": {},
   "source": [
    "# Week 7-7 셀레니움 선택자 사용하기 1 Lab"
   ]
  },
  {
   "cell_type": "markdown",
   "metadata": {},
   "source": [
    "1. 네이버쇼핑에 디오스 F873S11E 냉장고에 대한 상품 리뷰 페이지를 크롬 드라이버를 이용하여 여시오.\n",
    "\n",
    "URL: https://search.shopping.naver.com/catalog/23550945493?query=LG%EB%83%89%EC%9E%A5%EA%B3%A0&NaPm=ct%3Dktpqedoo%7Cci%3Dfe4ac987d923bce5b3c8eaea3012b012bde87ae0%7Ctr%3Dslsl%7Csn%3D95694%7Chk%3De6bb1a0cc3f56e4a03793354611d726895fd8db6        "
   ]
  },
  {
   "cell_type": "markdown",
   "metadata": {},
   "source": [
    "2. 제조사, 브랜드, 등록일을 출력하시오(xpath 절대 주소를 사용해서 출력하시오)."
   ]
  },
  {
   "cell_type": "markdown",
   "metadata": {},
   "source": [
    "3. 제조사, 브랜드, 등록일을 출력하시오(xpath 상대 주소를 사용해서 출력하시오)."
   ]
  },
  {
   "cell_type": "markdown",
   "metadata": {},
   "source": [
    "4. 제조사, 브랜드, 등록일을 출력하시오(css_selector를 사용해서 출력하시오)"
   ]
  },
  {
   "cell_type": "markdown",
   "metadata": {},
   "source": [
    "5. 블로그리뷰의 제목을 출력하시오(xpath 상대 주소를 사용해서 출력하시오)."
   ]
  },
  {
   "cell_type": "markdown",
   "metadata": {},
   "source": [
    "6. 블로그리뷰의 제목을 출력하시오(css_selector를 사용해서 출력하시오)."
   ]
  }
 ],
 "metadata": {
  "kernelspec": {
   "display_name": "Python 3",
   "language": "python",
   "name": "python3"
  },
  "language_info": {
   "codemirror_mode": {
    "name": "ipython",
    "version": 3
   },
   "file_extension": ".py",
   "mimetype": "text/x-python",
   "name": "python",
   "nbconvert_exporter": "python",
   "pygments_lexer": "ipython3",
   "version": "3.8.5"
  }
 },
 "nbformat": 4,
 "nbformat_minor": 4
}
