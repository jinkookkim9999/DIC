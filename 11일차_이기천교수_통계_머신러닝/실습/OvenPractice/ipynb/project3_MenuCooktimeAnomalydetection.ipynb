{
 "cells": [
  {
   "cell_type": "code",
   "execution_count": 1,
   "metadata": {},
   "outputs": [],
   "source": [
    "import numpy as np\n",
    "import pandas as pd\n",
    "import os\n",
    "from datetime import datetime\n",
    "import matplotlib.pyplot as plt\n",
    "import scipy.stats as stats\n",
    "%matplotlib inline\n",
    "\n",
    "from tqdm.notebook import tqdm"
   ]
  },
  {
   "cell_type": "code",
   "execution_count": 2,
   "metadata": {},
   "outputs": [],
   "source": [
    "#os.chdir(\"C:/Users/USER/Desktop/LG\")"
   ]
  },
  {
   "cell_type": "markdown",
   "metadata": {},
   "source": [
    "# 1. cooktime of menus GESD"
   ]
  },
  {
   "cell_type": "code",
   "execution_count": 3,
   "metadata": {},
   "outputs": [
    {
     "data": {
      "text/html": [
       "<div>\n",
       "<style scoped>\n",
       "    .dataframe tbody tr th:only-of-type {\n",
       "        vertical-align: middle;\n",
       "    }\n",
       "\n",
       "    .dataframe tbody tr th {\n",
       "        vertical-align: top;\n",
       "    }\n",
       "\n",
       "    .dataframe thead th {\n",
       "        text-align: right;\n",
       "    }\n",
       "</style>\n",
       "<table border=\"1\" class=\"dataframe\">\n",
       "  <thead>\n",
       "    <tr style=\"text-align: right;\">\n",
       "      <th></th>\n",
       "      <th>CREATE_DT</th>\n",
       "      <th>LOCAL_TIME</th>\n",
       "      <th>DEVICE_ID</th>\n",
       "      <th>EVENT</th>\n",
       "      <th>Cook_State</th>\n",
       "      <th>Cook_Mode</th>\n",
       "      <th>Cook_menu</th>\n",
       "      <th>Cook_hour</th>\n",
       "      <th>Cook_min</th>\n",
       "      <th>Cook_sec</th>\n",
       "      <th>Target_temp</th>\n",
       "      <th>MONTH</th>\n",
       "      <th>time</th>\n",
       "    </tr>\n",
       "  </thead>\n",
       "  <tbody>\n",
       "    <tr>\n",
       "      <td>0</td>\n",
       "      <td>2019-11-20 23:43:56</td>\n",
       "      <td>2019-11-21 08:43:56</td>\n",
       "      <td>id_00000</td>\n",
       "      <td>요리재시작</td>\n",
       "      <td>요리</td>\n",
       "      <td>오븐 자동</td>\n",
       "      <td>군고구마</td>\n",
       "      <td>0</td>\n",
       "      <td>28</td>\n",
       "      <td>38</td>\n",
       "      <td>0</td>\n",
       "      <td>2019-11-01</td>\n",
       "      <td>1718</td>\n",
       "    </tr>\n",
       "    <tr>\n",
       "      <td>1</td>\n",
       "      <td>2019-11-30 10:50:26</td>\n",
       "      <td>2019-11-30 19:50:26</td>\n",
       "      <td>id_00000</td>\n",
       "      <td>요리시작</td>\n",
       "      <td>요리</td>\n",
       "      <td>레인지</td>\n",
       "      <td>0</td>\n",
       "      <td>0</td>\n",
       "      <td>0</td>\n",
       "      <td>30</td>\n",
       "      <td>0</td>\n",
       "      <td>2019-11-01</td>\n",
       "      <td>30</td>\n",
       "    </tr>\n",
       "    <tr>\n",
       "      <td>2</td>\n",
       "      <td>2019-11-30 10:53:51</td>\n",
       "      <td>2019-11-30 19:53:51</td>\n",
       "      <td>id_00000</td>\n",
       "      <td>요리취소</td>\n",
       "      <td>대기</td>\n",
       "      <td>대기</td>\n",
       "      <td>0</td>\n",
       "      <td>0</td>\n",
       "      <td>0</td>\n",
       "      <td>0</td>\n",
       "      <td>0</td>\n",
       "      <td>2019-11-01</td>\n",
       "      <td>0</td>\n",
       "    </tr>\n",
       "    <tr>\n",
       "      <td>3</td>\n",
       "      <td>2019-11-30 10:50:45</td>\n",
       "      <td>2019-11-30 19:50:45</td>\n",
       "      <td>id_00000</td>\n",
       "      <td>요리멈춤</td>\n",
       "      <td>요리멈춤</td>\n",
       "      <td>레인지</td>\n",
       "      <td>0</td>\n",
       "      <td>0</td>\n",
       "      <td>2</td>\n",
       "      <td>42</td>\n",
       "      <td>0</td>\n",
       "      <td>2019-11-01</td>\n",
       "      <td>162</td>\n",
       "    </tr>\n",
       "    <tr>\n",
       "      <td>4</td>\n",
       "      <td>2019-11-30 10:53:49</td>\n",
       "      <td>2019-11-30 19:53:49</td>\n",
       "      <td>id_00000</td>\n",
       "      <td>요리멈춤</td>\n",
       "      <td>요리멈춤</td>\n",
       "      <td>레인지</td>\n",
       "      <td>0</td>\n",
       "      <td>0</td>\n",
       "      <td>0</td>\n",
       "      <td>31</td>\n",
       "      <td>0</td>\n",
       "      <td>2019-11-01</td>\n",
       "      <td>31</td>\n",
       "    </tr>\n",
       "    <tr>\n",
       "      <td>...</td>\n",
       "      <td>...</td>\n",
       "      <td>...</td>\n",
       "      <td>...</td>\n",
       "      <td>...</td>\n",
       "      <td>...</td>\n",
       "      <td>...</td>\n",
       "      <td>...</td>\n",
       "      <td>...</td>\n",
       "      <td>...</td>\n",
       "      <td>...</td>\n",
       "      <td>...</td>\n",
       "      <td>...</td>\n",
       "      <td>...</td>\n",
       "    </tr>\n",
       "    <tr>\n",
       "      <td>286392</td>\n",
       "      <td>2021-05-16 21:58:16</td>\n",
       "      <td>2021-05-17 06:58:16</td>\n",
       "      <td>id_00150</td>\n",
       "      <td>요리시작</td>\n",
       "      <td>요리</td>\n",
       "      <td>오븐</td>\n",
       "      <td>0</td>\n",
       "      <td>0</td>\n",
       "      <td>15</td>\n",
       "      <td>0</td>\n",
       "      <td>200</td>\n",
       "      <td>2021-05-01</td>\n",
       "      <td>900</td>\n",
       "    </tr>\n",
       "    <tr>\n",
       "      <td>286393</td>\n",
       "      <td>2021-05-09 05:06:40</td>\n",
       "      <td>2021-05-09 14:06:40</td>\n",
       "      <td>id_00150</td>\n",
       "      <td>요리시작</td>\n",
       "      <td>요리</td>\n",
       "      <td>레인지</td>\n",
       "      <td>0</td>\n",
       "      <td>0</td>\n",
       "      <td>0</td>\n",
       "      <td>30</td>\n",
       "      <td>0</td>\n",
       "      <td>2021-05-01</td>\n",
       "      <td>30</td>\n",
       "    </tr>\n",
       "    <tr>\n",
       "      <td>286394</td>\n",
       "      <td>2021-05-09 05:06:20</td>\n",
       "      <td>2021-05-09 14:06:20</td>\n",
       "      <td>id_00150</td>\n",
       "      <td>요리종료</td>\n",
       "      <td>요리종료</td>\n",
       "      <td>대기</td>\n",
       "      <td>0</td>\n",
       "      <td>0</td>\n",
       "      <td>0</td>\n",
       "      <td>0</td>\n",
       "      <td>0</td>\n",
       "      <td>2021-05-01</td>\n",
       "      <td>0</td>\n",
       "    </tr>\n",
       "    <tr>\n",
       "      <td>286395</td>\n",
       "      <td>2021-05-09 05:04:19</td>\n",
       "      <td>2021-05-09 14:04:19</td>\n",
       "      <td>id_00150</td>\n",
       "      <td>요리시작</td>\n",
       "      <td>요리</td>\n",
       "      <td>레인지</td>\n",
       "      <td>0</td>\n",
       "      <td>0</td>\n",
       "      <td>0</td>\n",
       "      <td>30</td>\n",
       "      <td>0</td>\n",
       "      <td>2021-05-01</td>\n",
       "      <td>30</td>\n",
       "    </tr>\n",
       "    <tr>\n",
       "      <td>286396</td>\n",
       "      <td>2021-05-09 05:07:41</td>\n",
       "      <td>2021-05-09 14:07:41</td>\n",
       "      <td>id_00150</td>\n",
       "      <td>요리종료</td>\n",
       "      <td>요리종료</td>\n",
       "      <td>대기</td>\n",
       "      <td>0</td>\n",
       "      <td>0</td>\n",
       "      <td>0</td>\n",
       "      <td>0</td>\n",
       "      <td>0</td>\n",
       "      <td>2021-05-01</td>\n",
       "      <td>0</td>\n",
       "    </tr>\n",
       "  </tbody>\n",
       "</table>\n",
       "<p>286397 rows × 13 columns</p>\n",
       "</div>"
      ],
      "text/plain": [
       "                 CREATE_DT          LOCAL_TIME DEVICE_ID  EVENT Cook_State  \\\n",
       "0      2019-11-20 23:43:56 2019-11-21 08:43:56  id_00000  요리재시작         요리   \n",
       "1      2019-11-30 10:50:26 2019-11-30 19:50:26  id_00000   요리시작         요리   \n",
       "2      2019-11-30 10:53:51 2019-11-30 19:53:51  id_00000   요리취소         대기   \n",
       "3      2019-11-30 10:50:45 2019-11-30 19:50:45  id_00000   요리멈춤       요리멈춤   \n",
       "4      2019-11-30 10:53:49 2019-11-30 19:53:49  id_00000   요리멈춤       요리멈춤   \n",
       "...                    ...                 ...       ...    ...        ...   \n",
       "286392 2021-05-16 21:58:16 2021-05-17 06:58:16  id_00150   요리시작         요리   \n",
       "286393 2021-05-09 05:06:40 2021-05-09 14:06:40  id_00150   요리시작         요리   \n",
       "286394 2021-05-09 05:06:20 2021-05-09 14:06:20  id_00150   요리종료       요리종료   \n",
       "286395 2021-05-09 05:04:19 2021-05-09 14:04:19  id_00150   요리시작         요리   \n",
       "286396 2021-05-09 05:07:41 2021-05-09 14:07:41  id_00150   요리종료       요리종료   \n",
       "\n",
       "       Cook_Mode Cook_menu  Cook_hour  Cook_min  Cook_sec  Target_temp  \\\n",
       "0          오븐 자동      군고구마          0        28        38            0   \n",
       "1            레인지         0          0         0        30            0   \n",
       "2             대기         0          0         0         0            0   \n",
       "3            레인지         0          0         2        42            0   \n",
       "4            레인지         0          0         0        31            0   \n",
       "...          ...       ...        ...       ...       ...          ...   \n",
       "286392        오븐         0          0        15         0          200   \n",
       "286393       레인지         0          0         0        30            0   \n",
       "286394        대기         0          0         0         0            0   \n",
       "286395       레인지         0          0         0        30            0   \n",
       "286396        대기         0          0         0         0            0   \n",
       "\n",
       "            MONTH  time  \n",
       "0      2019-11-01  1718  \n",
       "1      2019-11-01    30  \n",
       "2      2019-11-01     0  \n",
       "3      2019-11-01   162  \n",
       "4      2019-11-01    31  \n",
       "...           ...   ...  \n",
       "286392 2021-05-01   900  \n",
       "286393 2021-05-01    30  \n",
       "286394 2021-05-01     0  \n",
       "286395 2021-05-01    30  \n",
       "286396 2021-05-01     0  \n",
       "\n",
       "[286397 rows x 13 columns]"
      ]
     },
     "execution_count": 3,
     "metadata": {},
     "output_type": "execute_result"
    }
   ],
   "source": [
    "# time 변수 추가한 데이터 사용\n",
    "df=pd.read_csv('Oven_sample.csv',encoding='cp949',parse_dates=['CREATE_DT','LOCAL_TIME','MONTH'],dayfirst=True)\n",
    "df['time'] = df['Cook_hour'].astype(int)*60*60 + df['Cook_min'].astype(int)*60 + df['Cook_sec'].astype(int)\n",
    "df"
   ]
  },
  {
   "cell_type": "code",
   "execution_count": 4,
   "metadata": {},
   "outputs": [],
   "source": [
    "df=df[['CREATE_DT','DEVICE_ID','EVENT','Cook_State','Cook_Mode','Cook_menu','Target_temp','time']]"
   ]
  },
  {
   "cell_type": "markdown",
   "metadata": {},
   "source": [
    "## 1-1. GESD 함수 정의"
   ]
  },
  {
   "cell_type": "code",
   "execution_count": 6,
   "metadata": {},
   "outputs": [],
   "source": [
    "def grubbs_stat(y):\n",
    "    std_dev = np.std(y)\n",
    "    avg_y = np.mean(y)\n",
    "    abs_val_minus_avg = abs(y - avg_y)\n",
    "    max_of_deviations = max(abs_val_minus_avg)\n",
    "    max_ind = np.argmax(abs_val_minus_avg)\n",
    "    Gcal = max_of_deviations/ std_dev\n",
    "    print(\"Grubbs Statistics Value : {}\".format(Gcal))\n",
    "    return Gcal, max_ind"
   ]
  },
  {
   "cell_type": "code",
   "execution_count": 7,
   "metadata": {},
   "outputs": [],
   "source": [
    "def calculate_critical_value(size, alpha):\n",
    "    t_dist = stats.t.ppf(1 - alpha / (2 * size), size - 2)\n",
    "    numerator = (size - 1) * np.sqrt(np.square(t_dist))\n",
    "    denominator = np.sqrt(size) * np.sqrt(size - 2 + np.square(t_dist))\n",
    "    critical_value = numerator / denominator\n",
    "    print(\"Grubbs Critical Value: {}\".format(critical_value))\n",
    "    return critical_value"
   ]
  },
  {
   "cell_type": "code",
   "execution_count": 8,
   "metadata": {},
   "outputs": [],
   "source": [
    "def check_G_values(Gs, Gc, inp, max_index):\n",
    "    if Gs > Gc:\n",
    "        print('{} is an outlier. G > G-critical: {:.4f} > {:.4f} \\n'.format(inp[max_index], Gs, Gc))\n",
    "    else:\n",
    "        print('{} is not an outlier. G > G-critical: {:.4f} > {:.4f} \\n'.format(inp[max_index], Gs, Gc))"
   ]
  },
  {
   "cell_type": "code",
   "execution_count": 9,
   "metadata": {},
   "outputs": [],
   "source": [
    "def ESD_Test(input_series, alpha, max_outliers):\n",
    "    for iterations in range(max_outliers):\n",
    "        Gcritical = calculate_critical_value(len(input_series), alpha)\n",
    "        Gstat, max_index = grubbs_stat(input_series)\n",
    "        check_G_values(Gstat, Gcritical, input_series, max_index)\n",
    "        input_series = np.delete(input_series, max_index)"
   ]
  },
  {
   "cell_type": "code",
   "execution_count": 10,
   "metadata": {
    "scrolled": true
   },
   "outputs": [
    {
     "data": {
      "text/plain": [
       "array(['0', 'My_Recipe', '가래떡구이', '가리비치즈구이', '가자미', '가자미오븐구이', '가지',\n",
       "       '갈비구이', '갈치구이', '감', '감건조', '감자그라탱', '감자삶기', '고구마맛탕', '고구마칩&감자칩',\n",
       "       '고등어구이', '구운달걀', '국데우기', '군고구마', '깻잎', '꽁치구이', '꽈리고추', '냉동감자',\n",
       "       '냉동군만두', '냉동너겟', '냉동돈가스', '냉동밥데우기', '냉동생선가스', '냉동조기구이', '냉동크로켓',\n",
       "       '냉동피자', '냉동핫도그', '냉장밥데우기', '너비아니구이', '누룽지', '누룽지튀김', '단호박수프',\n",
       "       '단호박영양밥', '단호박찜', '달걀찜', '닭가슴살', '닭강정', '닭꼬치', '닭다리', '대게', '도미',\n",
       "       '동원_퀴진체바피소시지', '두부강정', '두부데우기', '떡데우기(멥쌀)', '떡데우기(찹쌀)', '또띠아피자',\n",
       "       '라면', '라이스핫도그', '라자냐', '롤케이크', '리소토', '립바비큐', '마늘빵', '만두탕수',\n",
       "       '모듬야채구이', '무', '무건조', '민어조기', '바나나', '바나나건조', '백설기', '베이글', '병어',\n",
       "       '브라우니', '브로콜리', '빵반죽', '사과호두머핀', '삼겹살', '삼치구이', '새우', '새우구이',\n",
       "       '새우튀김', '생선', '섭산적', '솎음배추', '수제돈가스', '스콘', '스테이크', '스팀발생기세정',\n",
       "       '스팀청소', '스폰지케이크', '식빵', '아코디언감자구이', '어니언링', '연어스테이크', '오븐스파게티',\n",
       "       '오징어', '오징어건조', '오징어링', '오코노미야끼', '옥수수', '요구르트', '요리취소', '우유데우기',\n",
       "       '웨지감자', '육포', '인절미', '일식달걀찜', '잔수제거', '장어양념구이', '전통수육', '조기',\n",
       "       '조기구이', '조리실건조', '찐고구마', '찐달걀', '찐닭', '찐만두', '찐빵', '찹쌀모듬떡',\n",
       "       '초코칩쿠키', '치즈케이크', '치킨커틀릿', '치킨텐더', '탈취', '통감자', '통닭', '통삼겹살', '팥죽',\n",
       "       '풀무원_노엣지꽉찬토핑피자직화불고기', '풀무원_얇은피꽉찬속고기만두', '풀무원_얇은피꽉찬속김치만두', '프라이드치킨',\n",
       "       '피자', '피자토스트', '해동', '햄버그스테이크', '허니브레드', '황태양념구이'], dtype=object)"
      ]
     },
     "execution_count": 10,
     "metadata": {},
     "output_type": "execute_result"
    }
   ],
   "source": [
    "np.unique(df['Cook_menu'])"
   ]
  },
  {
   "cell_type": "markdown",
   "metadata": {},
   "source": [
    "## 1-2. preprocessing"
   ]
  },
  {
   "cell_type": "code",
   "execution_count": 11,
   "metadata": {},
   "outputs": [
    {
     "data": {
      "text/html": [
       "<div>\n",
       "<style scoped>\n",
       "    .dataframe tbody tr th:only-of-type {\n",
       "        vertical-align: middle;\n",
       "    }\n",
       "\n",
       "    .dataframe tbody tr th {\n",
       "        vertical-align: top;\n",
       "    }\n",
       "\n",
       "    .dataframe thead th {\n",
       "        text-align: right;\n",
       "    }\n",
       "</style>\n",
       "<table border=\"1\" class=\"dataframe\">\n",
       "  <thead>\n",
       "    <tr style=\"text-align: right;\">\n",
       "      <th></th>\n",
       "      <th>CREATE_DT</th>\n",
       "      <th>DEVICE_ID</th>\n",
       "      <th>EVENT</th>\n",
       "      <th>Cook_State</th>\n",
       "      <th>Cook_Mode</th>\n",
       "      <th>Cook_menu</th>\n",
       "      <th>Target_temp</th>\n",
       "      <th>time</th>\n",
       "    </tr>\n",
       "  </thead>\n",
       "  <tbody>\n",
       "    <tr>\n",
       "      <td>0</td>\n",
       "      <td>2019-11-20 23:43:56</td>\n",
       "      <td>id_00000</td>\n",
       "      <td>요리재시작</td>\n",
       "      <td>요리</td>\n",
       "      <td>오븐 자동</td>\n",
       "      <td>군고구마</td>\n",
       "      <td>0</td>\n",
       "      <td>1718</td>\n",
       "    </tr>\n",
       "    <tr>\n",
       "      <td>1</td>\n",
       "      <td>2019-11-29 15:40:11</td>\n",
       "      <td>id_00000</td>\n",
       "      <td>요리멈춤</td>\n",
       "      <td>요리멈춤</td>\n",
       "      <td>오븐 자동</td>\n",
       "      <td>군고구마</td>\n",
       "      <td>0</td>\n",
       "      <td>271</td>\n",
       "    </tr>\n",
       "    <tr>\n",
       "      <td>2</td>\n",
       "      <td>2019-11-29 15:13:12</td>\n",
       "      <td>id_00000</td>\n",
       "      <td>요리시작</td>\n",
       "      <td>요리</td>\n",
       "      <td>오븐 자동</td>\n",
       "      <td>군고구마</td>\n",
       "      <td>0</td>\n",
       "      <td>1890</td>\n",
       "    </tr>\n",
       "    <tr>\n",
       "      <td>3</td>\n",
       "      <td>2019-11-20 23:26:07</td>\n",
       "      <td>id_00000</td>\n",
       "      <td>요리시작</td>\n",
       "      <td>요리</td>\n",
       "      <td>오븐 자동</td>\n",
       "      <td>군고구마</td>\n",
       "      <td>0</td>\n",
       "      <td>2040</td>\n",
       "    </tr>\n",
       "    <tr>\n",
       "      <td>4</td>\n",
       "      <td>2019-11-20 23:37:36</td>\n",
       "      <td>id_00000</td>\n",
       "      <td>요리시작</td>\n",
       "      <td>요리</td>\n",
       "      <td>오븐 자동</td>\n",
       "      <td>군고구마</td>\n",
       "      <td>0</td>\n",
       "      <td>2040</td>\n",
       "    </tr>\n",
       "    <tr>\n",
       "      <td>...</td>\n",
       "      <td>...</td>\n",
       "      <td>...</td>\n",
       "      <td>...</td>\n",
       "      <td>...</td>\n",
       "      <td>...</td>\n",
       "      <td>...</td>\n",
       "      <td>...</td>\n",
       "      <td>...</td>\n",
       "    </tr>\n",
       "    <tr>\n",
       "      <td>24899</td>\n",
       "      <td>2021-03-29 11:08:34</td>\n",
       "      <td>id_00150</td>\n",
       "      <td>요리시작</td>\n",
       "      <td>요리</td>\n",
       "      <td>구이 자동</td>\n",
       "      <td>삼치구이</td>\n",
       "      <td>0</td>\n",
       "      <td>1080</td>\n",
       "    </tr>\n",
       "    <tr>\n",
       "      <td>24900</td>\n",
       "      <td>2021-04-19 10:46:48</td>\n",
       "      <td>id_00150</td>\n",
       "      <td>요리시작</td>\n",
       "      <td>요리</td>\n",
       "      <td>최근사용메뉴</td>\n",
       "      <td>갈치구이</td>\n",
       "      <td>0</td>\n",
       "      <td>900</td>\n",
       "    </tr>\n",
       "    <tr>\n",
       "      <td>24901</td>\n",
       "      <td>2021-04-19 10:56:06</td>\n",
       "      <td>id_00150</td>\n",
       "      <td>요리멈춤</td>\n",
       "      <td>요리멈춤</td>\n",
       "      <td>최근사용메뉴</td>\n",
       "      <td>갈치구이</td>\n",
       "      <td>0</td>\n",
       "      <td>345</td>\n",
       "    </tr>\n",
       "    <tr>\n",
       "      <td>24902</td>\n",
       "      <td>2021-04-19 10:54:12</td>\n",
       "      <td>id_00150</td>\n",
       "      <td>요리멈춤</td>\n",
       "      <td>요리멈춤</td>\n",
       "      <td>최근사용메뉴</td>\n",
       "      <td>갈치구이</td>\n",
       "      <td>0</td>\n",
       "      <td>457</td>\n",
       "    </tr>\n",
       "    <tr>\n",
       "      <td>24903</td>\n",
       "      <td>2021-04-19 10:54:15</td>\n",
       "      <td>id_00150</td>\n",
       "      <td>요리재시작</td>\n",
       "      <td>요리</td>\n",
       "      <td>최근사용메뉴</td>\n",
       "      <td>갈치구이</td>\n",
       "      <td>0</td>\n",
       "      <td>457</td>\n",
       "    </tr>\n",
       "  </tbody>\n",
       "</table>\n",
       "<p>24904 rows × 8 columns</p>\n",
       "</div>"
      ],
      "text/plain": [
       "                CREATE_DT DEVICE_ID  EVENT Cook_State Cook_Mode Cook_menu  \\\n",
       "0     2019-11-20 23:43:56  id_00000  요리재시작         요리     오븐 자동      군고구마   \n",
       "1     2019-11-29 15:40:11  id_00000   요리멈춤       요리멈춤     오븐 자동      군고구마   \n",
       "2     2019-11-29 15:13:12  id_00000   요리시작         요리     오븐 자동      군고구마   \n",
       "3     2019-11-20 23:26:07  id_00000   요리시작         요리     오븐 자동      군고구마   \n",
       "4     2019-11-20 23:37:36  id_00000   요리시작         요리     오븐 자동      군고구마   \n",
       "...                   ...       ...    ...        ...       ...       ...   \n",
       "24899 2021-03-29 11:08:34  id_00150   요리시작         요리     구이 자동      삼치구이   \n",
       "24900 2021-04-19 10:46:48  id_00150   요리시작         요리    최근사용메뉴      갈치구이   \n",
       "24901 2021-04-19 10:56:06  id_00150   요리멈춤       요리멈춤    최근사용메뉴      갈치구이   \n",
       "24902 2021-04-19 10:54:12  id_00150   요리멈춤       요리멈춤    최근사용메뉴      갈치구이   \n",
       "24903 2021-04-19 10:54:15  id_00150  요리재시작         요리    최근사용메뉴      갈치구이   \n",
       "\n",
       "       Target_temp  time  \n",
       "0                0  1718  \n",
       "1                0   271  \n",
       "2                0  1890  \n",
       "3                0  2040  \n",
       "4                0  2040  \n",
       "...            ...   ...  \n",
       "24899            0  1080  \n",
       "24900            0   900  \n",
       "24901            0   345  \n",
       "24902            0   457  \n",
       "24903            0   457  \n",
       "\n",
       "[24904 rows x 8 columns]"
      ]
     },
     "execution_count": 11,
     "metadata": {},
     "output_type": "execute_result"
    }
   ],
   "source": [
    "#요리 메뉴 전처리\n",
    "df=df[~df['Cook_menu'].isin(['0','My_Recipe','스팀청소','스팀발생기세정','요리취소','잔수제거','조리실건조','탈취','해동'])].reset_index(drop=True)\n",
    "df"
   ]
  },
  {
   "cell_type": "code",
   "execution_count": 12,
   "metadata": {},
   "outputs": [
    {
     "data": {
      "text/plain": [
       "식빵          3636\n",
       "군고구마        2672\n",
       "냉동밥데우기      1523\n",
       "냉동돈가스       1109\n",
       "냉동피자         905\n",
       "            ... \n",
       "새우구이          53\n",
       "황태양념구이        52\n",
       "육포            49\n",
       "통감자           47\n",
       "떡데우기(멥쌀)      46\n",
       "Name: Cook_menu, Length: 70, dtype: int64"
      ]
     },
     "execution_count": 12,
     "metadata": {},
     "output_type": "execute_result"
    }
   ],
   "source": [
    "df['Cook_menu'].value_counts()[:70]"
   ]
  },
  {
   "cell_type": "code",
   "execution_count": 13,
   "metadata": {
    "scrolled": false
   },
   "outputs": [
    {
     "data": {
      "text/html": [
       "<div>\n",
       "<style scoped>\n",
       "    .dataframe tbody tr th:only-of-type {\n",
       "        vertical-align: middle;\n",
       "    }\n",
       "\n",
       "    .dataframe tbody tr th {\n",
       "        vertical-align: top;\n",
       "    }\n",
       "\n",
       "    .dataframe thead th {\n",
       "        text-align: right;\n",
       "    }\n",
       "</style>\n",
       "<table border=\"1\" class=\"dataframe\">\n",
       "  <thead>\n",
       "    <tr style=\"text-align: right;\">\n",
       "      <th></th>\n",
       "      <th>CREATE_DT</th>\n",
       "      <th>DEVICE_ID</th>\n",
       "      <th>EVENT</th>\n",
       "      <th>Cook_State</th>\n",
       "      <th>Cook_Mode</th>\n",
       "      <th>Cook_menu</th>\n",
       "      <th>Target_temp</th>\n",
       "      <th>time</th>\n",
       "    </tr>\n",
       "  </thead>\n",
       "  <tbody>\n",
       "    <tr>\n",
       "      <td>0</td>\n",
       "      <td>2019-11-20 23:43:56</td>\n",
       "      <td>id_00000</td>\n",
       "      <td>요리재시작</td>\n",
       "      <td>요리</td>\n",
       "      <td>오븐 자동</td>\n",
       "      <td>군고구마</td>\n",
       "      <td>0</td>\n",
       "      <td>1718</td>\n",
       "    </tr>\n",
       "    <tr>\n",
       "      <td>1</td>\n",
       "      <td>2019-11-29 15:13:12</td>\n",
       "      <td>id_00000</td>\n",
       "      <td>요리시작</td>\n",
       "      <td>요리</td>\n",
       "      <td>오븐 자동</td>\n",
       "      <td>군고구마</td>\n",
       "      <td>0</td>\n",
       "      <td>1890</td>\n",
       "    </tr>\n",
       "    <tr>\n",
       "      <td>2</td>\n",
       "      <td>2019-11-20 23:26:07</td>\n",
       "      <td>id_00000</td>\n",
       "      <td>요리시작</td>\n",
       "      <td>요리</td>\n",
       "      <td>오븐 자동</td>\n",
       "      <td>군고구마</td>\n",
       "      <td>0</td>\n",
       "      <td>2040</td>\n",
       "    </tr>\n",
       "    <tr>\n",
       "      <td>3</td>\n",
       "      <td>2019-11-20 23:37:36</td>\n",
       "      <td>id_00000</td>\n",
       "      <td>요리시작</td>\n",
       "      <td>요리</td>\n",
       "      <td>오븐 자동</td>\n",
       "      <td>군고구마</td>\n",
       "      <td>0</td>\n",
       "      <td>2040</td>\n",
       "    </tr>\n",
       "    <tr>\n",
       "      <td>4</td>\n",
       "      <td>2019-11-27 11:14:52</td>\n",
       "      <td>id_00000</td>\n",
       "      <td>요리재시작</td>\n",
       "      <td>요리</td>\n",
       "      <td>오븐 자동</td>\n",
       "      <td>군고구마</td>\n",
       "      <td>0</td>\n",
       "      <td>844</td>\n",
       "    </tr>\n",
       "    <tr>\n",
       "      <td>...</td>\n",
       "      <td>...</td>\n",
       "      <td>...</td>\n",
       "      <td>...</td>\n",
       "      <td>...</td>\n",
       "      <td>...</td>\n",
       "      <td>...</td>\n",
       "      <td>...</td>\n",
       "      <td>...</td>\n",
       "    </tr>\n",
       "    <tr>\n",
       "      <td>17066</td>\n",
       "      <td>2021-02-28 09:49:03</td>\n",
       "      <td>id_00150</td>\n",
       "      <td>요리시작</td>\n",
       "      <td>요리</td>\n",
       "      <td>오븐 자동</td>\n",
       "      <td>초코칩쿠키</td>\n",
       "      <td>0</td>\n",
       "      <td>1200</td>\n",
       "    </tr>\n",
       "    <tr>\n",
       "      <td>17067</td>\n",
       "      <td>2021-03-19 11:39:26</td>\n",
       "      <td>id_00150</td>\n",
       "      <td>요리시작</td>\n",
       "      <td>요리</td>\n",
       "      <td>구이 자동</td>\n",
       "      <td>고등어구이</td>\n",
       "      <td>0</td>\n",
       "      <td>930</td>\n",
       "    </tr>\n",
       "    <tr>\n",
       "      <td>17068</td>\n",
       "      <td>2021-03-29 11:08:34</td>\n",
       "      <td>id_00150</td>\n",
       "      <td>요리시작</td>\n",
       "      <td>요리</td>\n",
       "      <td>구이 자동</td>\n",
       "      <td>삼치구이</td>\n",
       "      <td>0</td>\n",
       "      <td>1080</td>\n",
       "    </tr>\n",
       "    <tr>\n",
       "      <td>17069</td>\n",
       "      <td>2021-04-19 10:46:48</td>\n",
       "      <td>id_00150</td>\n",
       "      <td>요리시작</td>\n",
       "      <td>요리</td>\n",
       "      <td>최근사용메뉴</td>\n",
       "      <td>갈치구이</td>\n",
       "      <td>0</td>\n",
       "      <td>900</td>\n",
       "    </tr>\n",
       "    <tr>\n",
       "      <td>17070</td>\n",
       "      <td>2021-04-19 10:54:15</td>\n",
       "      <td>id_00150</td>\n",
       "      <td>요리재시작</td>\n",
       "      <td>요리</td>\n",
       "      <td>최근사용메뉴</td>\n",
       "      <td>갈치구이</td>\n",
       "      <td>0</td>\n",
       "      <td>457</td>\n",
       "    </tr>\n",
       "  </tbody>\n",
       "</table>\n",
       "<p>17071 rows × 8 columns</p>\n",
       "</div>"
      ],
      "text/plain": [
       "                CREATE_DT DEVICE_ID  EVENT Cook_State Cook_Mode Cook_menu  \\\n",
       "0     2019-11-20 23:43:56  id_00000  요리재시작         요리     오븐 자동      군고구마   \n",
       "1     2019-11-29 15:13:12  id_00000   요리시작         요리     오븐 자동      군고구마   \n",
       "2     2019-11-20 23:26:07  id_00000   요리시작         요리     오븐 자동      군고구마   \n",
       "3     2019-11-20 23:37:36  id_00000   요리시작         요리     오븐 자동      군고구마   \n",
       "4     2019-11-27 11:14:52  id_00000  요리재시작         요리     오븐 자동      군고구마   \n",
       "...                   ...       ...    ...        ...       ...       ...   \n",
       "17066 2021-02-28 09:49:03  id_00150   요리시작         요리     오븐 자동     초코칩쿠키   \n",
       "17067 2021-03-19 11:39:26  id_00150   요리시작         요리     구이 자동     고등어구이   \n",
       "17068 2021-03-29 11:08:34  id_00150   요리시작         요리     구이 자동      삼치구이   \n",
       "17069 2021-04-19 10:46:48  id_00150   요리시작         요리    최근사용메뉴      갈치구이   \n",
       "17070 2021-04-19 10:54:15  id_00150  요리재시작         요리    최근사용메뉴      갈치구이   \n",
       "\n",
       "       Target_temp  time  \n",
       "0                0  1718  \n",
       "1                0  1890  \n",
       "2                0  2040  \n",
       "3                0  2040  \n",
       "4                0   844  \n",
       "...            ...   ...  \n",
       "17066            0  1200  \n",
       "17067            0   930  \n",
       "17068            0  1080  \n",
       "17069            0   900  \n",
       "17070            0   457  \n",
       "\n",
       "[17071 rows x 8 columns]"
      ]
     },
     "execution_count": 13,
     "metadata": {},
     "output_type": "execute_result"
    }
   ],
   "source": [
    "#요리재시작, 요리시작인 경우 전처리\n",
    "df=df[df['EVENT'].isin(['요리재시작','요리시작'])].reset_index(drop=True)\n",
    "df"
   ]
  },
  {
   "cell_type": "markdown",
   "metadata": {},
   "source": [
    "## 1-3. 사용 수가 중위권인 메뉴 GESD & histogram"
   ]
  },
  {
   "cell_type": "markdown",
   "metadata": {},
   "source": [
    "### 장어양넘구이"
   ]
  },
  {
   "cell_type": "code",
   "execution_count": 14,
   "metadata": {},
   "outputs": [
    {
     "name": "stdout",
     "output_type": "stream",
     "text": [
      "Grubbs Critical Value: 3.1932139689801295\n",
      "Grubbs Statistics Value : 1.8140425190410927\n",
      "9 is not an outlier. G > G-critical: 1.8140 > 3.1932 \n",
      "\n",
      "Grubbs Critical Value: 3.1866284591724883\n",
      "Grubbs Statistics Value : 1.7449590416645813\n",
      "42 is not an outlier. G > G-critical: 1.7450 > 3.1866 \n",
      "\n",
      "Grubbs Critical Value: 3.179899755889007\n",
      "Grubbs Statistics Value : 1.7791683076832119\n",
      "49 is not an outlier. G > G-critical: 1.7792 > 3.1799 \n",
      "\n",
      "Grubbs Critical Value: 3.1730219854111694\n",
      "Grubbs Statistics Value : 1.8392206192482923\n",
      "51 is not an outlier. G > G-critical: 1.8392 > 3.1730 \n",
      "\n",
      "Grubbs Critical Value: 3.165988918336084\n",
      "Grubbs Statistics Value : 1.7142770248522239\n",
      "96 is not an outlier. G > G-critical: 1.7143 > 3.1660 \n",
      "\n"
     ]
    }
   ],
   "source": [
    "df1=df[df['Cook_menu']==\"장어양념구이\"].reset_index(drop=True)\n",
    "y=df1['time']\n",
    "ESD_Test(np.array(y),0.05,5)"
   ]
  },
  {
   "cell_type": "code",
   "execution_count": 15,
   "metadata": {
    "scrolled": true
   },
   "outputs": [
    {
     "data": {
      "text/plain": [
       "(array([ 4.,  6.,  5.,  7.,  2.,  4.,  9.,  7.,  2., 13.]),\n",
       " array([  9. ,  86.1, 163.2, 240.3, 317.4, 394.5, 471.6, 548.7, 625.8,\n",
       "        702.9, 780. ]),\n",
       " <a list of 10 Patch objects>)"
      ]
     },
     "execution_count": 15,
     "metadata": {},
     "output_type": "execute_result"
    },
    {
     "data": {
      "image/png": "[encoded data removed]",
      "text/plain": [
       "<Figure size 432x288 with 1 Axes>"
      ]
     },
     "metadata": {
      "needs_background": "light"
     },
     "output_type": "display_data"
    }
   ],
   "source": [
    "plt.hist(y)"
   ]
  },
  {
   "cell_type": "markdown",
   "metadata": {},
   "source": [
    "### 닭가슴살"
   ]
  },
  {
   "cell_type": "code",
   "execution_count": 16,
   "metadata": {
    "scrolled": true
   },
   "outputs": [
    {
     "name": "stdout",
     "output_type": "stream",
     "text": [
      "Grubbs Critical Value: 3.476210073829718\n",
      "Grubbs Statistics Value : 1.9298274034441065\n",
      "61 is not an outlier. G > G-critical: 1.9298 > 3.4762 \n",
      "\n",
      "Grubbs Critical Value: 3.4737523569490607\n",
      "Grubbs Statistics Value : 1.782746919017881\n",
      "122 is not an outlier. G > G-critical: 1.7827 > 3.4738 \n",
      "\n",
      "Grubbs Critical Value: 3.471272236777101\n",
      "Grubbs Statistics Value : 1.799801017203844\n",
      "126 is not an outlier. G > G-critical: 1.7998 > 3.4713 \n",
      "\n",
      "Grubbs Critical Value: 3.4687693246343625\n",
      "Grubbs Statistics Value : 1.82074801786268\n",
      "129 is not an outlier. G > G-critical: 1.8207 > 3.4688 \n",
      "\n",
      "Grubbs Critical Value: 3.466243221912549\n",
      "Grubbs Statistics Value : 1.62438734462337\n",
      "1260 is not an outlier. G > G-critical: 1.6244 > 3.4662 \n",
      "\n"
     ]
    }
   ],
   "source": [
    "df2=df[df['Cook_menu']==\"닭가슴살\"].reset_index(drop=True)\n",
    "y=df2['time']\n",
    "ESD_Test(np.array(y),0.05,5)"
   ]
  },
  {
   "cell_type": "code",
   "execution_count": 17,
   "metadata": {
    "scrolled": true
   },
   "outputs": [
    {
     "data": {
      "text/plain": [
       "(array([ 4., 14., 18., 14.,  6., 26., 17.,  9.,  5., 19.]),\n",
       " array([  61. ,  180.9,  300.8,  420.7,  540.6,  660.5,  780.4,  900.3,\n",
       "        1020.2, 1140.1, 1260. ]),\n",
       " <a list of 10 Patch objects>)"
      ]
     },
     "execution_count": 17,
     "metadata": {},
     "output_type": "execute_result"
    },
    {
     "data": {
      "image/png": "[encoded data removed]",
      "text/plain": [
       "<Figure size 432x288 with 1 Axes>"
      ]
     },
     "metadata": {
      "needs_background": "light"
     },
     "output_type": "display_data"
    }
   ],
   "source": [
    "plt.hist(y)"
   ]
  },
  {
   "cell_type": "markdown",
   "metadata": {},
   "source": [
    "### 육포"
   ]
  },
  {
   "cell_type": "code",
   "execution_count": 18,
   "metadata": {},
   "outputs": [
    {
     "name": "stdout",
     "output_type": "stream",
     "text": [
      "Grubbs Critical Value: 2.908473059722726\n",
      "Grubbs Statistics Value : 1.884764947965816\n",
      "1987 is not an outlier. G > G-critical: 1.8848 > 2.9085 \n",
      "\n",
      "Grubbs Critical Value: 2.8927047112054254\n",
      "Grubbs Statistics Value : 2.0196243308558057\n",
      "2229 is not an outlier. G > G-critical: 2.0196 > 2.8927 \n",
      "\n",
      "Grubbs Critical Value: 2.8762091343069227\n",
      "Grubbs Statistics Value : 1.7595331010331918\n",
      "6173 is not an outlier. G > G-critical: 1.7595 > 2.8762 \n",
      "\n",
      "Grubbs Critical Value: 2.85892285133109\n",
      "Grubbs Statistics Value : 1.7575436691921507\n",
      "7368 is not an outlier. G > G-critical: 1.7575 > 2.8589 \n",
      "\n",
      "Grubbs Critical Value: 2.8407740764172646\n",
      "Grubbs Statistics Value : 1.7004480134433486\n",
      "8984 is not an outlier. G > G-critical: 1.7004 > 2.8408 \n",
      "\n"
     ]
    }
   ],
   "source": [
    "df3=df[df['Cook_menu']==\"육포\"].reset_index(drop=True)\n",
    "y=df3['time']\n",
    "ESD_Test(np.array(y),0.05,5)"
   ]
  },
  {
   "cell_type": "code",
   "execution_count": 19,
   "metadata": {},
   "outputs": [
    {
     "data": {
      "text/plain": [
       "(array([ 2.,  1.,  2.,  2.,  8.,  0.,  0.,  0.,  0., 15.]),\n",
       " array([ 1987. ,  4668.3,  7349.6, 10030.9, 12712.2, 15393.5, 18074.8,\n",
       "        20756.1, 23437.4, 26118.7, 28800. ]),\n",
       " <a list of 10 Patch objects>)"
      ]
     },
     "execution_count": 19,
     "metadata": {},
     "output_type": "execute_result"
    },
    {
     "data": {
      "image/png": "[encoded data removed]",
      "text/plain": [
       "<Figure size 432x288 with 1 Axes>"
      ]
     },
     "metadata": {
      "needs_background": "light"
     },
     "output_type": "display_data"
    }
   ],
   "source": [
    "plt.hist(y)"
   ]
  },
  {
   "cell_type": "markdown",
   "metadata": {},
   "source": [
    "## 1-4. 사용 수가 상위권인 메뉴 GESD & histogram"
   ]
  },
  {
   "cell_type": "markdown",
   "metadata": {},
   "source": [
    "### 군고구마"
   ]
  },
  {
   "cell_type": "code",
   "execution_count": 20,
   "metadata": {},
   "outputs": [
    {
     "name": "stdout",
     "output_type": "stream",
     "text": [
      "Grubbs Critical Value: 4.201736631799477\n",
      "Grubbs Statistics Value : 3.2991322929749023\n",
      "3118 is not an outlier. G > G-critical: 3.2991 > 4.2017 \n",
      "\n",
      "Grubbs Critical Value: 4.201617784429733\n",
      "Grubbs Statistics Value : 3.2915829139068666\n",
      "18 is not an outlier. G > G-critical: 3.2916 > 4.2016 \n",
      "\n",
      "Grubbs Critical Value: 4.201498872068891\n",
      "Grubbs Statistics Value : 3.2866077185805045\n",
      "25 is not an outlier. G > G-critical: 3.2866 > 4.2015 \n",
      "\n",
      "Grubbs Critical Value: 4.201379894647752\n",
      "Grubbs Statistics Value : 3.2387576004542957\n",
      "52 is not an outlier. G > G-critical: 3.2388 > 4.2014 \n",
      "\n",
      "Grubbs Critical Value: 4.201260852093461\n",
      "Grubbs Statistics Value : 3.233271139542951\n",
      "59 is not an outlier. G > G-critical: 3.2333 > 4.2013 \n",
      "\n"
     ]
    }
   ],
   "source": [
    "df1=df[df['Cook_menu']=='군고구마'].reset_index(drop=True)\n",
    "y=df1['time']\n",
    "\n",
    "ESD_Test(np.array(y),0.05,5)"
   ]
  },
  {
   "cell_type": "code",
   "execution_count": 21,
   "metadata": {},
   "outputs": [
    {
     "data": {
      "text/plain": [
       "(array([ 79.,  81.,  57.,  58., 511., 523., 650.,   1.,   2.,   2.]),\n",
       " array([  18.,  328.,  638.,  948., 1258., 1568., 1878., 2188., 2498.,\n",
       "        2808., 3118.]),\n",
       " <a list of 10 Patch objects>)"
      ]
     },
     "execution_count": 21,
     "metadata": {},
     "output_type": "execute_result"
    },
    {
     "data": {
      "image/png": "[encoded data removed]",
      "text/plain": [
       "<Figure size 432x288 with 1 Axes>"
      ]
     },
     "metadata": {
      "needs_background": "light"
     },
     "output_type": "display_data"
    }
   ],
   "source": [
    "plt.hist(y)"
   ]
  },
  {
   "cell_type": "markdown",
   "metadata": {},
   "source": [
    "### 식빵"
   ]
  },
  {
   "cell_type": "code",
   "execution_count": 22,
   "metadata": {},
   "outputs": [
    {
     "name": "stdout",
     "output_type": "stream",
     "text": [
      "Grubbs Critical Value: 4.237172945856669\n",
      "Grubbs Statistics Value : 2.8315198621038924\n",
      "495 is not an outlier. G > G-critical: 2.8315 > 4.2372 \n",
      "\n",
      "Grubbs Critical Value: 4.23707204097784\n",
      "Grubbs Statistics Value : 1.586767243327724\n",
      "1 is not an outlier. G > G-critical: 1.5868 > 4.2371 \n",
      "\n",
      "Grubbs Critical Value: 4.236971088875139\n",
      "Grubbs Statistics Value : 1.5879890242015093\n",
      "1 is not an outlier. G > G-critical: 1.5880 > 4.2370 \n",
      "\n",
      "Grubbs Critical Value: 4.236870089510913\n",
      "Grubbs Statistics Value : 1.5802524388020116\n",
      "2 is not an outlier. G > G-critical: 1.5803 > 4.2369 \n",
      "\n",
      "Grubbs Critical Value: 4.236769042838593\n",
      "Grubbs Statistics Value : 1.5366424508717238\n",
      "7 is not an outlier. G > G-critical: 1.5366 > 4.2368 \n",
      "\n"
     ]
    }
   ],
   "source": [
    "df2=df[df['Cook_menu']=='식빵'].reset_index(drop=True)\n",
    "y2=df2['time']\n",
    "\n",
    "ESD_Test(np.array(y2),0.05,5)"
   ]
  },
  {
   "cell_type": "code",
   "execution_count": 23,
   "metadata": {},
   "outputs": [
    {
     "data": {
      "text/plain": [
       "(array([675., 203.,  56., 136., 130., 852., 235.,   0.,   0.,   1.]),\n",
       " array([  1. ,  50.4,  99.8, 149.2, 198.6, 248. , 297.4, 346.8, 396.2,\n",
       "        445.6, 495. ]),\n",
       " <a list of 10 Patch objects>)"
      ]
     },
     "execution_count": 23,
     "metadata": {},
     "output_type": "execute_result"
    },
    {
     "data": {
      "image/png": "[encoded data removed]",
      "text/plain": [
       "<Figure size 432x288 with 1 Axes>"
      ]
     },
     "metadata": {
      "needs_background": "light"
     },
     "output_type": "display_data"
    }
   ],
   "source": [
    "plt.hist(y2)"
   ]
  },
  {
   "cell_type": "markdown",
   "metadata": {},
   "source": [
    "### 냉동밥데우기"
   ]
  },
  {
   "cell_type": "code",
   "execution_count": 24,
   "metadata": {},
   "outputs": [
    {
     "name": "stdout",
     "output_type": "stream",
     "text": [
      "Grubbs Critical Value: 4.11424144338545\n",
      "Grubbs Statistics Value : 2.740257878513852\n",
      "367 is not an outlier. G > G-critical: 2.7403 > 4.1142 \n",
      "\n",
      "Grubbs Critical Value: 4.114064415764929\n",
      "Grubbs Statistics Value : 2.6313096628593713\n",
      "6 is not an outlier. G > G-critical: 2.6313 > 4.1141 \n",
      "\n",
      "Grubbs Critical Value: 4.1138872468281535\n",
      "Grubbs Statistics Value : 2.639031554978465\n",
      "6 is not an outlier. G > G-critical: 2.6390 > 4.1139 \n",
      "\n",
      "Grubbs Critical Value: 4.11370993635427\n",
      "Grubbs Statistics Value : 2.6019137854468197\n",
      "9 is not an outlier. G > G-critical: 2.6019 > 4.1137 \n",
      "\n",
      "Grubbs Critical Value: 4.113532484124912\n",
      "Grubbs Statistics Value : 2.5644074441836096\n",
      "12 is not an outlier. G > G-critical: 2.5644 > 4.1135 \n",
      "\n"
     ]
    }
   ],
   "source": [
    "df3=df[df['Cook_menu']=='냉동밥데우기'].reset_index(drop=True)\n",
    "y3=df3['time']\n",
    "\n",
    "ESD_Test(np.array(y3),0.05,5)"
   ]
  },
  {
   "cell_type": "code",
   "execution_count": 25,
   "metadata": {},
   "outputs": [
    {
     "data": {
      "text/plain": [
       "(array([ 15.,  15.,   7., 994.,   3.,   4.,   0.,   2., 316.,   1.]),\n",
       " array([  6. ,  42.1,  78.2, 114.3, 150.4, 186.5, 222.6, 258.7, 294.8,\n",
       "        330.9, 367. ]),\n",
       " <a list of 10 Patch objects>)"
      ]
     },
     "execution_count": 25,
     "metadata": {},
     "output_type": "execute_result"
    },
    {
     "data": {
      "image/png": "[encoded data removed]",
      "text/plain": [
       "<Figure size 432x288 with 1 Axes>"
      ]
     },
     "metadata": {
      "needs_background": "light"
     },
     "output_type": "display_data"
    }
   ],
   "source": [
    "plt.hist(y3)"
   ]
  },
  {
   "cell_type": "markdown",
   "metadata": {},
   "source": [
    "### 냉장밥데우기"
   ]
  },
  {
   "cell_type": "code",
   "execution_count": 26,
   "metadata": {},
   "outputs": [
    {
     "name": "stdout",
     "output_type": "stream",
     "text": [
      "Grubbs Critical Value: 3.989063039711982\n",
      "Grubbs Statistics Value : 2.599709982121489\n",
      "200 is not an outlier. G > G-critical: 2.5997 > 3.9891 \n",
      "\n",
      "Grubbs Critical Value: 3.9887544650971036\n",
      "Grubbs Statistics Value : 2.612173164910076\n",
      "200 is not an outlier. G > G-critical: 2.6122 > 3.9888 \n",
      "\n",
      "Grubbs Critical Value: 3.9884454742249815\n",
      "Grubbs Statistics Value : 2.624817331682072\n",
      "200 is not an outlier. G > G-critical: 2.6248 > 3.9884 \n",
      "\n",
      "Grubbs Critical Value: 3.9881360660060388\n",
      "Grubbs Statistics Value : 2.6376469055367378\n",
      "200 is not an outlier. G > G-critical: 2.6376 > 3.9881 \n",
      "\n",
      "Grubbs Critical Value: 3.987826239345804\n",
      "Grubbs Statistics Value : 2.650666462403616\n",
      "200 is not an outlier. G > G-critical: 2.6507 > 3.9878 \n",
      "\n"
     ]
    }
   ],
   "source": [
    "df4=df[df['Cook_menu']=='냉장밥데우기'].reset_index(drop=True)\n",
    "y4=df4['time']\n",
    "\n",
    "ESD_Test(np.array(y4),0.05,5)"
   ]
  },
  {
   "cell_type": "code",
   "execution_count": 27,
   "metadata": {},
   "outputs": [
    {
     "data": {
      "text/plain": [
       "(array([  2.,   4.,   3., 601.,   1.,   1., 130.,   0.,   0.,  73.]),\n",
       " array([ 16. ,  34.4,  52.8,  71.2,  89.6, 108. , 126.4, 144.8, 163.2,\n",
       "        181.6, 200. ]),\n",
       " <a list of 10 Patch objects>)"
      ]
     },
     "execution_count": 27,
     "metadata": {},
     "output_type": "execute_result"
    },
    {
     "data": {
      "image/png": "[encoded data removed]",
      "text/plain": [
       "<Figure size 432x288 with 1 Axes>"
      ]
     },
     "metadata": {
      "needs_background": "light"
     },
     "output_type": "display_data"
    }
   ],
   "source": [
    "plt.hist(y4)"
   ]
  },
  {
   "cell_type": "markdown",
   "metadata": {},
   "source": [
    "메뉴별로 파악해봤을때 요리 시간에서 이상치가 나타나는 경우는 찾지 못함"
   ]
  }
 ],
 "metadata": {
  "kernelspec": {
   "display_name": "Python 3",
   "language": "python",
   "name": "python3"
  },
  "language_info": {
   "codemirror_mode": {
    "name": "ipython",
    "version": 3
   },
   "file_extension": ".py",
   "mimetype": "text/x-python",
   "name": "python",
   "nbconvert_exporter": "python",
   "pygments_lexer": "ipython3",
   "version": "3.8.8"
  }
 },
 "nbformat": 4,
 "nbformat_minor": 2
}
