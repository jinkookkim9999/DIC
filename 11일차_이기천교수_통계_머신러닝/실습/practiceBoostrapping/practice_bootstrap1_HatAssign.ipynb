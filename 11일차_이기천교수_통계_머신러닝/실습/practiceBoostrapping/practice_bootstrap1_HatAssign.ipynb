{
 "cells": [
  {
   "cell_type": "code",
   "execution_count": 5,
   "id": "09c9c915",
   "metadata": {},
   "outputs": [
    {
     "name": "stdout",
     "output_type": "stream",
     "text": [
      "[1, 2, 3, 4, 5, 6, 7, 8, 9, 10]\n",
      "[1, 2, 3, 100, 5, 6, 7, 8, 9, 10]\n",
      "[1, 2, 3, 4, 5, 6, 7, 8, 9, 10]\n"
     ]
    }
   ],
   "source": [
    "TrueAssign = [1, 2, 3, 4, 5, 6, 7, 8, 9, 10]\n",
    "item = TrueAssign.copy()\n",
    "print(item)\n",
    "item[3]= 100\n",
    "print(item)\n",
    "#copy를 통해 독립된 array가 만들어졌음을 확인\n",
    "print(TrueAssign)"
   ]
  },
  {
   "cell_type": "markdown",
   "id": "2f98f688",
   "metadata": {},
   "source": [
    "#\"random selection with replacement\" 연습"
   ]
  },
  {
   "cell_type": "code",
   "execution_count": 12,
   "id": "db0ddb79",
   "metadata": {},
   "outputs": [
    {
     "name": "stdout",
     "output_type": "stream",
     "text": [
      "[2, 5, 10, 6, 1, 100, 7, 9, 3, 8]\n",
      "HowManyCorrect 1\n",
      "[7, 6, 9, 8, 3, 2, 10, 5, 1, 100]\n",
      "HowManyCorrect 0\n",
      "[5, 6, 1, 9, 8, 2, 7, 100, 3, 10]\n",
      "HowManyCorrect 2\n",
      "[1, 9, 5, 8, 2, 3, 6, 100, 10, 7]\n",
      "HowManyCorrect 1\n",
      "[5, 2, 100, 1, 8, 10, 3, 6, 9, 7]\n",
      "HowManyCorrect 2\n",
      "[10, 1, 6, 2, 100, 8, 3, 5, 9, 7]\n",
      "HowManyCorrect 1\n"
     ]
    }
   ],
   "source": [
    "from random import shuffle\n",
    "import numpy as np\n",
    "shuffle(item)\n",
    "for i in range(0,6):\n",
    "    shuffle(item)\n",
    "    print(item)\n",
    "    HowManyCorrect = np.sum(np.equal(item,TrueAssign))\n",
    "    print('HowManyCorrect', HowManyCorrect)"
   ]
  },
  {
   "cell_type": "code",
   "execution_count": 13,
   "id": "74d367c0",
   "metadata": {},
   "outputs": [
    {
     "name": "stdout",
     "output_type": "stream",
     "text": [
      "0.6315166666666666\n",
      "0.6321205588285577\n"
     ]
    }
   ],
   "source": [
    "from random import *\n",
    "import numpy as np\n",
    "\n",
    "MAXITER = 60000\n",
    "TrueAssign = [1, 2, 3, 4, 5, 6, 7, 8, 9, 10]\n",
    "item = TrueAssign.copy()\n",
    "AtLeastOneCorrect = 0\n",
    "for i in range(0,MAXITER):    \n",
    "    shuffle(item)    \n",
    "    HowManyCorrect = np.sum(np.equal(item,TrueAssign))\n",
    "    if HowManyCorrect > 0:\n",
    "        AtLeastOneCorrect = AtLeastOneCorrect+1\n",
    "    \n",
    "print(AtLeastOneCorrect/MAXITER)\n",
    "print(1-np.exp(-1))"
   ]
  },
  {
   "cell_type": "code",
   "execution_count": null,
   "id": "78e310d6",
   "metadata": {},
   "outputs": [],
   "source": []
  }
 ],
 "metadata": {
  "kernelspec": {
   "display_name": "Python 3",
   "language": "python",
   "name": "python3"
  },
  "language_info": {
   "codemirror_mode": {
    "name": "ipython",
    "version": 3
   },
   "file_extension": ".py",
   "mimetype": "text/x-python",
   "name": "python",
   "nbconvert_exporter": "python",
   "pygments_lexer": "ipython3",
   "version": "3.8.8"
  }
 },
 "nbformat": 4,
 "nbformat_minor": 5
}
