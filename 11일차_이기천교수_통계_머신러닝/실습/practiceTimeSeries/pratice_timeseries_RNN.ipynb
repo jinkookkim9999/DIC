{
 "cells": [
  {
   "cell_type": "code",
   "execution_count": 4,
   "metadata": {
    "id": "mDGx3bmNS3SJ"
   },
   "outputs": [],
   "source": [
    "#!pip install yfinance\n",
    "import yfinance as yf\n",
    "from sklearn import preprocessing\n",
    "import numpy as np\n",
    "import pandas as pd\n",
    "from keras.models import Sequential\n",
    "from keras.layers import SimpleRNN, LSTM, GRU, Dense\n",
    "from matplotlib import pyplot as plt\n",
    "from keras.wrappers.scikit_learn import KerasRegressor\n",
    "from sklearn.model_selection import GridSearchCV"
   ]
  },
  {
   "cell_type": "code",
   "execution_count": 5,
   "metadata": {
    "id": "XCuZVn4YTeCw"
   },
   "outputs": [],
   "source": [
    "stock_data = yf.Ticker('^KS11')\n",
    "df = stock_data.history(start='2010-01-01',auto_adjust=False,actions=False)\n",
    "df = df.dropna(axis=0)\n",
    "df = df.drop(['Close'],axis=1)"
   ]
  },
  {
   "cell_type": "code",
   "execution_count": 8,
   "metadata": {
    "id": "rduCdbvzTfR5"
   },
   "outputs": [
    {
     "name": "stdout",
     "output_type": "stream",
     "text": [
      "(2885, 5)\n",
      "                   Open         High          Low    Adj Close  Volume\n",
      "Date                                                                  \n",
      "2010-01-04  1681.709961  1696.140015  1681.709961  1696.140015  296500\n",
      "2010-01-05  1701.619995  1702.390015  1686.449951  1690.619995  408900\n",
      "2010-01-06  1697.880005  1706.890015  1696.099976  1705.319946  426000\n",
      "2010-01-07  1702.920044  1707.900024  1683.449951  1683.449951  462400\n",
      "2010-01-08  1694.060059  1695.260010  1668.839966  1695.260010  380000\n"
     ]
    }
   ],
   "source": [
    "print(df.shape)\n",
    "print(df.head())"
   ]
  },
  {
   "cell_type": "code",
   "execution_count": 9,
   "metadata": {
    "id": "YCONuSB1TgL0"
   },
   "outputs": [
    {
     "data": {
      "text/plain": [
       "MinMaxScaler()"
      ]
     },
     "execution_count": 9,
     "metadata": {},
     "output_type": "execute_result"
    }
   ],
   "source": [
    "df_normaliser = preprocessing.MinMaxScaler()\n",
    "df_normalised = df_normaliser.fit_transform(df)\n",
    "\n",
    "history_points = 30 #예측하는데 사용하는 데이터 개수\n",
    "x_normalised = np.array([df_normalised[i : i + history_points].copy() for i in range(len(df_normalised) - history_points)])\n",
    "y_normalised = np.array([df_normalised[i + history_points : i + history_points + 1 , 3].copy() for i in range(len(df_normalised) - history_points)])\n",
    "y = np.array([df.iloc[i + history_points : i + history_points + 1]['Adj Close'].values.copy() for i in range(len(df) - history_points)])\n",
    "\n",
    "y_normaliser = preprocessing.MinMaxScaler()\n",
    "y_normaliser.fit(y)"
   ]
  },
  {
   "cell_type": "code",
   "execution_count": 10,
   "metadata": {
    "id": "tFULayyBTjmY"
   },
   "outputs": [],
   "source": [
    "n = int(x_normalised.shape[0] * 0.8) # Train : Test = 8 : 2\n",
    "x_train = x_normalised[:n]\n",
    "y_train = y_normalised[:n]\n",
    "x_test = x_normalised[n:]\n",
    "y_test = y_normalised[n:]\n",
    "unscaled_y_test = y[n:]"
   ]
  },
  {
   "cell_type": "code",
   "execution_count": 11,
   "metadata": {
    "id": "SLkIYpMCTpRu"
   },
   "outputs": [
    {
     "name": "stdout",
     "output_type": "stream",
     "text": [
      "Epoch 1/100\n",
      "206/206 [==============================] - 2s 7ms/step - loss: 7.0031e-04 - val_loss: 2.5387e-04\n",
      "Epoch 2/100\n",
      "206/206 [==============================] - 1s 6ms/step - loss: 2.2096e-04 - val_loss: 2.0970e-04\n",
      "Epoch 3/100\n",
      "206/206 [==============================] - 1s 6ms/step - loss: 2.1612e-04 - val_loss: 1.6406e-04\n",
      "Epoch 4/100\n",
      "206/206 [==============================] - 1s 6ms/step - loss: 1.8638e-04 - val_loss: 1.5152e-04\n",
      "Epoch 5/100\n",
      "206/206 [==============================] - 1s 6ms/step - loss: 1.9397e-04 - val_loss: 4.4278e-04\n",
      "Epoch 6/100\n",
      "206/206 [==============================] - 1s 6ms/step - loss: 1.5948e-04 - val_loss: 1.9328e-04\n",
      "Epoch 7/100\n",
      "206/206 [==============================] - 1s 6ms/step - loss: 1.6522e-04 - val_loss: 3.6460e-04\n",
      "Epoch 8/100\n",
      "206/206 [==============================] - 1s 6ms/step - loss: 1.7688e-04 - val_loss: 1.3487e-04\n",
      "Epoch 9/100\n",
      "206/206 [==============================] - 1s 6ms/step - loss: 1.5479e-04 - val_loss: 1.4169e-04\n",
      "Epoch 10/100\n",
      "206/206 [==============================] - 1s 6ms/step - loss: 1.5053e-04 - val_loss: 2.8265e-04\n",
      "Epoch 11/100\n",
      "206/206 [==============================] - 1s 6ms/step - loss: 1.7336e-04 - val_loss: 1.3266e-04\n",
      "Epoch 12/100\n",
      "206/206 [==============================] - 1s 6ms/step - loss: 1.4795e-04 - val_loss: 1.3192e-04\n",
      "Epoch 13/100\n",
      "206/206 [==============================] - 1s 6ms/step - loss: 1.6446e-04 - val_loss: 2.4915e-04\n",
      "Epoch 14/100\n",
      "206/206 [==============================] - 1s 6ms/step - loss: 1.4148e-04 - val_loss: 3.8283e-04\n",
      "Epoch 15/100\n",
      "206/206 [==============================] - 1s 6ms/step - loss: 1.6034e-04 - val_loss: 2.9254e-04\n",
      "Epoch 16/100\n",
      "206/206 [==============================] - 1s 6ms/step - loss: 1.4297e-04 - val_loss: 1.2778e-04\n",
      "Epoch 17/100\n",
      "206/206 [==============================] - 1s 6ms/step - loss: 1.4364e-04 - val_loss: 1.2022e-04\n",
      "Epoch 18/100\n",
      "206/206 [==============================] - 1s 6ms/step - loss: 1.5796e-04 - val_loss: 2.0095e-04\n",
      "Epoch 19/100\n",
      "206/206 [==============================] - 1s 6ms/step - loss: 1.4416e-04 - val_loss: 1.5198e-04\n",
      "Epoch 20/100\n",
      "206/206 [==============================] - 1s 6ms/step - loss: 1.4106e-04 - val_loss: 1.6824e-04\n",
      "Epoch 21/100\n",
      "206/206 [==============================] - 1s 6ms/step - loss: 1.3356e-04 - val_loss: 1.2226e-04\n",
      "Epoch 22/100\n",
      "206/206 [==============================] - 1s 6ms/step - loss: 1.5094e-04 - val_loss: 1.1678e-04\n",
      "Epoch 23/100\n",
      "206/206 [==============================] - 1s 6ms/step - loss: 1.5947e-04 - val_loss: 2.0427e-04\n",
      "Epoch 24/100\n",
      "206/206 [==============================] - 1s 6ms/step - loss: 1.4005e-04 - val_loss: 1.9404e-04\n",
      "Epoch 25/100\n",
      "206/206 [==============================] - 1s 6ms/step - loss: 1.4598e-04 - val_loss: 1.3528e-04\n",
      "Epoch 26/100\n",
      "206/206 [==============================] - 1s 6ms/step - loss: 1.3209e-04 - val_loss: 1.3602e-04\n",
      "Epoch 27/100\n",
      "206/206 [==============================] - 1s 6ms/step - loss: 1.3364e-04 - val_loss: 1.1801e-04\n",
      "Epoch 28/100\n",
      "206/206 [==============================] - 1s 6ms/step - loss: 1.5050e-04 - val_loss: 1.3461e-04\n",
      "Epoch 29/100\n",
      "206/206 [==============================] - 1s 6ms/step - loss: 1.3141e-04 - val_loss: 1.2522e-04\n",
      "Epoch 30/100\n",
      "206/206 [==============================] - 1s 6ms/step - loss: 1.3278e-04 - val_loss: 1.3242e-04\n",
      "Epoch 31/100\n",
      "206/206 [==============================] - 1s 6ms/step - loss: 1.2445e-04 - val_loss: 1.9605e-04\n",
      "Epoch 32/100\n",
      "206/206 [==============================] - 1s 6ms/step - loss: 1.4263e-04 - val_loss: 1.8469e-04\n",
      "Epoch 33/100\n",
      "206/206 [==============================] - 1s 6ms/step - loss: 1.3182e-04 - val_loss: 1.3044e-04\n",
      "Epoch 34/100\n",
      "206/206 [==============================] - 1s 6ms/step - loss: 1.4548e-04 - val_loss: 1.2639e-04\n",
      "Epoch 35/100\n",
      "206/206 [==============================] - 1s 6ms/step - loss: 1.2004e-04 - val_loss: 1.1239e-04\n",
      "Epoch 36/100\n",
      "206/206 [==============================] - 1s 6ms/step - loss: 1.1902e-04 - val_loss: 1.1652e-04\n",
      "Epoch 37/100\n",
      "206/206 [==============================] - 1s 6ms/step - loss: 1.2684e-04 - val_loss: 1.4566e-04\n",
      "Epoch 38/100\n",
      "206/206 [==============================] - 1s 6ms/step - loss: 1.2890e-04 - val_loss: 1.3293e-04\n",
      "Epoch 39/100\n",
      "206/206 [==============================] - 1s 6ms/step - loss: 1.1893e-04 - val_loss: 1.5962e-04\n",
      "Epoch 40/100\n",
      "206/206 [==============================] - 1s 6ms/step - loss: 1.2316e-04 - val_loss: 1.5438e-04\n",
      "Epoch 41/100\n",
      "206/206 [==============================] - 1s 6ms/step - loss: 1.3126e-04 - val_loss: 1.4694e-04\n",
      "Epoch 42/100\n",
      "206/206 [==============================] - 1s 6ms/step - loss: 1.2240e-04 - val_loss: 1.1355e-04\n",
      "Epoch 43/100\n",
      "206/206 [==============================] - 1s 6ms/step - loss: 1.2012e-04 - val_loss: 1.7371e-04\n",
      "Epoch 44/100\n",
      "206/206 [==============================] - 1s 6ms/step - loss: 1.1910e-04 - val_loss: 1.1929e-04\n",
      "Epoch 45/100\n",
      "206/206 [==============================] - 1s 6ms/step - loss: 1.1475e-04 - val_loss: 1.6916e-04\n",
      "Epoch 46/100\n",
      "206/206 [==============================] - 1s 6ms/step - loss: 1.2071e-04 - val_loss: 1.2111e-04\n",
      "Epoch 47/100\n",
      "206/206 [==============================] - 1s 6ms/step - loss: 1.2957e-04 - val_loss: 1.2290e-04\n",
      "Epoch 48/100\n",
      "206/206 [==============================] - 1s 6ms/step - loss: 1.1566e-04 - val_loss: 1.1525e-04\n",
      "Epoch 49/100\n",
      "206/206 [==============================] - 1s 6ms/step - loss: 1.2390e-04 - val_loss: 1.1857e-04\n",
      "Epoch 50/100\n",
      "206/206 [==============================] - 1s 6ms/step - loss: 1.2264e-04 - val_loss: 1.6001e-04\n",
      "Epoch 51/100\n",
      "206/206 [==============================] - 1s 6ms/step - loss: 1.2769e-04 - val_loss: 1.1695e-04\n",
      "Epoch 52/100\n",
      "206/206 [==============================] - 1s 6ms/step - loss: 1.1923e-04 - val_loss: 1.5858e-04\n",
      "Epoch 53/100\n",
      "206/206 [==============================] - 1s 6ms/step - loss: 1.1427e-04 - val_loss: 1.4655e-04\n",
      "Epoch 54/100\n",
      "206/206 [==============================] - 1s 6ms/step - loss: 1.2133e-04 - val_loss: 1.2369e-04\n",
      "Epoch 55/100\n",
      "206/206 [==============================] - 1s 6ms/step - loss: 1.2489e-04 - val_loss: 1.1357e-04\n",
      "Epoch 56/100\n",
      "206/206 [==============================] - 1s 6ms/step - loss: 1.1350e-04 - val_loss: 1.1472e-04\n",
      "Epoch 57/100\n",
      "206/206 [==============================] - 1s 6ms/step - loss: 1.1713e-04 - val_loss: 1.3596e-04\n",
      "Epoch 58/100\n",
      "206/206 [==============================] - 1s 6ms/step - loss: 1.1921e-04 - val_loss: 1.0770e-04\n",
      "Epoch 59/100\n",
      "206/206 [==============================] - 1s 6ms/step - loss: 1.1782e-04 - val_loss: 1.2705e-04\n",
      "Epoch 60/100\n",
      "206/206 [==============================] - 1s 6ms/step - loss: 1.1761e-04 - val_loss: 1.2399e-04\n",
      "Epoch 61/100\n",
      "206/206 [==============================] - 1s 6ms/step - loss: 1.2284e-04 - val_loss: 1.2393e-04\n",
      "Epoch 62/100\n",
      "206/206 [==============================] - 1s 6ms/step - loss: 1.2841e-04 - val_loss: 1.4109e-04\n",
      "Epoch 63/100\n",
      "206/206 [==============================] - 1s 6ms/step - loss: 1.2017e-04 - val_loss: 1.1326e-04\n",
      "Epoch 64/100\n",
      "206/206 [==============================] - 1s 6ms/step - loss: 1.1139e-04 - val_loss: 1.1403e-04\n",
      "Epoch 65/100\n",
      "206/206 [==============================] - 1s 6ms/step - loss: 1.1688e-04 - val_loss: 1.2594e-04\n",
      "Epoch 66/100\n",
      "206/206 [==============================] - 1s 6ms/step - loss: 1.2032e-04 - val_loss: 1.1363e-04\n",
      "Epoch 67/100\n",
      "206/206 [==============================] - 1s 6ms/step - loss: 1.1770e-04 - val_loss: 1.1966e-04\n",
      "Epoch 68/100\n",
      "206/206 [==============================] - 1s 6ms/step - loss: 1.1946e-04 - val_loss: 1.3439e-04\n",
      "Epoch 69/100\n",
      "206/206 [==============================] - 1s 6ms/step - loss: 1.2026e-04 - val_loss: 1.7779e-04\n",
      "Epoch 70/100\n",
      "206/206 [==============================] - 1s 6ms/step - loss: 1.1879e-04 - val_loss: 1.2201e-04\n",
      "Epoch 71/100\n",
      "206/206 [==============================] - 1s 6ms/step - loss: 1.1715e-04 - val_loss: 1.4092e-04\n",
      "Epoch 72/100\n",
      "206/206 [==============================] - 1s 6ms/step - loss: 1.1302e-04 - val_loss: 1.7385e-04\n",
      "Epoch 73/100\n",
      "206/206 [==============================] - 1s 6ms/step - loss: 1.1482e-04 - val_loss: 1.3542e-04\n",
      "Epoch 74/100\n",
      "206/206 [==============================] - 1s 6ms/step - loss: 1.2131e-04 - val_loss: 1.1883e-04\n",
      "Epoch 75/100\n"
     ]
    },
    {
     "name": "stdout",
     "output_type": "stream",
     "text": [
      "206/206 [==============================] - 1s 6ms/step - loss: 1.1193e-04 - val_loss: 1.1674e-04\n",
      "Epoch 76/100\n",
      "206/206 [==============================] - 1s 6ms/step - loss: 1.1851e-04 - val_loss: 1.1165e-04\n",
      "Epoch 77/100\n",
      "206/206 [==============================] - 1s 6ms/step - loss: 1.1465e-04 - val_loss: 1.1557e-04\n",
      "Epoch 78/100\n",
      "206/206 [==============================] - 1s 6ms/step - loss: 1.1171e-04 - val_loss: 2.6709e-04\n",
      "Epoch 79/100\n",
      "206/206 [==============================] - 1s 6ms/step - loss: 1.1405e-04 - val_loss: 1.0955e-04\n",
      "Epoch 80/100\n",
      "206/206 [==============================] - 1s 6ms/step - loss: 1.1868e-04 - val_loss: 1.1270e-04\n",
      "Epoch 81/100\n",
      "206/206 [==============================] - 1s 6ms/step - loss: 1.1722e-04 - val_loss: 1.1355e-04\n",
      "Epoch 82/100\n",
      "206/206 [==============================] - 1s 6ms/step - loss: 1.1185e-04 - val_loss: 1.1139e-04\n",
      "Epoch 83/100\n",
      "206/206 [==============================] - 1s 6ms/step - loss: 1.0892e-04 - val_loss: 1.1475e-04\n",
      "Epoch 84/100\n",
      "206/206 [==============================] - 1s 6ms/step - loss: 1.2170e-04 - val_loss: 3.4255e-04\n",
      "Epoch 85/100\n",
      "206/206 [==============================] - 1s 6ms/step - loss: 1.1293e-04 - val_loss: 1.2263e-04\n",
      "Epoch 86/100\n",
      "206/206 [==============================] - 1s 6ms/step - loss: 1.1200e-04 - val_loss: 1.1214e-04\n",
      "Epoch 87/100\n",
      "206/206 [==============================] - 1s 6ms/step - loss: 1.1564e-04 - val_loss: 1.1794e-04\n",
      "Epoch 88/100\n",
      "206/206 [==============================] - 1s 6ms/step - loss: 1.1149e-04 - val_loss: 1.9550e-04\n",
      "Epoch 89/100\n",
      "206/206 [==============================] - 1s 6ms/step - loss: 1.1372e-04 - val_loss: 1.2482e-04\n",
      "Epoch 90/100\n",
      "206/206 [==============================] - 1s 6ms/step - loss: 1.1329e-04 - val_loss: 1.1477e-04\n",
      "Epoch 91/100\n",
      "206/206 [==============================] - 1s 6ms/step - loss: 1.1347e-04 - val_loss: 1.6669e-04\n",
      "Epoch 92/100\n",
      "206/206 [==============================] - 1s 6ms/step - loss: 1.1291e-04 - val_loss: 1.9467e-04\n",
      "Epoch 93/100\n",
      "206/206 [==============================] - 1s 6ms/step - loss: 1.1498e-04 - val_loss: 1.2709e-04\n",
      "Epoch 94/100\n",
      "206/206 [==============================] - 1s 6ms/step - loss: 1.1904e-04 - val_loss: 1.3547e-04\n",
      "Epoch 95/100\n",
      "206/206 [==============================] - 1s 6ms/step - loss: 1.0995e-04 - val_loss: 1.2342e-04\n",
      "Epoch 96/100\n",
      "206/206 [==============================] - 1s 6ms/step - loss: 1.1339e-04 - val_loss: 1.3343e-04\n",
      "Epoch 97/100\n",
      "206/206 [==============================] - 1s 6ms/step - loss: 1.1753e-04 - val_loss: 1.2067e-04\n",
      "Epoch 98/100\n",
      "206/206 [==============================] - 1s 6ms/step - loss: 1.1909e-04 - val_loss: 1.4025e-04\n",
      "Epoch 99/100\n",
      "206/206 [==============================] - 1s 6ms/step - loss: 1.0781e-04 - val_loss: 1.1640e-04\n",
      "Epoch 100/100\n",
      "206/206 [==============================] - 1s 6ms/step - loss: 1.0575e-04 - val_loss: 1.1365e-04\n"
     ]
    },
    {
     "data": {
      "text/plain": [
       "<keras.callbacks.History at 0x53639b50>"
      ]
     },
     "execution_count": 11,
     "metadata": {},
     "output_type": "execute_result"
    }
   ],
   "source": [
    "layer_num = 20\n",
    "optimizer = 'adam'\n",
    "batch_size = 10\n",
    "epoch = 100\n",
    "\n",
    "model = Sequential()\n",
    "model.add(SimpleRNN(layer_num, return_sequences=True, input_shape=(history_points, len(x_train[0][0]))))\n",
    "model.add(SimpleRNN(layer_num))\n",
    "model.add(Dense(1))\n",
    "model.compile(loss='mean_squared_error', optimizer=optimizer)\n",
    "model.fit(x=x_train, y=y_train, batch_size=batch_size, epochs=epoch, shuffle=True, validation_split=0.1)"
   ]
  },
  {
   "cell_type": "code",
   "execution_count": 12,
   "metadata": {
    "id": "wAde8w5ETqrn"
   },
   "outputs": [
    {
     "data": {
      "image/png": "[encoded data removed]",
      "text/plain": [
       "<Figure size 432x288 with 1 Axes>"
      ]
     },
     "metadata": {
      "needs_background": "light"
     },
     "output_type": "display_data"
    },
    {
     "name": "stdout",
     "output_type": "stream",
     "text": [
      "MSE : 5860.6718314006375 , Scaled MSE : 317.2097404578426\n"
     ]
    }
   ],
   "source": [
    "y_test_predicted = model.predict(x_test)\n",
    "y_test_predicted = y_normaliser.inverse_transform(y_test_predicted)\n",
    "\n",
    "real_mse = np.mean(np.square(unscaled_y_test - y_test_predicted))\n",
    "scaled_mse = real_mse / (np.max(unscaled_y_test) - np.min(unscaled_y_test)) * 100\n",
    "\n",
    "real = plt.plot(unscaled_y_test, label='real')\n",
    "pred = plt.plot(y_test_predicted, label='predicted')\n",
    "plt.legend(['Real', 'Predicted'])\n",
    "plt.show()\n",
    "print('MSE :', real_mse, ', Scaled MSE :', scaled_mse)"
   ]
  },
  {
   "cell_type": "code",
   "execution_count": null,
   "metadata": {
    "id": "9TZ58YWBTssf"
   },
   "outputs": [],
   "source": []
  }
 ],
 "metadata": {
  "colab": {
   "name": "RNN.ipynb",
   "private_outputs": true,
   "provenance": []
  },
  "kernelspec": {
   "display_name": "Python 3",
   "language": "python",
   "name": "python3"
  },
  "language_info": {
   "codemirror_mode": {
    "name": "ipython",
    "version": 3
   },
   "file_extension": ".py",
   "mimetype": "text/x-python",
   "name": "python",
   "nbconvert_exporter": "python",
   "pygments_lexer": "ipython3",
   "version": "3.8.8"
  }
 },
 "nbformat": 4,
 "nbformat_minor": 1
}
