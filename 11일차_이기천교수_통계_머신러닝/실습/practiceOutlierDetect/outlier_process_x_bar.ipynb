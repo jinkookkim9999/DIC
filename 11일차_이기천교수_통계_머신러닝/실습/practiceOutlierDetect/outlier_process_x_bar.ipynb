{
 "cells": [
  {
   "cell_type": "code",
   "execution_count": 1,
   "metadata": {},
   "outputs": [
    {
     "name": "stdout",
     "output_type": "stream",
     "text": [
      "Group 5 out of mean control limits!\n"
     ]
    },
    {
     "data": {
      "image/png": "[encoded data removed]",
      "text/plain": [
       "<Figure size 432x288 with 1 Axes>"
      ]
     },
     "metadata": {
      "needs_background": "light"
     },
     "output_type": "display_data"
    }
   ],
   "source": [
    "# Import required libraries\n",
    "import numpy as np\n",
    "import pandas as pd\n",
    "import matplotlib.pyplot as plt\n",
    "import statistics\n",
    "\n",
    "\n",
    "# Set random seed\n",
    "np.random.seed(42)\n",
    "\n",
    "# Create dummy data\n",
    "x = np.array([list(np.random.normal(loc=10, scale=2, size=5)),\n",
    "        list(np.random.normal(loc=10, scale=2, size=5)),\n",
    "        list(np.random.normal(loc=10, scale=2, size=5)),\n",
    "        list(np.random.normal(loc=10, scale=2, size=5)),\n",
    "        list(np.random.normal(loc=10, scale=2, size=5)),\n",
    "        list(np.random.normal(loc=17, scale=2, size=5)),\n",
    "        list(np.random.normal(loc=10, scale=2, size=5)),\n",
    "        list(np.random.normal(loc=10, scale=2, size=5)),\n",
    "        list(np.random.normal(loc=10, scale=2, size=5)),\n",
    "        list(np.random.normal(loc=10, scale=2, size=5))])\n",
    "        \n",
    "# Define list variable for groups means\n",
    "x_bar = []\n",
    "\n",
    "# Define list variable for groups ranges\n",
    "r = [] \n",
    "\n",
    "# Get and append groups means and ranges\n",
    "for group in x:\n",
    "    x_bar.append(group.mean())\n",
    "    r.append(group.max() - group.min())\n",
    "\n",
    "# x-bar chart\n",
    "plt.plot(x_bar, linestyle='-', marker='o', color='black')\n",
    "plt.axhline((statistics.mean(x_bar)+0.577*statistics.mean(r)), color='red', linestyle='dashed')\n",
    "plt.axhline((statistics.mean(x_bar)-0.577*statistics.mean(r)), color='red', linestyle='dashed')\n",
    "plt.axhline((statistics.mean(x_bar)), color='blue')\n",
    "plt.xlabel('Group')\n",
    "plt.ylabel('Mean')\n",
    "plt.title('x-bar chart')\n",
    "\n",
    "# Validate points out of control limits for x-bar chart\n",
    "i = 0\n",
    "control = True\n",
    "for group in x_bar:\n",
    "    if group > statistics.mean(x_bar)+0.577*statistics.mean(r) or group < statistics.mean(x_bar)-0.577*statistics.mean(r):\n",
    "        print('Group', i, 'out of mean control limits!')\n",
    "        control = False\n",
    "    i += 1\n",
    "if control == True:\n",
    "    print('All points within control limits.')\n",
    "    \n"
   ]
  },
  {
   "cell_type": "code",
   "execution_count": null,
   "metadata": {},
   "outputs": [],
   "source": []
  }
 ],
 "metadata": {
  "kernelspec": {
   "display_name": "Python 3",
   "language": "python",
   "name": "python3"
  },
  "language_info": {
   "codemirror_mode": {
    "name": "ipython",
    "version": 3
   },
   "file_extension": ".py",
   "mimetype": "text/x-python",
   "name": "python",
   "nbconvert_exporter": "python",
   "pygments_lexer": "ipython3",
   "version": "3.8.8"
  }
 },
 "nbformat": 4,
 "nbformat_minor": 4
}
