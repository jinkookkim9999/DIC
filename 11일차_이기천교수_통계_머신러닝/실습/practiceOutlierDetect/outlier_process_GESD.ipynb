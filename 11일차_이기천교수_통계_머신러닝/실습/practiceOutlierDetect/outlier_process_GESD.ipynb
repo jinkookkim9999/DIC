{
 "cells": [
  {
   "cell_type": "code",
   "execution_count": 1,
   "metadata": {},
   "outputs": [],
   "source": [
    "import numpy as np\n",
    "import scipy.stats as stats"
   ]
  },
  {
   "cell_type": "code",
   "execution_count": 2,
   "metadata": {},
   "outputs": [],
   "source": [
    "import matplotlib.pyplot as plt\n",
    "import pandas as pd"
   ]
  },
  {
   "cell_type": "code",
   "execution_count": 3,
   "metadata": {},
   "outputs": [],
   "source": [
    "#Example Data 생성\n",
    "\n",
    "y=np.random.random(100)\n",
    "x=np.arange(len(y))"
   ]
  },
  {
   "cell_type": "code",
   "execution_count": 4,
   "metadata": {},
   "outputs": [
    {
     "data": {
      "image/png": "[encoded data removed]",
      "text/plain": [
       "<Figure size 432x288 with 1 Axes>"
      ]
     },
     "metadata": {
      "needs_background": "light"
     },
     "output_type": "display_data"
    }
   ],
   "source": [
    "plt.scatter(x,y)\n",
    "plt.show()"
   ]
  },
  {
   "cell_type": "code",
   "execution_count": 5,
   "metadata": {},
   "outputs": [],
   "source": [
    "# test static 계산하는 함수\n",
    "\n",
    "def test_stat(y, iteration):\n",
    "    std_dev=np.std(y)\n",
    "    avg_y=np.mean(y)\n",
    "    abs_val_minus_avg=abs(y-avg_y)\n",
    "    max_of_deviations=max(abs_val_minus_avg)\n",
    "    max_ind=np.argmax(abs_val_minus_avg)\n",
    "    cal=max_of_deviations/std_dev\n",
    "    print('Test Statistic Value(R{}): {}'.format(iteration,cal))\n",
    "    return cal, max_ind"
   ]
  },
  {
   "cell_type": "code",
   "execution_count": 6,
   "metadata": {},
   "outputs": [],
   "source": [
    "# Critical Value 계산하는 함수\n",
    "\n",
    "def calculate_critical_value(size, alpha, iteration):\n",
    "    t_dist=stats.t.ppf(1-alpha/(2*size),size-2)\n",
    "    numerator=(size-1)*np.sqrt(np.square(t_dist))\n",
    "    denominator=np.sqrt(size)*np.sqrt(size-2+np.square(t_dist))\n",
    "    critical_value=numerator/denominator\n",
    "    print('Critical Value(λ{}):{}'.format(iteration, critical_value))\n",
    "    return critical_value"
   ]
  },
  {
   "cell_type": "code",
   "execution_count": 7,
   "metadata": {},
   "outputs": [],
   "source": [
    "def check_values(R, C, inp, max_index, iteration):\n",
    "    if R > C:\n",
    "        print('{} is an outlier. R{} > λ{}: {:.4f} > {:.4f} \\n'.format(inp[max_index],iteration, iteration, R, C))\n",
    "    else:\n",
    "        print('{} is not an outlier. R{}> λ{}: {:.4f} > {:.4f} \\n'.format(inp[max_index],iteration, iteration, R, C))"
   ]
  },
  {
   "cell_type": "code",
   "execution_count": 11,
   "metadata": {},
   "outputs": [],
   "source": [
    "#GESD test 하는 함수\n",
    "\n",
    "def ESD_Test(input_series, alpha, max_outliers):\n",
    "    stats=[]\n",
    "    critical_vals=[]\n",
    "    max_i=0\n",
    "    for iterations in range(1, max_outliers+1):\n",
    "        stat, max_index=test_stat(input_series, iterations)\n",
    "        critical=calculate_critical_value(len(input_series),alpha,iterations)\n",
    "        check_values(stat, critical, input_series, max_index, iterations)\n",
    "        input_series=np.delete(input_series, max_index)\n",
    "        critical_vals.append(critical)\n",
    "        stats.append(stat)\n",
    "        if stat>critical:\n",
    "            max_i=iterations\n",
    "            \n",
    "    \n",
    "    df=pd.DataFrame({'i':range(1,max_outliers+1),'Ri':stats,'λi':critical_vals})\n",
    "    \n",
    "    def highlight_max(x):\n",
    "        if x.i==max_i:\n",
    "            return['background-color: yellow']*3\n",
    "        else:\n",
    "            return['background-color:white']*3\n",
    "        \n",
    "    df.index=df.index+1\n",
    "    print('Number of outliers {}'.format(max_i))\n",
    "    \n",
    "    return df.style.apply(highlight_max, axis=1)"
   ]
  },
  {
   "cell_type": "code",
   "execution_count": 12,
   "metadata": {},
   "outputs": [
    {
     "name": "stdout",
     "output_type": "stream",
     "text": [
      "Test Statistic Value(R1): 1.7755298600727716\n",
      "Critical Value(λ1):3.384082902288351\n",
      "0.0011189867823088173 is not an outlier. R1> λ1: 1.7755 > 3.3841 \n",
      "\n",
      "Test Statistic Value(R2): 1.7762051159350458\n",
      "Critical Value(λ2):3.380650508067058\n",
      "0.01164801686124628 is not an outlier. R2> λ2: 1.7762 > 3.3807 \n",
      "\n",
      "Test Statistic Value(R3): 1.7142010308843036\n",
      "Critical Value(λ3):3.377175980782947\n",
      "0.03963770331186234 is not an outlier. R3> λ3: 1.7142 > 3.3772 \n",
      "\n",
      "Test Statistic Value(R4): 1.7466140009126483\n",
      "Critical Value(λ4):3.3736583400522497\n",
      "0.040494255433385695 is not an outlier. R4> λ4: 1.7466 > 3.3737 \n",
      "\n",
      "Test Statistic Value(R5): 1.7149092454522543\n",
      "Critical Value(λ5):3.370096570986626\n",
      "0.05940635755282153 is not an outlier. R5> λ5: 1.7149 > 3.3701 \n",
      "\n",
      "Test Statistic Value(R6): 1.7346011570762276\n",
      "Critical Value(λ6):3.3664896240676505\n",
      "0.06389362929670728 is not an outlier. R6> λ6: 1.7346 > 3.3665 \n",
      "\n",
      "Test Statistic Value(R7): 1.7160343277020411\n",
      "Critical Value(λ7):3.362836413028039\n",
      "0.07893704005766555 is not an outlier. R7> λ7: 1.7160 > 3.3628 \n",
      "\n",
      "Number of outliers 0\n"
     ]
    },
    {
     "data": {
      "text/html": [
       "<style  type=\"text/css\" >\n",
       "#T_0c92e_row0_col0,#T_0c92e_row0_col1,#T_0c92e_row0_col2,#T_0c92e_row1_col0,#T_0c92e_row1_col1,#T_0c92e_row1_col2,#T_0c92e_row2_col0,#T_0c92e_row2_col1,#T_0c92e_row2_col2,#T_0c92e_row3_col0,#T_0c92e_row3_col1,#T_0c92e_row3_col2,#T_0c92e_row4_col0,#T_0c92e_row4_col1,#T_0c92e_row4_col2,#T_0c92e_row5_col0,#T_0c92e_row5_col1,#T_0c92e_row5_col2,#T_0c92e_row6_col0,#T_0c92e_row6_col1,#T_0c92e_row6_col2{\n",
       "            background-color: white;\n",
       "        }</style><table id=\"T_0c92e_\" ><thead>    <tr>        <th class=\"blank level0\" ></th>        <th class=\"col_heading level0 col0\" >i</th>        <th class=\"col_heading level0 col1\" >Ri</th>        <th class=\"col_heading level0 col2\" >λi</th>    </tr></thead><tbody>\n",
       "                <tr>\n",
       "                        <th id=\"T_0c92e_level0_row0\" class=\"row_heading level0 row0\" >1</th>\n",
       "                        <td id=\"T_0c92e_row0_col0\" class=\"data row0 col0\" >1</td>\n",
       "                        <td id=\"T_0c92e_row0_col1\" class=\"data row0 col1\" >1.775530</td>\n",
       "                        <td id=\"T_0c92e_row0_col2\" class=\"data row0 col2\" >3.384083</td>\n",
       "            </tr>\n",
       "            <tr>\n",
       "                        <th id=\"T_0c92e_level0_row1\" class=\"row_heading level0 row1\" >2</th>\n",
       "                        <td id=\"T_0c92e_row1_col0\" class=\"data row1 col0\" >2</td>\n",
       "                        <td id=\"T_0c92e_row1_col1\" class=\"data row1 col1\" >1.776205</td>\n",
       "                        <td id=\"T_0c92e_row1_col2\" class=\"data row1 col2\" >3.380651</td>\n",
       "            </tr>\n",
       "            <tr>\n",
       "                        <th id=\"T_0c92e_level0_row2\" class=\"row_heading level0 row2\" >3</th>\n",
       "                        <td id=\"T_0c92e_row2_col0\" class=\"data row2 col0\" >3</td>\n",
       "                        <td id=\"T_0c92e_row2_col1\" class=\"data row2 col1\" >1.714201</td>\n",
       "                        <td id=\"T_0c92e_row2_col2\" class=\"data row2 col2\" >3.377176</td>\n",
       "            </tr>\n",
       "            <tr>\n",
       "                        <th id=\"T_0c92e_level0_row3\" class=\"row_heading level0 row3\" >4</th>\n",
       "                        <td id=\"T_0c92e_row3_col0\" class=\"data row3 col0\" >4</td>\n",
       "                        <td id=\"T_0c92e_row3_col1\" class=\"data row3 col1\" >1.746614</td>\n",
       "                        <td id=\"T_0c92e_row3_col2\" class=\"data row3 col2\" >3.373658</td>\n",
       "            </tr>\n",
       "            <tr>\n",
       "                        <th id=\"T_0c92e_level0_row4\" class=\"row_heading level0 row4\" >5</th>\n",
       "                        <td id=\"T_0c92e_row4_col0\" class=\"data row4 col0\" >5</td>\n",
       "                        <td id=\"T_0c92e_row4_col1\" class=\"data row4 col1\" >1.714909</td>\n",
       "                        <td id=\"T_0c92e_row4_col2\" class=\"data row4 col2\" >3.370097</td>\n",
       "            </tr>\n",
       "            <tr>\n",
       "                        <th id=\"T_0c92e_level0_row5\" class=\"row_heading level0 row5\" >6</th>\n",
       "                        <td id=\"T_0c92e_row5_col0\" class=\"data row5 col0\" >6</td>\n",
       "                        <td id=\"T_0c92e_row5_col1\" class=\"data row5 col1\" >1.734601</td>\n",
       "                        <td id=\"T_0c92e_row5_col2\" class=\"data row5 col2\" >3.366490</td>\n",
       "            </tr>\n",
       "            <tr>\n",
       "                        <th id=\"T_0c92e_level0_row6\" class=\"row_heading level0 row6\" >7</th>\n",
       "                        <td id=\"T_0c92e_row6_col0\" class=\"data row6 col0\" >7</td>\n",
       "                        <td id=\"T_0c92e_row6_col1\" class=\"data row6 col1\" >1.716034</td>\n",
       "                        <td id=\"T_0c92e_row6_col2\" class=\"data row6 col2\" >3.362836</td>\n",
       "            </tr>\n",
       "    </tbody></table>"
      ],
      "text/plain": [
       "<pandas.io.formats.style.Styler at 0x1abf1340>"
      ]
     },
     "execution_count": 12,
     "metadata": {},
     "output_type": "execute_result"
    }
   ],
   "source": [
    "ESD_Test(y,0.05,7)"
   ]
  },
  {
   "cell_type": "code",
   "execution_count": null,
   "metadata": {},
   "outputs": [],
   "source": []
  }
 ],
 "metadata": {
  "kernelspec": {
   "display_name": "Python 3",
   "language": "python",
   "name": "python3"
  },
  "language_info": {
   "codemirror_mode": {
    "name": "ipython",
    "version": 3
   },
   "file_extension": ".py",
   "mimetype": "text/x-python",
   "name": "python",
   "nbconvert_exporter": "python",
   "pygments_lexer": "ipython3",
   "version": "3.8.8"
  }
 },
 "nbformat": 4,
 "nbformat_minor": 4
}
