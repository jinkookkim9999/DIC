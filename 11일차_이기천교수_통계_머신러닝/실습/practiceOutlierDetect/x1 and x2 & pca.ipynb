{
 "cells": [
  {
   "cell_type": "code",
   "execution_count": 1,
   "metadata": {},
   "outputs": [],
   "source": [
    "import pandas as pd\n",
    "from sklearn.decomposition import PCA\n",
    "import matplotlib.pyplot as plt\n",
    "from matplotlib.pyplot import figure"
   ]
  },
  {
   "cell_type": "code",
   "execution_count": 2,
   "metadata": {},
   "outputs": [],
   "source": [
    "### 2개 변수 PCA로 2개 컴포넌트 만드는 함수\n",
    "# df : 데이터프레임\n",
    "# col1,2 : column이름 1,2\n",
    "def PCAdf(df, col1, col2):\n",
    "    df0 = df.loc[:,['DEVICE_ID',col1, col2]]\n",
    "    returndf = pd.DataFrame()\n",
    "    for i in list(set(df0.DEVICE_ID)) :\n",
    "        df1 = df0.loc[df0['DEVICE_ID'] == i,:]\n",
    "        \n",
    "        pca = PCA(n_components=2)\n",
    "        components = pca.fit_transform(df1.loc[:,[col1,col2]])\n",
    "        dfk = pd.DataFrame(data = components, columns = ['pc1', 'pc2'])\n",
    "        dfk['DEVICE_ID'] = i\n",
    "        returndf = returndf.append(dfk)\n",
    "    returndf = returndf[['DEVICE_ID','pc1','pc2']]\n",
    "    return returndf"
   ]
  },
  {
   "cell_type": "code",
   "execution_count": 3,
   "metadata": {},
   "outputs": [
    {
     "ename": "NameError",
     "evalue": "name 'dailytotal' is not defined",
     "output_type": "error",
     "traceback": [
      "\u001b[1;31m---------------------------------------------------------------------------\u001b[0m",
      "\u001b[1;31mNameError\u001b[0m                                 Traceback (most recent call last)",
      "\u001b[1;32m<ipython-input-3-0bbf55875819>\u001b[0m in \u001b[0;36m<module>\u001b[1;34m\u001b[0m\n\u001b[0;32m      1\u001b[0m \u001b[1;31m### 시각화\u001b[0m\u001b[1;33m\u001b[0m\u001b[1;33m\u001b[0m\u001b[1;33m\u001b[0m\u001b[0m\n\u001b[1;32m----> 2\u001b[1;33m \u001b[0mpca_mo\u001b[0m \u001b[1;33m=\u001b[0m \u001b[0mPCAdf\u001b[0m\u001b[1;33m(\u001b[0m\u001b[0mdailytotal\u001b[0m\u001b[1;33m,\u001b[0m\u001b[1;34m'micro_t'\u001b[0m\u001b[1;33m,\u001b[0m\u001b[1;34m'oven_t'\u001b[0m\u001b[1;33m)\u001b[0m\u001b[1;33m\u001b[0m\u001b[1;33m\u001b[0m\u001b[0m\n\u001b[0m\u001b[0;32m      3\u001b[0m \u001b[0mdf\u001b[0m \u001b[1;33m=\u001b[0m \u001b[0mpca_mo\u001b[0m\u001b[1;33m.\u001b[0m\u001b[0mloc\u001b[0m\u001b[1;33m[\u001b[0m\u001b[0mpca_mo\u001b[0m\u001b[1;33m[\u001b[0m\u001b[1;34m'DEVICE_ID'\u001b[0m\u001b[1;33m]\u001b[0m \u001b[1;33m==\u001b[0m \u001b[1;34m'id_00128'\u001b[0m\u001b[1;33m,\u001b[0m \u001b[1;33m:\u001b[0m\u001b[1;33m]\u001b[0m\u001b[1;33m\u001b[0m\u001b[1;33m\u001b[0m\u001b[0m\n\u001b[0;32m      4\u001b[0m \u001b[1;33m\u001b[0m\u001b[0m\n\u001b[0;32m      5\u001b[0m \u001b[0mfigure\u001b[0m\u001b[1;33m(\u001b[0m\u001b[0mfigsize\u001b[0m\u001b[1;33m=\u001b[0m\u001b[1;33m(\u001b[0m\u001b[1;36m5\u001b[0m\u001b[1;33m,\u001b[0m \u001b[1;36m5\u001b[0m\u001b[1;33m)\u001b[0m\u001b[1;33m,\u001b[0m \u001b[0mdpi\u001b[0m\u001b[1;33m=\u001b[0m\u001b[1;36m80\u001b[0m\u001b[1;33m)\u001b[0m\u001b[1;33m\u001b[0m\u001b[1;33m\u001b[0m\u001b[0m\n",
      "\u001b[1;31mNameError\u001b[0m: name 'dailytotal' is not defined"
     ]
    }
   ],
   "source": [
    "### 시각화\n",
    "pca_mo = PCAdf(dailytotal,'micro_t','oven_t')\n",
    "df = pca_mo.loc[pca_mo['DEVICE_ID'] == 'id_00128', :]\n",
    "\n",
    "figure(figsize=(5, 5), dpi=80)\n",
    "plt.scatter(df['pc1'], df['pc2'])\n",
    "plt.plot([min(df.iloc[:,1]), max(df.iloc[:,1])], [np.mean(df.iloc[:,1]),np.mean(df.iloc[:,1])], 'k-', lw=2)\n",
    "plt.plot([np.mean(df.iloc[:,2]),np.mean(df.iloc[:,2])], [min(df.iloc[:,2]), max(df.iloc[:,2])], 'k-', lw=2)\n",
    "\n",
    "figure(figsize=(10, 5), dpi=80)\n",
    "plt.plot(range(df.shape[0]), df['pc1'], marker = 'o')\n",
    "plt.plot([0, df.shape[0]], [np.mean(df.iloc[:,1]),np.mean(df.iloc[:,1])], 'k-', lw=2)\n",
    "\n",
    "figure(figsize=(10, 5), dpi=80)\n",
    "plt.plot(range(df.shape[0]), df['pc2'], marker = 'o')\n",
    "plt.plot([0, df.shape[0]], [np.mean(df.iloc[:,2]),np.mean(df.iloc[:,2])], 'k-', lw=2)"
   ]
  },
  {
   "cell_type": "code",
   "execution_count": null,
   "metadata": {},
   "outputs": [],
   "source": []
  }
 ],
 "metadata": {
  "kernelspec": {
   "display_name": "Python 3",
   "language": "python",
   "name": "python3"
  },
  "language_info": {
   "codemirror_mode": {
    "name": "ipython",
    "version": 3
   },
   "file_extension": ".py",
   "mimetype": "text/x-python",
   "name": "python",
   "nbconvert_exporter": "python",
   "pygments_lexer": "ipython3",
   "version": "3.8.8"
  }
 },
 "nbformat": 4,
 "nbformat_minor": 4
}
