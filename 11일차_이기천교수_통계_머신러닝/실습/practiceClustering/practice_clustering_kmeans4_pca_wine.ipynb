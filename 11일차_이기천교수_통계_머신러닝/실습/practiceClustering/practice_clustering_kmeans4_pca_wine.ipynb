{
 "cells": [
  {
   "cell_type": "code",
   "execution_count": 1,
   "id": "c64b8f89",
   "metadata": {},
   "outputs": [
    {
     "data": {
      "text/html": [
       "<div>\n",
       "<style scoped>\n",
       "    .dataframe tbody tr th:only-of-type {\n",
       "        vertical-align: middle;\n",
       "    }\n",
       "\n",
       "    .dataframe tbody tr th {\n",
       "        vertical-align: top;\n",
       "    }\n",
       "\n",
       "    .dataframe thead th {\n",
       "        text-align: right;\n",
       "    }\n",
       "</style>\n",
       "<table border=\"1\" class=\"dataframe\">\n",
       "  <thead>\n",
       "    <tr style=\"text-align: right;\">\n",
       "      <th></th>\n",
       "      <th>Id</th>\n",
       "      <th>SepalLengthCm</th>\n",
       "      <th>SepalWidthCm</th>\n",
       "      <th>PetalLengthCm</th>\n",
       "      <th>PetalWidthCm</th>\n",
       "      <th>Species</th>\n",
       "    </tr>\n",
       "  </thead>\n",
       "  <tbody>\n",
       "    <tr>\n",
       "      <th>0</th>\n",
       "      <td>1</td>\n",
       "      <td>5.1</td>\n",
       "      <td>3.5</td>\n",
       "      <td>1.4</td>\n",
       "      <td>0.2</td>\n",
       "      <td>Iris-setosa</td>\n",
       "    </tr>\n",
       "    <tr>\n",
       "      <th>1</th>\n",
       "      <td>2</td>\n",
       "      <td>4.9</td>\n",
       "      <td>3.0</td>\n",
       "      <td>1.4</td>\n",
       "      <td>0.2</td>\n",
       "      <td>Iris-setosa</td>\n",
       "    </tr>\n",
       "    <tr>\n",
       "      <th>2</th>\n",
       "      <td>3</td>\n",
       "      <td>4.7</td>\n",
       "      <td>3.2</td>\n",
       "      <td>1.3</td>\n",
       "      <td>0.2</td>\n",
       "      <td>Iris-setosa</td>\n",
       "    </tr>\n",
       "    <tr>\n",
       "      <th>3</th>\n",
       "      <td>4</td>\n",
       "      <td>4.6</td>\n",
       "      <td>3.1</td>\n",
       "      <td>1.5</td>\n",
       "      <td>0.2</td>\n",
       "      <td>Iris-setosa</td>\n",
       "    </tr>\n",
       "    <tr>\n",
       "      <th>4</th>\n",
       "      <td>5</td>\n",
       "      <td>5.0</td>\n",
       "      <td>3.6</td>\n",
       "      <td>1.4</td>\n",
       "      <td>0.2</td>\n",
       "      <td>Iris-setosa</td>\n",
       "    </tr>\n",
       "    <tr>\n",
       "      <th>5</th>\n",
       "      <td>6</td>\n",
       "      <td>5.4</td>\n",
       "      <td>3.9</td>\n",
       "      <td>1.7</td>\n",
       "      <td>0.4</td>\n",
       "      <td>Iris-setosa</td>\n",
       "    </tr>\n",
       "  </tbody>\n",
       "</table>\n",
       "</div>"
      ],
      "text/plain": [
       "   Id  SepalLengthCm  SepalWidthCm  PetalLengthCm  PetalWidthCm      Species\n",
       "0   1            5.1           3.5            1.4           0.2  Iris-setosa\n",
       "1   2            4.9           3.0            1.4           0.2  Iris-setosa\n",
       "2   3            4.7           3.2            1.3           0.2  Iris-setosa\n",
       "3   4            4.6           3.1            1.5           0.2  Iris-setosa\n",
       "4   5            5.0           3.6            1.4           0.2  Iris-setosa\n",
       "5   6            5.4           3.9            1.7           0.4  Iris-setosa"
      ]
     },
     "execution_count": 1,
     "metadata": {},
     "output_type": "execute_result"
    }
   ],
   "source": [
    "from sklearn.cluster import KMeans\n",
    "import numpy as np\n",
    "import matplotlib.pyplot as plt\n",
    "import pandas as pd\n",
    "\n",
    "\n",
    "Iris = pd.read_csv('Iris.csv')\n",
    "x1 = np.array(Iris['SepalLengthCm'])\n",
    "x2 = np.array(Iris['PetalWidthCm'])\n",
    "\n",
    "Iris.head(n=6)"
   ]
  },
  {
   "cell_type": "code",
   "execution_count": 2,
   "id": "583ca5fe",
   "metadata": {},
   "outputs": [
    {
     "data": {
      "image/png": "[encoded data removed]",
      "text/plain": [
       "<Figure size 432x288 with 1 Axes>"
      ]
     },
     "metadata": {
      "needs_background": "light"
     },
     "output_type": "display_data"
    },
    {
     "data": {
      "image/png": "[encoded data removed]",
      "text/plain": [
       "<Figure size 432x288 with 1 Axes>"
      ]
     },
     "metadata": {
      "needs_background": "light"
     },
     "output_type": "display_data"
    }
   ],
   "source": [
    "plt.plot()\n",
    "plt.title('Dataset')\n",
    "plt.scatter(x1, x2)\n",
    "plt.show()\n",
    "\n",
    "# create new plot and data\n",
    "\n",
    "X = np.array(list(zip(x1, x2)))\n",
    "colors = ['b', 'g', 'r']\n",
    "markers = ['o', 'v', 's']\n",
    "plt.ylabel('Length')\n",
    "\n",
    "\n",
    "kmeans = KMeans(n_clusters=3).fit(X)\n",
    "plt.scatter(kmeans.cluster_centers_[:, 0], kmeans.cluster_centers_[:, 1], s = 200, c = 'yellow', label = 'Centroids')\n",
    "\n",
    "\n",
    "for i, l in enumerate(kmeans.labels_):\n",
    "    plt.plot(x1[i], x2[i], color=colors[l], marker=markers[l])\n",
    "plt.xlabel('Width')\n",
    "plt.legend()\n",
    "plt.show()"
   ]
  },
  {
   "cell_type": "code",
   "execution_count": 3,
   "id": "ded9bc0a",
   "metadata": {},
   "outputs": [
    {
     "data": {
      "text/html": [
       "<div>\n",
       "<style scoped>\n",
       "    .dataframe tbody tr th:only-of-type {\n",
       "        vertical-align: middle;\n",
       "    }\n",
       "\n",
       "    .dataframe tbody tr th {\n",
       "        vertical-align: top;\n",
       "    }\n",
       "\n",
       "    .dataframe thead th {\n",
       "        text-align: right;\n",
       "    }\n",
       "</style>\n",
       "<table border=\"1\" class=\"dataframe\">\n",
       "  <thead>\n",
       "    <tr style=\"text-align: right;\">\n",
       "      <th></th>\n",
       "      <th>Alcohol</th>\n",
       "      <th>Malic.acid</th>\n",
       "      <th>Ash</th>\n",
       "      <th>Acl</th>\n",
       "      <th>Mg</th>\n",
       "      <th>Phenols</th>\n",
       "      <th>Flavanoids</th>\n",
       "      <th>Nonflavanoid.phenols</th>\n",
       "      <th>Proanth</th>\n",
       "      <th>Color.int</th>\n",
       "      <th>Hue</th>\n",
       "      <th>OD</th>\n",
       "      <th>Proline</th>\n",
       "    </tr>\n",
       "  </thead>\n",
       "  <tbody>\n",
       "    <tr>\n",
       "      <th>0</th>\n",
       "      <td>14.23</td>\n",
       "      <td>1.71</td>\n",
       "      <td>2.43</td>\n",
       "      <td>15.6</td>\n",
       "      <td>127</td>\n",
       "      <td>2.80</td>\n",
       "      <td>3.06</td>\n",
       "      <td>0.28</td>\n",
       "      <td>2.29</td>\n",
       "      <td>5.64</td>\n",
       "      <td>1.04</td>\n",
       "      <td>3.92</td>\n",
       "      <td>1065</td>\n",
       "    </tr>\n",
       "    <tr>\n",
       "      <th>1</th>\n",
       "      <td>13.20</td>\n",
       "      <td>1.78</td>\n",
       "      <td>2.14</td>\n",
       "      <td>11.2</td>\n",
       "      <td>100</td>\n",
       "      <td>2.65</td>\n",
       "      <td>2.76</td>\n",
       "      <td>0.26</td>\n",
       "      <td>1.28</td>\n",
       "      <td>4.38</td>\n",
       "      <td>1.05</td>\n",
       "      <td>3.40</td>\n",
       "      <td>1050</td>\n",
       "    </tr>\n",
       "    <tr>\n",
       "      <th>2</th>\n",
       "      <td>13.16</td>\n",
       "      <td>2.36</td>\n",
       "      <td>2.67</td>\n",
       "      <td>18.6</td>\n",
       "      <td>101</td>\n",
       "      <td>2.80</td>\n",
       "      <td>3.24</td>\n",
       "      <td>0.30</td>\n",
       "      <td>2.81</td>\n",
       "      <td>5.68</td>\n",
       "      <td>1.03</td>\n",
       "      <td>3.17</td>\n",
       "      <td>1185</td>\n",
       "    </tr>\n",
       "    <tr>\n",
       "      <th>3</th>\n",
       "      <td>14.37</td>\n",
       "      <td>1.95</td>\n",
       "      <td>2.50</td>\n",
       "      <td>16.8</td>\n",
       "      <td>113</td>\n",
       "      <td>3.85</td>\n",
       "      <td>3.49</td>\n",
       "      <td>0.24</td>\n",
       "      <td>2.18</td>\n",
       "      <td>7.80</td>\n",
       "      <td>0.86</td>\n",
       "      <td>3.45</td>\n",
       "      <td>1480</td>\n",
       "    </tr>\n",
       "    <tr>\n",
       "      <th>4</th>\n",
       "      <td>13.24</td>\n",
       "      <td>2.59</td>\n",
       "      <td>2.87</td>\n",
       "      <td>21.0</td>\n",
       "      <td>118</td>\n",
       "      <td>2.80</td>\n",
       "      <td>2.69</td>\n",
       "      <td>0.39</td>\n",
       "      <td>1.82</td>\n",
       "      <td>4.32</td>\n",
       "      <td>1.04</td>\n",
       "      <td>2.93</td>\n",
       "      <td>735</td>\n",
       "    </tr>\n",
       "    <tr>\n",
       "      <th>...</th>\n",
       "      <td>...</td>\n",
       "      <td>...</td>\n",
       "      <td>...</td>\n",
       "      <td>...</td>\n",
       "      <td>...</td>\n",
       "      <td>...</td>\n",
       "      <td>...</td>\n",
       "      <td>...</td>\n",
       "      <td>...</td>\n",
       "      <td>...</td>\n",
       "      <td>...</td>\n",
       "      <td>...</td>\n",
       "      <td>...</td>\n",
       "    </tr>\n",
       "    <tr>\n",
       "      <th>171</th>\n",
       "      <td>13.71</td>\n",
       "      <td>5.65</td>\n",
       "      <td>2.45</td>\n",
       "      <td>20.5</td>\n",
       "      <td>95</td>\n",
       "      <td>1.68</td>\n",
       "      <td>0.61</td>\n",
       "      <td>0.52</td>\n",
       "      <td>1.06</td>\n",
       "      <td>7.70</td>\n",
       "      <td>0.64</td>\n",
       "      <td>1.74</td>\n",
       "      <td>740</td>\n",
       "    </tr>\n",
       "    <tr>\n",
       "      <th>172</th>\n",
       "      <td>13.40</td>\n",
       "      <td>3.91</td>\n",
       "      <td>2.48</td>\n",
       "      <td>23.0</td>\n",
       "      <td>102</td>\n",
       "      <td>1.80</td>\n",
       "      <td>0.75</td>\n",
       "      <td>0.43</td>\n",
       "      <td>1.41</td>\n",
       "      <td>7.30</td>\n",
       "      <td>0.70</td>\n",
       "      <td>1.56</td>\n",
       "      <td>750</td>\n",
       "    </tr>\n",
       "    <tr>\n",
       "      <th>173</th>\n",
       "      <td>13.27</td>\n",
       "      <td>4.28</td>\n",
       "      <td>2.26</td>\n",
       "      <td>20.0</td>\n",
       "      <td>120</td>\n",
       "      <td>1.59</td>\n",
       "      <td>0.69</td>\n",
       "      <td>0.43</td>\n",
       "      <td>1.35</td>\n",
       "      <td>10.20</td>\n",
       "      <td>0.59</td>\n",
       "      <td>1.56</td>\n",
       "      <td>835</td>\n",
       "    </tr>\n",
       "    <tr>\n",
       "      <th>174</th>\n",
       "      <td>13.17</td>\n",
       "      <td>2.59</td>\n",
       "      <td>2.37</td>\n",
       "      <td>20.0</td>\n",
       "      <td>120</td>\n",
       "      <td>1.65</td>\n",
       "      <td>0.68</td>\n",
       "      <td>0.53</td>\n",
       "      <td>1.46</td>\n",
       "      <td>9.30</td>\n",
       "      <td>0.60</td>\n",
       "      <td>1.62</td>\n",
       "      <td>840</td>\n",
       "    </tr>\n",
       "    <tr>\n",
       "      <th>175</th>\n",
       "      <td>14.13</td>\n",
       "      <td>4.10</td>\n",
       "      <td>2.74</td>\n",
       "      <td>24.5</td>\n",
       "      <td>96</td>\n",
       "      <td>2.05</td>\n",
       "      <td>0.76</td>\n",
       "      <td>0.56</td>\n",
       "      <td>1.35</td>\n",
       "      <td>9.20</td>\n",
       "      <td>0.61</td>\n",
       "      <td>1.60</td>\n",
       "      <td>560</td>\n",
       "    </tr>\n",
       "  </tbody>\n",
       "</table>\n",
       "<p>176 rows × 13 columns</p>\n",
       "</div>"
      ],
      "text/plain": [
       "     Alcohol  Malic.acid   Ash   Acl   Mg  Phenols  Flavanoids  \\\n",
       "0      14.23        1.71  2.43  15.6  127     2.80        3.06   \n",
       "1      13.20        1.78  2.14  11.2  100     2.65        2.76   \n",
       "2      13.16        2.36  2.67  18.6  101     2.80        3.24   \n",
       "3      14.37        1.95  2.50  16.8  113     3.85        3.49   \n",
       "4      13.24        2.59  2.87  21.0  118     2.80        2.69   \n",
       "..       ...         ...   ...   ...  ...      ...         ...   \n",
       "171    13.71        5.65  2.45  20.5   95     1.68        0.61   \n",
       "172    13.40        3.91  2.48  23.0  102     1.80        0.75   \n",
       "173    13.27        4.28  2.26  20.0  120     1.59        0.69   \n",
       "174    13.17        2.59  2.37  20.0  120     1.65        0.68   \n",
       "175    14.13        4.10  2.74  24.5   96     2.05        0.76   \n",
       "\n",
       "     Nonflavanoid.phenols  Proanth  Color.int   Hue    OD  Proline  \n",
       "0                    0.28     2.29       5.64  1.04  3.92     1065  \n",
       "1                    0.26     1.28       4.38  1.05  3.40     1050  \n",
       "2                    0.30     2.81       5.68  1.03  3.17     1185  \n",
       "3                    0.24     2.18       7.80  0.86  3.45     1480  \n",
       "4                    0.39     1.82       4.32  1.04  2.93      735  \n",
       "..                    ...      ...        ...   ...   ...      ...  \n",
       "171                  0.52     1.06       7.70  0.64  1.74      740  \n",
       "172                  0.43     1.41       7.30  0.70  1.56      750  \n",
       "173                  0.43     1.35      10.20  0.59  1.56      835  \n",
       "174                  0.53     1.46       9.30  0.60  1.62      840  \n",
       "175                  0.56     1.35       9.20  0.61  1.60      560  \n",
       "\n",
       "[176 rows x 13 columns]"
      ]
     },
     "execution_count": 3,
     "metadata": {},
     "output_type": "execute_result"
    }
   ],
   "source": [
    "WineData = pd.read_csv('wineTraining.csv')\n",
    "WineData.head(n=6)\n",
    "#WineDataQuality = WineData[0:WineData.shape[0]][0:1]\n",
    "#WineDataQuality = WineData[0:][0:1]\n",
    "WineDataQuality = WineData['Wine']\n",
    "#WineInput = WineData.loc[:, WineData.columns != 'Wine']\n",
    "WineInput = WineData.loc[:, ~WineData.columns.isin(['Wine'])]\n",
    "WineInput"
   ]
  },
  {
   "cell_type": "code",
   "execution_count": 4,
   "id": "58a399b6",
   "metadata": {
    "scrolled": true
   },
   "outputs": [
    {
     "name": "stdout",
     "output_type": "stream",
     "text": [
      "-8.384901165001182e-17      1.0\n",
      "      0     1     2     3      4     5     6     7     8     9     10    11  \\\n",
      "0  14.23  1.71  2.43  15.6  127.0  2.80  3.06  0.28  2.29  5.64  1.04  3.92   \n",
      "1  13.20  1.78  2.14  11.2  100.0  2.65  2.76  0.26  1.28  4.38  1.05  3.40   \n",
      "2  13.16  2.36  2.67  18.6  101.0  2.80  3.24  0.30  2.81  5.68  1.03  3.17   \n",
      "3  14.37  1.95  2.50  16.8  113.0  3.85  3.49  0.24  2.18  7.80  0.86  3.45   \n",
      "4  13.24  2.59  2.87  21.0  118.0  2.80  2.69  0.39  1.82  4.32  1.04  2.93   \n",
      "\n",
      "       12  \n",
      "0  1065.0  \n",
      "1  1050.0  \n",
      "2  1185.0  \n",
      "3  1480.0  \n",
      "4   735.0  \n",
      "         0         1         2         3         4         5         6   \\\n",
      "0  1.517774 -0.559685  0.233940 -1.167670  1.910743  0.820184  1.044971   \n",
      "1  0.244734 -0.496530 -0.820855 -2.486193  0.013574  0.578980  0.743092   \n",
      "2  0.195296  0.026759  1.106873 -0.268676  0.083840  0.820184  1.226098   \n",
      "3  1.690809 -0.343152  0.488545 -0.808072  0.927026  2.508610  1.477664   \n",
      "4  0.294173  0.234270  1.834317  0.450518  1.278353  0.820184  0.672653   \n",
      "\n",
      "         7         8         9         10        11        12  \n",
      "0 -0.665037  1.222788  0.249743  0.354946  1.839946  1.023298  \n",
      "1 -0.826258 -0.540805 -0.294829  0.398650  1.109332  0.975364  \n",
      "2 -0.503816  2.130777  0.267031  0.311242  0.786176  1.406776  \n",
      "3 -0.987479  1.030714  1.183296 -0.431726  1.179584  2.349493  \n",
      "4  0.221679  0.402106 -0.320761  0.354946  0.448970 -0.031267  \n",
      "[[0. 0. 0. 0. 0. 0. 0. 0. 0. 0. 0. 0. 0.]]\n"
     ]
    }
   ],
   "source": [
    "#https://www.datacamp.com/community/tutorials/principal-component-analysis-in-python\n",
    "from sklearn.preprocessing import StandardScaler\n",
    "x = WineInput.values\n",
    "#x = StandardScaler().fit_transform(x) # normalizing the features\n",
    "stdscalar = StandardScaler()\n",
    "stdscalar.fit(x)\n",
    "x = stdscalar.transform(x)\n",
    "print( np.mean(x),\"    \", np.std(x) )\n",
    "print(pd.DataFrame(WineInput.values).head())\n",
    "print(pd.DataFrame(x).head())\n",
    "\n",
    "print( stdscalar.transform(WineInput.values[0:1]) - x[0:1,])\n",
    "#print( x[0:1,])"
   ]
  },
  {
   "cell_type": "code",
   "execution_count": 5,
   "id": "9ff8ac2a",
   "metadata": {
    "scrolled": true
   },
   "outputs": [
    {
     "data": {
      "text/html": [
       "<div>\n",
       "<style scoped>\n",
       "    .dataframe tbody tr th:only-of-type {\n",
       "        vertical-align: middle;\n",
       "    }\n",
       "\n",
       "    .dataframe tbody tr th {\n",
       "        vertical-align: top;\n",
       "    }\n",
       "\n",
       "    .dataframe thead th {\n",
       "        text-align: right;\n",
       "    }\n",
       "</style>\n",
       "<table border=\"1\" class=\"dataframe\">\n",
       "  <thead>\n",
       "    <tr style=\"text-align: right;\">\n",
       "      <th></th>\n",
       "      <th>feature0</th>\n",
       "      <th>feature1</th>\n",
       "      <th>feature2</th>\n",
       "      <th>feature3</th>\n",
       "      <th>feature4</th>\n",
       "      <th>feature5</th>\n",
       "      <th>feature6</th>\n",
       "      <th>feature7</th>\n",
       "      <th>feature8</th>\n",
       "      <th>feature9</th>\n",
       "      <th>feature10</th>\n",
       "      <th>feature11</th>\n",
       "      <th>feature12</th>\n",
       "    </tr>\n",
       "  </thead>\n",
       "  <tbody>\n",
       "    <tr>\n",
       "      <th>171</th>\n",
       "      <td>0.875075</td>\n",
       "      <td>2.995070</td>\n",
       "      <td>0.306684</td>\n",
       "      <td>0.300686</td>\n",
       "      <td>-0.337754</td>\n",
       "      <td>-0.980804</td>\n",
       "      <td>-1.420376</td>\n",
       "      <td>1.269616</td>\n",
       "      <td>-0.924954</td>\n",
       "      <td>1.140076</td>\n",
       "      <td>-1.393215</td>\n",
       "      <td>-1.223012</td>\n",
       "      <td>-0.015288</td>\n",
       "    </tr>\n",
       "    <tr>\n",
       "      <th>172</th>\n",
       "      <td>0.491927</td>\n",
       "      <td>1.425203</td>\n",
       "      <td>0.415801</td>\n",
       "      <td>1.049847</td>\n",
       "      <td>0.154105</td>\n",
       "      <td>-0.787841</td>\n",
       "      <td>-1.279499</td>\n",
       "      <td>0.544121</td>\n",
       "      <td>-0.313808</td>\n",
       "      <td>0.967196</td>\n",
       "      <td>-1.130991</td>\n",
       "      <td>-1.475917</td>\n",
       "      <td>0.016668</td>\n",
       "    </tr>\n",
       "    <tr>\n",
       "      <th>173</th>\n",
       "      <td>0.331252</td>\n",
       "      <td>1.759025</td>\n",
       "      <td>-0.384388</td>\n",
       "      <td>0.150854</td>\n",
       "      <td>1.418884</td>\n",
       "      <td>-1.125526</td>\n",
       "      <td>-1.339875</td>\n",
       "      <td>0.544121</td>\n",
       "      <td>-0.418576</td>\n",
       "      <td>2.220577</td>\n",
       "      <td>-1.611735</td>\n",
       "      <td>-1.475917</td>\n",
       "      <td>0.288299</td>\n",
       "    </tr>\n",
       "    <tr>\n",
       "      <th>174</th>\n",
       "      <td>0.207656</td>\n",
       "      <td>0.234270</td>\n",
       "      <td>0.015706</td>\n",
       "      <td>0.150854</td>\n",
       "      <td>1.418884</td>\n",
       "      <td>-1.029045</td>\n",
       "      <td>-1.349937</td>\n",
       "      <td>1.350227</td>\n",
       "      <td>-0.226501</td>\n",
       "      <td>1.831597</td>\n",
       "      <td>-1.568031</td>\n",
       "      <td>-1.391615</td>\n",
       "      <td>0.304277</td>\n",
       "    </tr>\n",
       "    <tr>\n",
       "      <th>175</th>\n",
       "      <td>1.394178</td>\n",
       "      <td>1.596625</td>\n",
       "      <td>1.361478</td>\n",
       "      <td>1.499344</td>\n",
       "      <td>-0.267488</td>\n",
       "      <td>-0.385835</td>\n",
       "      <td>-1.269436</td>\n",
       "      <td>1.592058</td>\n",
       "      <td>-0.418576</td>\n",
       "      <td>1.788377</td>\n",
       "      <td>-1.524327</td>\n",
       "      <td>-1.419716</td>\n",
       "      <td>-0.590505</td>\n",
       "    </tr>\n",
       "  </tbody>\n",
       "</table>\n",
       "</div>"
      ],
      "text/plain": [
       "     feature0  feature1  feature2  feature3  feature4  feature5  feature6  \\\n",
       "171  0.875075  2.995070  0.306684  0.300686 -0.337754 -0.980804 -1.420376   \n",
       "172  0.491927  1.425203  0.415801  1.049847  0.154105 -0.787841 -1.279499   \n",
       "173  0.331252  1.759025 -0.384388  0.150854  1.418884 -1.125526 -1.339875   \n",
       "174  0.207656  0.234270  0.015706  0.150854  1.418884 -1.029045 -1.349937   \n",
       "175  1.394178  1.596625  1.361478  1.499344 -0.267488 -0.385835 -1.269436   \n",
       "\n",
       "     feature7  feature8  feature9  feature10  feature11  feature12  \n",
       "171  1.269616 -0.924954  1.140076  -1.393215  -1.223012  -0.015288  \n",
       "172  0.544121 -0.313808  0.967196  -1.130991  -1.475917   0.016668  \n",
       "173  0.544121 -0.418576  2.220577  -1.611735  -1.475917   0.288299  \n",
       "174  1.350227 -0.226501  1.831597  -1.568031  -1.391615   0.304277  \n",
       "175  1.592058 -0.418576  1.788377  -1.524327  -1.419716  -0.590505  "
      ]
     },
     "execution_count": 5,
     "metadata": {},
     "output_type": "execute_result"
    }
   ],
   "source": [
    "feat_cols = ['feature'+str(i) for i in range(x.shape[1])]\n",
    "normalised_WineInput = pd.DataFrame(x,columns=feat_cols)\n",
    "normalised_WineInput.tail()"
   ]
  },
  {
   "cell_type": "code",
   "execution_count": 6,
   "id": "84b95c42",
   "metadata": {
    "scrolled": false
   },
   "outputs": [
    {
     "name": "stdout",
     "output_type": "stream",
     "text": [
      "   principal component 1  principal component 2\n",
      "0               3.297216              -1.506775\n",
      "1               2.216579               0.295792\n",
      "2               2.511061              -1.085602\n",
      "3               3.723472              -2.822511\n"
     ]
    }
   ],
   "source": [
    "from sklearn.decomposition import PCA\n",
    "pca_wine = PCA(n_components=2)\n",
    "#principalComponents_Wine = pca_wine.fit_transform(x)\n",
    "pca_wine.fit(x)\n",
    "principalComponents_Wine = pca_wine.transform(x)\n",
    "\n",
    "principal_wine_Df = pd.DataFrame(data = principalComponents_Wine\n",
    "             , columns = ['principal component 1', 'principal component 2'])\n",
    "#print(principal_wine_Df.tail(n=8))\n",
    "print(principal_wine_Df.head(n=4))\n",
    "\n",
    "#print(pca_wine.explained_variance_ratio_)"
   ]
  },
  {
   "cell_type": "code",
   "execution_count": 7,
   "id": "b4b7c9d7",
   "metadata": {},
   "outputs": [
    {
     "name": "stdout",
     "output_type": "stream",
     "text": [
      "[[ 3.29721551 -1.5067748 ]\n",
      " [ 2.21657903  0.29579202]]\n",
      "[[ 3.29721551 -1.5067748 ]\n",
      " [ 2.21657903  0.29579202]]\n"
     ]
    }
   ],
   "source": [
    "#WineDataQuality\n",
    "#print( np.unique (WineDataQuality) )\n",
    "\n",
    "#stdscalar2.transform(WineInput.values[0:1])\n",
    "\n",
    "#print( pca_wine.fit_transform(x,stdscalar2.transform(WineInput.values[0:1]) ) )\n",
    "#WineDataQuality[WineDataQuality == 1]\n",
    "#print(stdscalar2.transform(WineInput.values[0:1]))\n",
    "print( pca_wine.transform( stdscalar.transform(WineInput.values[0:2]) )) \n",
    "print(principalComponents_Wine[0:2])\n",
    "#print(principalComponents_Wine[0:2,1])\n",
    "#print( principalComponents_Wine.shape )"
   ]
  },
  {
   "cell_type": "code",
   "execution_count": 8,
   "id": "4b243218",
   "metadata": {},
   "outputs": [
    {
     "data": {
      "text/plain": [
       "<matplotlib.legend.Legend at 0x1d0c1970>"
      ]
     },
     "execution_count": 8,
     "metadata": {},
     "output_type": "execute_result"
    },
    {
     "data": {
      "text/plain": [
       "<Figure size 432x288 with 0 Axes>"
      ]
     },
     "metadata": {},
     "output_type": "display_data"
    },
    {
     "data": {
      "image/png": "[encoded data removed]",
      "text/plain": [
       "<Figure size 720x720 with 1 Axes>"
      ]
     },
     "metadata": {
      "needs_background": "light"
     },
     "output_type": "display_data"
    }
   ],
   "source": [
    "plt.figure()\n",
    "plt.figure(figsize=(10,10))\n",
    "plt.xticks(fontsize=12)\n",
    "plt.yticks(fontsize=14)\n",
    "plt.xlabel('Principal Component - 1',fontsize=20)\n",
    "plt.ylabel('Principal Component - 2',fontsize=20)\n",
    "plt.title(\"Principal Component Analysis of Wine Dataset\",fontsize=20)\n",
    "targets = list(np.unique (WineDataQuality))\n",
    "colors = ['r', 'g', 'b']\n",
    "for target, color in zip(targets, colors):\n",
    "    indicesToKeep = (WineDataQuality == target)\n",
    "    plt.scatter(principal_wine_Df.loc[indicesToKeep, 'principal component 1']\n",
    "               , principal_wine_Df.loc[indicesToKeep, 'principal component 2'], c = color, s = 50)\n",
    "\n",
    "plt.legend(targets,prop={'size': 15})"
   ]
  },
  {
   "cell_type": "code",
   "execution_count": 9,
   "id": "ba5dbd98",
   "metadata": {},
   "outputs": [
    {
     "data": {
      "text/plain": [
       "<matplotlib.legend.Legend at 0x4f54430>"
      ]
     },
     "execution_count": 9,
     "metadata": {},
     "output_type": "execute_result"
    },
    {
     "data": {
      "image/png": "[encoded data removed]",
      "text/plain": [
       "<Figure size 432x288 with 1 Axes>"
      ]
     },
     "metadata": {
      "needs_background": "light"
     },
     "output_type": "display_data"
    }
   ],
   "source": [
    "kmeans = KMeans(n_clusters=3).fit(principal_wine_Df)\n",
    "groups = np.unique ( kmeans.labels_)\n",
    "for group, color in zip(groups, colors):\n",
    "    indicesToKeep = (kmeans.labels_ == group)\n",
    "    plt.scatter(principal_wine_Df.loc[indicesToKeep, 'principal component 1']\n",
    "               , principal_wine_Df.loc[indicesToKeep, 'principal component 2'], c = color, s = 50)\n",
    "\n",
    "plt.legend(targets,prop={'size': 15})\n",
    "\n",
    "#plt.scatter(kmeans.cluster_centers_[:, 0], kmeans.cluster_centers_[:, 1], s = 200, c = 'yellow', label = 'Centroids')\n",
    "\n",
    "#for i, l in enumerate(kmeans.labels_):\n",
    "#    plt.plot(principal_wine_Df[i], principal_wine_Df[i], color=colors[l], marker=markers[l])\n"
   ]
  },
  {
   "cell_type": "code",
   "execution_count": 10,
   "id": "0075e889",
   "metadata": {},
   "outputs": [
    {
     "name": "stdout",
     "output_type": "stream",
     "text": [
      "[[ 0  0  0  0]\n",
      " [ 0 58  0  0]\n",
      " [64  5  1  0]\n",
      " [ 0  0 48  0]]\n",
      "[[58  0  0]\n",
      " [ 5  1 64]\n",
      " [ 0 48  0]]\n"
     ]
    }
   ],
   "source": [
    "from sklearn.metrics import confusion_matrix\n",
    "print(confusion_matrix(WineDataQuality, kmeans.labels_))\n",
    "\n",
    "\n",
    "pred_label = kmeans.labels_.copy()\n",
    "#pred_label[kmeans.labels_ == 1] = 1\n",
    "pred_label[kmeans.labels_ == 0] = 3\n",
    "#pred_label[kmeans.labels_ == 2] = 3\n",
    "print( confusion_matrix(WineDataQuality, pred_label) )"
   ]
  },
  {
   "cell_type": "code",
   "execution_count": 11,
   "id": "aa02c741",
   "metadata": {},
   "outputs": [
    {
     "name": "stdout",
     "output_type": "stream",
     "text": [
      "   Wine  Alcohol  Malic.acid   Ash   Acl   Mg  Phenols  Flavanoids  \\\n",
      "0     1    13.72        1.43  2.50  16.7  108      3.4        3.67   \n",
      "1     2    12.04        4.30  2.38  22.0   80      2.1        1.75   \n",
      "\n",
      "   Nonflavanoid.phenols  Proanth  Color.int   Hue    OD  Proline  \n",
      "0                  0.19     2.04        6.8  0.89  2.87     1285  \n",
      "1                  0.42     1.35        2.6  0.79  2.57      580  \n",
      "   Alcohol  Malic.acid   Ash   Acl   Mg  Phenols  Flavanoids  \\\n",
      "0    13.72        1.43  2.50  16.7  108      3.4        3.67   \n",
      "1    12.04        4.30  2.38  22.0   80      2.1        1.75   \n",
      "\n",
      "   Nonflavanoid.phenols  Proanth  Color.int   Hue    OD  Proline  \n",
      "0                  0.19     2.04        6.8  0.89  2.87     1285  \n",
      "1                  0.42     1.35        2.6  0.79  2.57      580  \n"
     ]
    }
   ],
   "source": [
    "WineTestData = pd.read_csv('wineTesting.csv')\n",
    "print(WineTestData)\n",
    "\n",
    "WineTestDataQuality = WineTestData['Wine']\n",
    "#WineInput = WineData.loc[:, WineData.columns != 'Wine']\n",
    "WineTestInput = WineTestData.loc[:, ~WineTestData.columns.isin(['Wine'])]\n",
    "print(WineTestInput)\n"
   ]
  },
  {
   "cell_type": "code",
   "execution_count": 12,
   "id": "745a4e0e",
   "metadata": {},
   "outputs": [
    {
     "name": "stdout",
     "output_type": "stream",
     "text": [
      "[[ 3.1197764  -1.77514576]\n",
      " [-1.75716015  1.15367569]]\n"
     ]
    }
   ],
   "source": [
    "newPCAscores = pca_wine.transform( stdscalar.transform(WineTestInput) )\n",
    "print(newPCAscores ) \n"
   ]
  },
  {
   "cell_type": "code",
   "execution_count": 13,
   "id": "5a07d878",
   "metadata": {},
   "outputs": [
    {
     "data": {
      "text/plain": [
       "<matplotlib.collections.PathCollection at 0x1cbf1a90>"
      ]
     },
     "execution_count": 13,
     "metadata": {},
     "output_type": "execute_result"
    },
    {
     "data": {
      "text/plain": [
       "<Figure size 432x288 with 0 Axes>"
      ]
     },
     "metadata": {},
     "output_type": "display_data"
    },
    {
     "data": {
      "image/png": "[encoded data removed]",
      "text/plain": [
       "<Figure size 720x720 with 1 Axes>"
      ]
     },
     "metadata": {
      "needs_background": "light"
     },
     "output_type": "display_data"
    }
   ],
   "source": [
    "plt.figure()\n",
    "plt.figure(figsize=(10,10))\n",
    "plt.xticks(fontsize=12)\n",
    "plt.yticks(fontsize=14)\n",
    "plt.xlabel('Principal Component - 1',fontsize=20)\n",
    "plt.ylabel('Principal Component - 2',fontsize=20)\n",
    "plt.title(\"Principal Component Analysis of Wine Dataset\",fontsize=20)\n",
    "targets = list(np.unique (WineDataQuality))\n",
    "colors = ['r', 'g', 'b']\n",
    "for target, color in zip(targets, colors):\n",
    "    indicesToKeep = (WineDataQuality == target)\n",
    "    plt.scatter(principal_wine_Df.loc[indicesToKeep, 'principal component 1']\n",
    "               , principal_wine_Df.loc[indicesToKeep, 'principal component 2'], c = color, s = 50)\n",
    "\n",
    "plt.legend(targets,prop={'size': 15})\n",
    "\n",
    "plt.scatter(newPCAscores[0,0], newPCAscores[0,1], marker='>', c='y', s=300 )\n",
    "plt.scatter(newPCAscores[1,0], newPCAscores[1,1], marker='<', c='b', s=300 )"
   ]
  },
  {
   "cell_type": "code",
   "execution_count": null,
   "id": "10886692",
   "metadata": {},
   "outputs": [],
   "source": []
  }
 ],
 "metadata": {
  "kernelspec": {
   "display_name": "Python 3",
   "language": "python",
   "name": "python3"
  },
  "language_info": {
   "codemirror_mode": {
    "name": "ipython",
    "version": 3
   },
   "file_extension": ".py",
   "mimetype": "text/x-python",
   "name": "python",
   "nbconvert_exporter": "python",
   "pygments_lexer": "ipython3",
   "version": "3.8.8"
  }
 },
 "nbformat": 4,
 "nbformat_minor": 5
}
