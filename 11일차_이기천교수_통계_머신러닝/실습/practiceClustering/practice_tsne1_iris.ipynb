{
 "cells": [
  {
   "cell_type": "code",
   "execution_count": 2,
   "id": "491f27a8",
   "metadata": {},
   "outputs": [],
   "source": [
    "#https://lumiamitie.github.io/r/python/tsne-for-r-py/\n",
    "import pandas as pd\n",
    "import numpy as np\n",
    "from sklearn.manifold import TSNE\n",
    "import altair as alt\n",
    "\n",
    "# iris 데이터\n",
    "iris = pd.read_csv('iris2.csv')\n",
    "\n",
    "# 결과물 재현을 위해 seed를 설정\n",
    "np.random.seed(1)\n",
    "\n",
    "# iris 데이터를 matrix로 변환시킨 후 t-SNE 적용\n",
    "iris_matrix = iris.iloc[:, 0:4].values\n",
    "iris_tsne_result = TSNE(learning_rate=300, init='pca').fit_transform(iris_matrix)\n",
    "\n",
    "# 맵핑된 결과물에 원래의 레이블을 달아보자\n",
    "df_iris_tsne_result = (\n",
    "  pd.DataFrame(iris_tsne_result, columns=['V1', 'V2'])\n",
    "    .assign(species = iris['species'])\n",
    ")"
   ]
  },
  {
   "cell_type": "code",
   "execution_count": 3,
   "id": "7a74ae74",
   "metadata": {},
   "outputs": [
    {
     "data": {
      "text/html": [
       "\n",
       "<div id=\"altair-viz-1c84138db11f443f88a5b4a516d1c694\"></div>\n",
       "<script type=\"text/javascript\">\n",
       "  (function(spec, embedOpt){\n",
       "    let outputDiv = document.currentScript.previousElementSibling;\n",
       "    if (outputDiv.id !== \"altair-viz-1c84138db11f443f88a5b4a516d1c694\") {\n",
       "      outputDiv = document.getElementById(\"altair-viz-1c84138db11f443f88a5b4a516d1c694\");\n",
       "    }\n",
       "    const paths = {\n",
       "      \"vega\": \"https://cdn.jsdelivr.net/npm//vega@5?noext\",\n",
       "      \"vega-lib\": \"https://cdn.jsdelivr.net/npm//vega-lib?noext\",\n",
       "      \"vega-lite\": \"https://cdn.jsdelivr.net/npm//vega-lite@4.8.1?noext\",\n",
       "      \"vega-embed\": \"https://cdn.jsdelivr.net/npm//vega-embed@6?noext\",\n",
       "    };\n",
       "\n",
       "    function loadScript(lib) {\n",
       "      return new Promise(function(resolve, reject) {\n",
       "        var s = document.createElement('script');\n",
       "        s.src = paths[lib];\n",
       "        s.async = true;\n",
       "        s.onload = () => resolve(paths[lib]);\n",
       "        s.onerror = () => reject(`Error loading script: ${paths[lib]}`);\n",
       "        document.getElementsByTagName(\"head\")[0].appendChild(s);\n",
       "      });\n",
       "    }\n",
       "\n",
       "    function showError(err) {\n",
       "      outputDiv.innerHTML = `<div class=\"error\" style=\"color:red;\">${err}</div>`;\n",
       "      throw err;\n",
       "    }\n",
       "\n",
       "    function displayChart(vegaEmbed) {\n",
       "      vegaEmbed(outputDiv, spec, embedOpt)\n",
       "        .catch(err => showError(`Javascript Error: ${err.message}<br>This usually means there's a typo in your chart specification. See the javascript console for the full traceback.`));\n",
       "    }\n",
       "\n",
       "    if(typeof define === \"function\" && define.amd) {\n",
       "      requirejs.config({paths});\n",
       "      require([\"vega-embed\"], displayChart, err => showError(`Error loading script: ${err.message}`));\n",
       "    } else if (typeof vegaEmbed === \"function\") {\n",
       "      displayChart(vegaEmbed);\n",
       "    } else {\n",
       "      loadScript(\"vega\")\n",
       "        .then(() => loadScript(\"vega-lite\"))\n",
       "        .then(() => loadScript(\"vega-embed\"))\n",
       "        .catch(showError)\n",
       "        .then(() => displayChart(vegaEmbed));\n",
       "    }\n",
       "  })({\"config\": {\"view\": {\"continuousWidth\": 400, \"continuousHeight\": 300}}, \"data\": {\"name\": \"data-1fd4eed22f68b1e4671f05d424060df7\"}, \"mark\": \"point\", \"encoding\": {\"color\": {\"type\": \"nominal\", \"field\": \"species\"}, \"x\": {\"type\": \"quantitative\", \"field\": \"V1\"}, \"y\": {\"type\": \"quantitative\", \"field\": \"V2\"}}, \"height\": 400, \"width\": 800, \"$schema\": \"https://vega.github.io/schema/vega-lite/v4.8.1.json\", \"datasets\": {\"data-1fd4eed22f68b1e4671f05d424060df7\": [{\"V1\": -22.39203643798828, \"V2\": 7.783114433288574, \"species\": \"setosa\"}, {\"V1\": -20.02298927307129, \"V2\": 6.943225860595703, \"species\": \"setosa\"}, {\"V1\": -19.695262908935547, \"V2\": 7.990711212158203, \"species\": \"setosa\"}, {\"V1\": -19.431726455688477, \"V2\": 7.7431640625, \"species\": \"setosa\"}, {\"V1\": -22.407133102416992, \"V2\": 8.266632080078125, \"species\": \"setosa\"}, {\"V1\": -24.27630615234375, \"V2\": 8.579317092895508, \"species\": \"setosa\"}, {\"V1\": -19.87544059753418, \"V2\": 8.63052749633789, \"species\": \"setosa\"}, {\"V1\": -21.612071990966797, \"V2\": 7.886581897735596, \"species\": \"setosa\"}, {\"V1\": -18.698802947998047, \"V2\": 7.48721981048584, \"species\": \"setosa\"}, {\"V1\": -20.367807388305664, \"V2\": 7.265474796295166, \"species\": \"setosa\"}, {\"V1\": -23.854328155517578, \"V2\": 7.845110893249512, \"species\": \"setosa\"}, {\"V1\": -20.866594314575195, \"V2\": 8.384729385375977, \"species\": \"setosa\"}, {\"V1\": -19.6682186126709, \"V2\": 7.105251312255859, \"species\": \"setosa\"}, {\"V1\": -18.395666122436523, \"V2\": 7.982416152954102, \"species\": \"setosa\"}, {\"V1\": -25.138965606689453, \"V2\": 7.82240629196167, \"species\": \"setosa\"}, {\"V1\": -25.302732467651367, \"V2\": 8.39305305480957, \"species\": \"setosa\"}, {\"V1\": -24.42127799987793, \"V2\": 8.154007911682129, \"species\": \"setosa\"}, {\"V1\": -22.4497013092041, \"V2\": 7.98887300491333, \"species\": \"setosa\"}, {\"V1\": -24.6346492767334, \"V2\": 7.644201755523682, \"species\": \"setosa\"}, {\"V1\": -23.379499435424805, \"V2\": 8.647048950195312, \"species\": \"setosa\"}, {\"V1\": -23.273967742919922, \"V2\": 7.062098979949951, \"species\": \"setosa\"}, {\"V1\": -23.045188903808594, \"V2\": 8.637899398803711, \"species\": \"setosa\"}, {\"V1\": -19.572397232055664, \"V2\": 9.358132362365723, \"species\": \"setosa\"}, {\"V1\": -21.840923309326172, \"V2\": 9.145325660705566, \"species\": \"setosa\"}, {\"V1\": -20.877920150756836, \"V2\": 9.05029296875, \"species\": \"setosa\"}, {\"V1\": -20.387306213378906, \"V2\": 6.781449317932129, \"species\": \"setosa\"}, {\"V1\": -21.748266220092773, \"V2\": 8.692249298095703, \"species\": \"setosa\"}, {\"V1\": -22.815032958984375, \"V2\": 7.736442565917969, \"species\": \"setosa\"}, {\"V1\": -22.416826248168945, \"V2\": 7.317716598510742, \"species\": \"setosa\"}, {\"V1\": -20.147523880004883, \"V2\": 8.073100090026855, \"species\": \"setosa\"}, {\"V1\": -20.17972755432129, \"V2\": 7.6386919021606445, \"species\": \"setosa\"}, {\"V1\": -23.243513107299805, \"V2\": 7.200137138366699, \"species\": \"setosa\"}, {\"V1\": -24.435739517211914, \"V2\": 8.907079696655273, \"species\": \"setosa\"}, {\"V1\": -24.99063491821289, \"V2\": 8.447430610656738, \"species\": \"setosa\"}, {\"V1\": -20.409278869628906, \"V2\": 7.364346504211426, \"species\": \"setosa\"}, {\"V1\": -21.056215286254883, \"V2\": 6.949548721313477, \"species\": \"setosa\"}, {\"V1\": -23.76689910888672, \"V2\": 7.171935558319092, \"species\": \"setosa\"}, {\"V1\": -21.893020629882812, \"V2\": 8.28022289276123, \"species\": \"setosa\"}, {\"V1\": -18.719694137573242, \"V2\": 7.793479919433594, \"species\": \"setosa\"}, {\"V1\": -22.042903900146484, \"V2\": 7.574915885925293, \"species\": \"setosa\"}, {\"V1\": -22.00058364868164, \"V2\": 7.927584171295166, \"species\": \"setosa\"}, {\"V1\": -18.424257278442383, \"V2\": 6.76588773727417, \"species\": \"setosa\"}, {\"V1\": -18.935033798217773, \"V2\": 8.317544937133789, \"species\": \"setosa\"}, {\"V1\": -22.249107360839844, \"V2\": 9.235949516296387, \"species\": \"setosa\"}, {\"V1\": -23.517929077148438, \"V2\": 9.396644592285156, \"species\": \"setosa\"}, {\"V1\": -19.66780662536621, \"V2\": 7.143299102783203, \"species\": \"setosa\"}, {\"V1\": -23.457963943481445, \"V2\": 8.72584056854248, \"species\": \"setosa\"}, {\"V1\": -19.502544403076172, \"V2\": 8.110337257385254, \"species\": \"setosa\"}, {\"V1\": -23.591495513916016, \"V2\": 8.031861305236816, \"species\": \"setosa\"}, {\"V1\": -21.333110809326172, \"V2\": 7.51407527923584, \"species\": \"setosa\"}, {\"V1\": 12.810529708862305, \"V2\": -0.8524511456489563, \"species\": \"versicolor\"}, {\"V1\": 14.228460311889648, \"V2\": -1.7497047185897827, \"species\": \"versicolor\"}, {\"V1\": 12.414738655090332, \"V2\": -1.1991256475448608, \"species\": \"versicolor\"}, {\"V1\": 19.344573974609375, \"V2\": -2.583625316619873, \"species\": \"versicolor\"}, {\"V1\": 13.693899154663086, \"V2\": -1.7977348566055298, \"species\": \"versicolor\"}, {\"V1\": 17.024314880371094, \"V2\": -2.6799449920654297, \"species\": \"versicolor\"}, {\"V1\": 13.959532737731934, \"V2\": -2.442751407623291, \"species\": \"versicolor\"}, {\"V1\": 20.7203426361084, \"V2\": -1.6679784059524536, \"species\": \"versicolor\"}, {\"V1\": 13.713499069213867, \"V2\": -1.3178231716156006, \"species\": \"versicolor\"}, {\"V1\": 19.099525451660156, \"V2\": -1.3453043699264526, \"species\": \"versicolor\"}, {\"V1\": 20.699251174926758, \"V2\": -2.036389112472534, \"species\": \"versicolor\"}, {\"V1\": 16.722705841064453, \"V2\": -1.9920774698257446, \"species\": \"versicolor\"}, {\"V1\": 19.20451545715332, \"V2\": -3.268589973449707, \"species\": \"versicolor\"}, {\"V1\": 14.838908195495605, \"V2\": -2.6214964389801025, \"species\": \"versicolor\"}, {\"V1\": 19.17089080810547, \"V2\": -1.404890537261963, \"species\": \"versicolor\"}, {\"V1\": 13.798741340637207, \"V2\": -0.9777736067771912, \"species\": \"versicolor\"}, {\"V1\": 16.79117774963379, \"V2\": -2.797238826751709, \"species\": \"versicolor\"}, {\"V1\": 18.458194732666016, \"V2\": -2.5969934463500977, \"species\": \"versicolor\"}, {\"V1\": 15.661171913146973, \"V2\": -4.367137432098389, \"species\": \"versicolor\"}, {\"V1\": 19.207082748413086, \"V2\": -2.3406927585601807, \"species\": \"versicolor\"}, {\"V1\": 13.93406867980957, \"V2\": -3.8197875022888184, \"species\": \"versicolor\"}, {\"V1\": 17.174036026000977, \"V2\": -1.4648518562316895, \"species\": \"versicolor\"}, {\"V1\": 12.795472145080566, \"V2\": -3.1844213008880615, \"species\": \"versicolor\"}, {\"V1\": 15.203566551208496, \"V2\": -2.4909300804138184, \"species\": \"versicolor\"}, {\"V1\": 14.945225715637207, \"V2\": -1.3733751773834229, \"species\": \"versicolor\"}, {\"V1\": 14.073802947998047, \"V2\": -1.1668572425842285, \"species\": \"versicolor\"}, {\"V1\": 12.835894584655762, \"V2\": -1.361757516860962, \"species\": \"versicolor\"}, {\"V1\": 11.745698928833008, \"V2\": -1.904956340789795, \"species\": \"versicolor\"}, {\"V1\": 15.60377311706543, \"V2\": -2.515367031097412, \"species\": \"versicolor\"}, {\"V1\": 19.75674057006836, \"V2\": -1.759077548980713, \"species\": \"versicolor\"}, {\"V1\": 19.625831604003906, \"V2\": -2.271251916885376, \"species\": \"versicolor\"}, {\"V1\": 19.840852737426758, \"V2\": -2.203059673309326, \"species\": \"versicolor\"}, {\"V1\": 18.581680297851562, \"V2\": -1.9282768964767456, \"species\": \"versicolor\"}, {\"V1\": 12.56820011138916, \"V2\": -4.253363132476807, \"species\": \"versicolor\"}, {\"V1\": 17.11190414428711, \"V2\": -2.984102725982666, \"species\": \"versicolor\"}, {\"V1\": 14.707817077636719, \"V2\": -3.0378854274749756, \"species\": \"versicolor\"}, {\"V1\": 13.11263370513916, \"V2\": -1.2926605939865112, \"species\": \"versicolor\"}, {\"V1\": 15.869781494140625, \"V2\": -4.176705360412598, \"species\": \"versicolor\"}, {\"V1\": 17.813858032226562, \"V2\": -1.8929368257522583, \"species\": \"versicolor\"}, {\"V1\": 18.989116668701172, \"V2\": -2.156867742538452, \"species\": \"versicolor\"}, {\"V1\": 18.030832290649414, \"V2\": -2.90720796585083, \"species\": \"versicolor\"}, {\"V1\": 15.028227806091309, \"V2\": -2.416271686553955, \"species\": \"versicolor\"}, {\"V1\": 18.61327362060547, \"V2\": -2.354233741760254, \"species\": \"versicolor\"}, {\"V1\": 20.682567596435547, \"V2\": -1.7327169179916382, \"species\": \"versicolor\"}, {\"V1\": 18.082536697387695, \"V2\": -2.4154772758483887, \"species\": \"versicolor\"}, {\"V1\": 17.529573440551758, \"V2\": -2.1145710945129395, \"species\": \"versicolor\"}, {\"V1\": 17.57857894897461, \"V2\": -2.2081706523895264, \"species\": \"versicolor\"}, {\"V1\": 15.673914909362793, \"V2\": -1.733786702156067, \"species\": \"versicolor\"}, {\"V1\": 20.77651023864746, \"V2\": -1.5535404682159424, \"species\": \"versicolor\"}, {\"V1\": 18.016023635864258, \"V2\": -2.035470962524414, \"species\": \"versicolor\"}, {\"V1\": 7.404902458190918, \"V2\": -2.2781078815460205, \"species\": \"virginica\"}, {\"V1\": 12.739606857299805, \"V2\": -5.0073041915893555, \"species\": \"virginica\"}, {\"V1\": 7.000783443450928, \"V2\": -4.074625015258789, \"species\": \"virginica\"}, {\"V1\": 9.73364543914795, \"V2\": -4.1335978507995605, \"species\": \"virginica\"}, {\"V1\": 8.227412223815918, \"V2\": -3.7297677993774414, \"species\": \"virginica\"}, {\"V1\": 5.609433650970459, \"V2\": -4.483347415924072, \"species\": \"virginica\"}, {\"V1\": 18.296369552612305, \"V2\": -0.4327732026576996, \"species\": \"virginica\"}, {\"V1\": 6.262324810028076, \"V2\": -4.683405876159668, \"species\": \"virginica\"}, {\"V1\": 8.582259178161621, \"V2\": -4.786158561706543, \"species\": \"virginica\"}, {\"V1\": 6.230085372924805, \"V2\": -3.316617727279663, \"species\": \"virginica\"}, {\"V1\": 9.930237770080566, \"V2\": -2.6408286094665527, \"species\": \"virginica\"}, {\"V1\": 10.501882553100586, \"V2\": -3.77298903465271, \"species\": \"virginica\"}, {\"V1\": 8.421453475952148, \"V2\": -3.434957981109619, \"species\": \"virginica\"}, {\"V1\": 12.923112869262695, \"V2\": -5.3833088874816895, \"species\": \"virginica\"}, {\"V1\": 12.333732604980469, \"V2\": -5.6372809410095215, \"species\": \"virginica\"}, {\"V1\": 8.880294799804688, \"V2\": -2.502018451690674, \"species\": \"virginica\"}, {\"V1\": 9.549161911010742, \"V2\": -3.759064197540283, \"species\": \"virginica\"}, {\"V1\": 5.313907146453857, \"V2\": -3.7851455211639404, \"species\": \"virginica\"}, {\"V1\": 5.366570472717285, \"V2\": -4.802851676940918, \"species\": \"virginica\"}, {\"V1\": 14.200909614562988, \"V2\": -4.980087757110596, \"species\": \"virginica\"}, {\"V1\": 7.467160224914551, \"V2\": -3.3589906692504883, \"species\": \"virginica\"}, {\"V1\": 13.119872093200684, \"V2\": -5.3202619552612305, \"species\": \"virginica\"}, {\"V1\": 5.532433986663818, \"V2\": -4.692629814147949, \"species\": \"virginica\"}, {\"V1\": 12.44682788848877, \"V2\": -3.5427377223968506, \"species\": \"virginica\"}, {\"V1\": 7.8103461265563965, \"V2\": -3.32798171043396, \"species\": \"virginica\"}, {\"V1\": 6.705247402191162, \"V2\": -4.403163909912109, \"species\": \"virginica\"}, {\"V1\": 13.00333309173584, \"V2\": -3.574167490005493, \"species\": \"virginica\"}, {\"V1\": 13.239580154418945, \"V2\": -3.8307080268859863, \"species\": \"virginica\"}, {\"V1\": 9.069636344909668, \"V2\": -3.977033853530884, \"species\": \"virginica\"}, {\"V1\": 6.984670639038086, \"V2\": -4.736198902130127, \"species\": \"virginica\"}, {\"V1\": 6.355289459228516, \"V2\": -4.661263465881348, \"species\": \"virginica\"}, {\"V1\": 5.33107852935791, \"V2\": -3.782069206237793, \"species\": \"virginica\"}, {\"V1\": 8.912403106689453, \"V2\": -3.8879294395446777, \"species\": \"virginica\"}, {\"V1\": 12.233287811279297, \"V2\": -3.2898290157318115, \"species\": \"virginica\"}, {\"V1\": 10.975138664245605, \"V2\": -4.688999652862549, \"species\": \"virginica\"}, {\"V1\": 5.900679111480713, \"V2\": -4.237222671508789, \"species\": \"virginica\"}, {\"V1\": 8.028716087341309, \"V2\": -2.1779892444610596, \"species\": \"virginica\"}, {\"V1\": 9.632550239562988, \"V2\": -3.7097384929656982, \"species\": \"virginica\"}, {\"V1\": 13.580848693847656, \"V2\": -3.8626646995544434, \"species\": \"virginica\"}, {\"V1\": 8.433051109313965, \"V2\": -3.161057233810425, \"species\": \"virginica\"}, {\"V1\": 7.976863861083984, \"V2\": -3.0019617080688477, \"species\": \"virginica\"}, {\"V1\": 9.048141479492188, \"V2\": -2.477100372314453, \"species\": \"virginica\"}, {\"V1\": 12.739605903625488, \"V2\": -5.007304668426514, \"species\": \"virginica\"}, {\"V1\": 7.273097515106201, \"V2\": -3.338390588760376, \"species\": \"virginica\"}, {\"V1\": 7.524136066436768, \"V2\": -2.772702932357788, \"species\": \"virginica\"}, {\"V1\": 9.034279823303223, \"V2\": -2.7443671226501465, \"species\": \"virginica\"}, {\"V1\": 12.002352714538574, \"V2\": -3.875725030899048, \"species\": \"virginica\"}, {\"V1\": 9.886703491210938, \"V2\": -3.028972625732422, \"species\": \"virginica\"}, {\"V1\": 8.477749824523926, \"V2\": -2.0013954639434814, \"species\": \"virginica\"}, {\"V1\": 12.942570686340332, \"V2\": -4.4862141609191895, \"species\": \"virginica\"}]}}, {\"mode\": \"vega-lite\"});\n",
       "</script>"
      ],
      "text/plain": [
       "alt.Chart(...)"
      ]
     },
     "execution_count": 3,
     "metadata": {},
     "output_type": "execute_result"
    }
   ],
   "source": [
    "(df_iris_tsne_result\n",
    "  .pipe(alt.Chart, width=800, height=400)\n",
    "  .mark_point()\n",
    "  .encode(x='V1:Q', y='V2:Q', color='species:N')\n",
    ")"
   ]
  },
  {
   "cell_type": "code",
   "execution_count": null,
   "id": "8745b54b",
   "metadata": {},
   "outputs": [],
   "source": []
  }
 ],
 "metadata": {
  "kernelspec": {
   "display_name": "Python 3",
   "language": "python",
   "name": "python3"
  },
  "language_info": {
   "codemirror_mode": {
    "name": "ipython",
    "version": 3
   },
   "file_extension": ".py",
   "mimetype": "text/x-python",
   "name": "python",
   "nbconvert_exporter": "python",
   "pygments_lexer": "ipython3",
   "version": "3.8.8"
  }
 },
 "nbformat": 4,
 "nbformat_minor": 5
}
