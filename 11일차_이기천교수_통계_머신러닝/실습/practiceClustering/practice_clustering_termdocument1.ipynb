{
 "cells": [
  {
   "cell_type": "code",
   "execution_count": 18,
   "id": "a5ad20db",
   "metadata": {},
   "outputs": [],
   "source": [
    "#https://okan.cloud/posts/2021-04-08-text-vectorization-using-python-term-document-matrix/\n",
    "# Import pandas for dataframe \n",
    "# Import pprint for printing the outcomes \n",
    "import pandas as pd \n",
    "import numpy as np\n",
    "from pprint import pprint \n",
    "\n",
    "# Import train_rel_2.tsv into Python\n",
    "with open('train_rel_2.tsv', 'r') as f:\n",
    "    lines = f.readlines()\n",
    "    columns = lines[0].split('\\t')\n",
    "    data = []\n",
    "    response_id= []\n",
    "    score = []\n",
    "    for line in lines[1:]:\n",
    "        temp = line.split('\\t')\n",
    "        if temp[1] == '1':\n",
    "            data.append(temp[-1])\n",
    "            response_id.append(int(temp[0]))\n",
    "            score.append(int(temp[2]))\n",
    "        else: \n",
    "            None\n",
    "\n",
    "# Construct a dataframe (\"doc\") which includes the response_id, responses, and the score        \n",
    "doc = pd.DataFrame(list(zip(response_id, data, score)))\n",
    "doc.columns = ['id', 'response', 'score']"
   ]
  },
  {
   "cell_type": "code",
   "execution_count": 19,
   "id": "810db8af",
   "metadata": {},
   "outputs": [
    {
     "name": "stdout",
     "output_type": "stream",
     "text": [
      "Sample response 1:\n",
      "('Some additional information that we would need to replicate the experiment '\n",
      " 'is how much vinegar should be placed in each identical container, how or '\n",
      " 'what tool to use to measure the mass of the four different samples and how '\n",
      " 'much distilled water to use to rinse the four samples after taking them out '\n",
      " 'of the vinegar.\\n')\n"
     ]
    },
    {
     "data": {
      "text/html": [
       "<div>\n",
       "<style scoped>\n",
       "    .dataframe tbody tr th:only-of-type {\n",
       "        vertical-align: middle;\n",
       "    }\n",
       "\n",
       "    .dataframe tbody tr th {\n",
       "        vertical-align: top;\n",
       "    }\n",
       "\n",
       "    .dataframe thead th {\n",
       "        text-align: right;\n",
       "    }\n",
       "</style>\n",
       "<table border=\"1\" class=\"dataframe\">\n",
       "  <thead>\n",
       "    <tr style=\"text-align: right;\">\n",
       "      <th></th>\n",
       "      <th>id</th>\n",
       "      <th>response</th>\n",
       "      <th>score</th>\n",
       "    </tr>\n",
       "  </thead>\n",
       "  <tbody>\n",
       "    <tr>\n",
       "      <th>0</th>\n",
       "      <td>1</td>\n",
       "      <td>Some additional information that we would need...</td>\n",
       "      <td>1</td>\n",
       "    </tr>\n",
       "    <tr>\n",
       "      <th>1</th>\n",
       "      <td>2</td>\n",
       "      <td>After reading the expirement, I realized that ...</td>\n",
       "      <td>1</td>\n",
       "    </tr>\n",
       "    <tr>\n",
       "      <th>2</th>\n",
       "      <td>3</td>\n",
       "      <td>What you need is more trials, a control set up...</td>\n",
       "      <td>1</td>\n",
       "    </tr>\n",
       "    <tr>\n",
       "      <th>3</th>\n",
       "      <td>4</td>\n",
       "      <td>The student should list what rock is better an...</td>\n",
       "      <td>0</td>\n",
       "    </tr>\n",
       "    <tr>\n",
       "      <th>4</th>\n",
       "      <td>5</td>\n",
       "      <td>For the students to be able to make a replicat...</td>\n",
       "      <td>2</td>\n",
       "    </tr>\n",
       "  </tbody>\n",
       "</table>\n",
       "</div>"
      ],
      "text/plain": [
       "   id                                           response  score\n",
       "0   1  Some additional information that we would need...      1\n",
       "1   2  After reading the expirement, I realized that ...      1\n",
       "2   3  What you need is more trials, a control set up...      1\n",
       "3   4  The student should list what rock is better an...      0\n",
       "4   5  For the students to be able to make a replicat...      2"
      ]
     },
     "execution_count": 19,
     "metadata": {},
     "output_type": "execute_result"
    }
   ],
   "source": [
    "## Preview the first response in the data set\n",
    "print('Sample response 1:')\n",
    "pprint(doc.response.values[0]) \n",
    "\n",
    "# Preview the first 5 lines in the data set\n",
    "doc.head(5)"
   ]
  },
  {
   "cell_type": "code",
   "execution_count": 20,
   "id": "5dd1f122",
   "metadata": {},
   "outputs": [
    {
     "name": "stdout",
     "output_type": "stream",
     "text": [
      "             Doc 1  Doc 2  Doc 3  Doc 4  Doc 5  Doc 6  Doc 7  Doc 8  Doc 9  \\\n",
      "the              5      5      1      3      2      3     10      6      6   \n",
      "to               5      2      1      0      3      0      4      6      4   \n",
      "of               2      1      1      0      1      2      2      4      1   \n",
      "need             1      1      1      0      1      1      1      4      3   \n",
      "you              0      3      2      0      0      1      1      4      3   \n",
      "and              1      1      2      1      1      1      1      1      0   \n",
      "is               1      1      1      2      2      0      1      0      2   \n",
      "would            1      0      0      0      1      2      1      4      1   \n",
      "how              3      0      0      0      1      0      0      1      3   \n",
      "what             1      0      1      2      1      1      0      1      0   \n",
      "samples          2      0      0      0      0      1      2      2      0   \n",
      "information      1      1      0      0      0      1      1      1      1   \n",
      "in               1      1      1      1      0      0      1      2      0   \n",
      "each             1      1      1      0      0      0      2      1      1   \n",
      "vinegar          2      1      1      0      1      0      0      1      0   \n",
      "\n",
      "             Doc 10  \n",
      "the               5  \n",
      "to                3  \n",
      "of                3  \n",
      "need              3  \n",
      "you               2  \n",
      "and               3  \n",
      "is                0  \n",
      "would             0  \n",
      "how               1  \n",
      "what              1  \n",
      "samples           1  \n",
      "information       1  \n",
      "in                0  \n",
      "each              0  \n",
      "vinegar           1  \n"
     ]
    }
   ],
   "source": [
    "# Activate CountVectorizer\n",
    "from sklearn.feature_extraction.text import CountVectorizer\n",
    "\n",
    "# Count Vectorizer\n",
    "vect = CountVectorizer()  \n",
    "vects = vect.fit_transform(doc.response)\n",
    "\n",
    "HowManyDocs = 10\n",
    "\n",
    "# Select the first five rows from the data set\n",
    "td = pd.DataFrame(vects.todense()).iloc[:HowManyDocs]  \n",
    "td.columns = vect.get_feature_names()\n",
    "term_document_matrix = td.T\n",
    "term_document_matrix.columns = ['Doc '+str(i) for i in range(1, HowManyDocs+1)]\n",
    "term_document_matrix['total_count'] = term_document_matrix.sum(axis=1)\n",
    "\n",
    "# Top 25 words \n",
    "term_document_matrix = term_document_matrix.sort_values(by ='total_count',ascending=False)[:25] \n",
    "\n",
    "# Print the first 15 rows \n",
    "print(term_document_matrix.drop(columns=['total_count']).head(15))"
   ]
  },
  {
   "cell_type": "code",
   "execution_count": 21,
   "id": "1d63ec91",
   "metadata": {},
   "outputs": [
    {
     "data": {
      "text/plain": [
       "<AxesSubplot:>"
      ]
     },
     "execution_count": 21,
     "metadata": {},
     "output_type": "execute_result"
    },
    {
     "data": {
      "image/png": "[encoded data removed]",
      "text/plain": [
       "<Figure size 432x288 with 1 Axes>"
      ]
     },
     "metadata": {
      "needs_background": "light"
     },
     "output_type": "display_data"
    }
   ],
   "source": [
    "term_document_matrix['total_count'].plot.bar()"
   ]
  },
  {
   "cell_type": "code",
   "execution_count": 22,
   "id": "39ff5b77",
   "metadata": {},
   "outputs": [
    {
     "data": {
      "text/html": [
       "<div>\n",
       "<style scoped>\n",
       "    .dataframe tbody tr th:only-of-type {\n",
       "        vertical-align: middle;\n",
       "    }\n",
       "\n",
       "    .dataframe tbody tr th {\n",
       "        vertical-align: top;\n",
       "    }\n",
       "\n",
       "    .dataframe thead th {\n",
       "        text-align: right;\n",
       "    }\n",
       "</style>\n",
       "<table border=\"1\" class=\"dataframe\">\n",
       "  <thead>\n",
       "    <tr style=\"text-align: right;\">\n",
       "      <th></th>\n",
       "      <th>the</th>\n",
       "      <th>to</th>\n",
       "    </tr>\n",
       "  </thead>\n",
       "  <tbody>\n",
       "    <tr>\n",
       "      <th>Doc 1</th>\n",
       "      <td>5</td>\n",
       "      <td>5</td>\n",
       "    </tr>\n",
       "    <tr>\n",
       "      <th>Doc 2</th>\n",
       "      <td>5</td>\n",
       "      <td>2</td>\n",
       "    </tr>\n",
       "    <tr>\n",
       "      <th>Doc 3</th>\n",
       "      <td>1</td>\n",
       "      <td>1</td>\n",
       "    </tr>\n",
       "    <tr>\n",
       "      <th>Doc 4</th>\n",
       "      <td>3</td>\n",
       "      <td>0</td>\n",
       "    </tr>\n",
       "    <tr>\n",
       "      <th>Doc 5</th>\n",
       "      <td>2</td>\n",
       "      <td>3</td>\n",
       "    </tr>\n",
       "    <tr>\n",
       "      <th>Doc 6</th>\n",
       "      <td>3</td>\n",
       "      <td>0</td>\n",
       "    </tr>\n",
       "    <tr>\n",
       "      <th>Doc 7</th>\n",
       "      <td>10</td>\n",
       "      <td>4</td>\n",
       "    </tr>\n",
       "    <tr>\n",
       "      <th>Doc 8</th>\n",
       "      <td>6</td>\n",
       "      <td>6</td>\n",
       "    </tr>\n",
       "    <tr>\n",
       "      <th>Doc 9</th>\n",
       "      <td>6</td>\n",
       "      <td>4</td>\n",
       "    </tr>\n",
       "    <tr>\n",
       "      <th>Doc 10</th>\n",
       "      <td>5</td>\n",
       "      <td>3</td>\n",
       "    </tr>\n",
       "    <tr>\n",
       "      <th>total_count</th>\n",
       "      <td>46</td>\n",
       "      <td>28</td>\n",
       "    </tr>\n",
       "  </tbody>\n",
       "</table>\n",
       "</div>"
      ],
      "text/plain": [
       "             the  to\n",
       "Doc 1          5   5\n",
       "Doc 2          5   2\n",
       "Doc 3          1   1\n",
       "Doc 4          3   0\n",
       "Doc 5          2   3\n",
       "Doc 6          3   0\n",
       "Doc 7         10   4\n",
       "Doc 8          6   6\n",
       "Doc 9          6   4\n",
       "Doc 10         5   3\n",
       "total_count   46  28"
      ]
     },
     "execution_count": 22,
     "metadata": {},
     "output_type": "execute_result"
    }
   ],
   "source": [
    "# Locate the and to in the documents\n",
    "term_document_matrix.loc[['the', 'to']].T\n",
    "\n",
    "# Create a scatterplot of the frequencies"
   ]
  },
  {
   "cell_type": "code",
   "execution_count": 23,
   "id": "f42ee0d1",
   "metadata": {},
   "outputs": [
    {
     "data": {
      "text/plain": [
       "<AxesSubplot:xlabel='the', ylabel='to'>"
      ]
     },
     "execution_count": 23,
     "metadata": {},
     "output_type": "execute_result"
    },
    {
     "data": {
      "image/png": "[encoded data removed]",
      "text/plain": [
       "<Figure size 432x288 with 1 Axes>"
      ]
     },
     "metadata": {
      "needs_background": "light"
     },
     "output_type": "display_data"
    }
   ],
   "source": [
    "term_document_matrix.drop(columns=['total_count']).T.plot.scatter(x='the', y='to')"
   ]
  },
  {
   "cell_type": "code",
   "execution_count": 24,
   "id": "076392ce",
   "metadata": {},
   "outputs": [],
   "source": [
    "# Activate math\n",
    "import math\n",
    "\n",
    "# Define a cosine similarity function\n",
    "def cosine_similarity(a,b):\n",
    "    \"compute cosine similarity of v1 to v2: (a dot b)/{||a||*||b||)\"\n",
    "    sumxx, sumxy, sumyy = 0, 0, 0\n",
    "    for i in range(len(a)):\n",
    "        x = a[i]; y = b[i]\n",
    "        sumxx += x*x\n",
    "        sumyy += y*y\n",
    "        sumxy += x*y\n",
    "    return sumxy/math.sqrt(sumxx*sumyy)"
   ]
  },
  {
   "cell_type": "code",
   "execution_count": 25,
   "id": "30ace8a5",
   "metadata": {},
   "outputs": [
    {
     "name": "stdout",
     "output_type": "stream",
     "text": [
      "{('Doc 1', 'Doc 10'): 0.7404908101339982,\n",
      " ('Doc 1', 'Doc 2'): 0.7369886027879209,\n",
      " ('Doc 1', 'Doc 3'): 0.553996261682467,\n",
      " ('Doc 1', 'Doc 4'): 0.528814613424173,\n",
      " ('Doc 1', 'Doc 5'): 0.7815646956547972,\n",
      " ('Doc 1', 'Doc 6'): 0.6049494651800982,\n",
      " ('Doc 1', 'Doc 7'): 0.8128564804830193,\n",
      " ('Doc 1', 'Doc 8'): 0.8154060910266203,\n",
      " ('Doc 1', 'Doc 9'): 0.7426657143690903,\n",
      " ('Doc 2', 'Doc 10'): 0.7529232524210427,\n",
      " ('Doc 2', 'Doc 3'): 0.6882472016116853,\n",
      " ('Doc 2', 'Doc 4'): 0.6226998490772391,\n",
      " ('Doc 2', 'Doc 5'): 0.5998866106008962,\n",
      " ('Doc 2', 'Doc 6'): 0.6998542122237651,\n",
      " ('Doc 2', 'Doc 7'): 0.8370395575931925,\n",
      " ('Doc 2', 'Doc 8'): 0.7848778501417674,\n",
      " ('Doc 2', 'Doc 9'): 0.7984728359197492,\n",
      " ('Doc 3', 'Doc 10'): 0.6529286250990105,\n",
      " ('Doc 3', 'Doc 4'): 0.5263157894736842,\n",
      " ('Doc 3', 'Doc 5'): 0.5445100807792042,\n",
      " ('Doc 3', 'Doc 6'): 0.5151221963699317,\n",
      " ('Doc 3', 'Doc 7'): 0.5040788665078232,\n",
      " ('Doc 3', 'Doc 8'): 0.6746034541560556,\n",
      " ('Doc 3', 'Doc 9'): 0.539905524799017,\n",
      " ('Doc 4', 'Doc 10'): 0.4836508334066745,\n",
      " ('Doc 4', 'Doc 5'): 0.5445100807792042,\n",
      " ('Doc 4', 'Doc 6'): 0.5619514869490164,\n",
      " ('Doc 4', 'Doc 7'): 0.6347659800468884,\n",
      " ('Doc 4', 'Doc 8'): 0.4083126169891915,\n",
      " ('Doc 4', 'Doc 9'): 0.49491339773243226,\n",
      " ('Doc 5', 'Doc 10'): 0.6158402871356008,\n",
      " ('Doc 5', 'Doc 6'): 0.4844813951249544,\n",
      " ('Doc 5', 'Doc 7'): 0.6834531203897012,\n",
      " ('Doc 5', 'Doc 8'): 0.7064007333008538,\n",
      " ('Doc 5', 'Doc 9'): 0.698212002188447,\n",
      " ('Doc 6', 'Doc 10'): 0.7100469468046932,\n",
      " ('Doc 6', 'Doc 7'): 0.6976782688943503,\n",
      " ('Doc 6', 'Doc 8'): 0.7423932277377121,\n",
      " ('Doc 6', 'Doc 9'): 0.6204965959947126,\n",
      " ('Doc 7', 'Doc 10'): 0.7119809341727207,\n",
      " ('Doc 7', 'Doc 8'): 0.7934578038642424,\n",
      " ('Doc 7', 'Doc 9'): 0.7580859749327312,\n",
      " ('Doc 8', 'Doc 10'): 0.7504268024896744,\n",
      " ('Doc 8', 'Doc 9'): 0.8119118357993119,\n",
      " ('Doc 9', 'Doc 10'): 0.7235359517703827}\n"
     ]
    }
   ],
   "source": [
    "# Activate numpy\n",
    "import numpy as np \n",
    "\n",
    "# Save the similarity index between the documents\n",
    "def pair(s):\n",
    "    for i, v1 in enumerate(s):\n",
    "        for j in range(i+1, len(s)):\n",
    "            yield [v1, s[j]]\n",
    "\n",
    "\n",
    "documents = list()\n",
    "for i in range(1,11):\n",
    "    documents.append(\"Doc \" + str(i))\n",
    "#documents\n",
    "#print(len(documents))\n",
    "\n",
    "dic={} \n",
    "for (a,b) in list(pair(documents)):\n",
    "  dic[(a,b)] = cosine_similarity(term_document_matrix[a].tolist(), term_document_matrix[b].tolist())\n",
    "\n",
    "# Print the cosine similarity index\n",
    "pprint(dic)"
   ]
  },
  {
   "cell_type": "code",
   "execution_count": 26,
   "id": "aa33ff60",
   "metadata": {},
   "outputs": [
    {
     "data": {
      "image/png": "[encoded data removed]",
      "text/plain": [
       "<Figure size 432x288 with 1 Axes>"
      ]
     },
     "metadata": {
      "needs_background": "light"
     },
     "output_type": "display_data"
    }
   ],
   "source": [
    "#documents= ['Doc 1', 'Doc 2', 'Doc 3', 'Doc 4', 'Doc 5', 'Doc 6', 'Doc 7', 'Doc 8', 'Doc 9', 'Doc 10']\n",
    "#print(len(documents))\n",
    "#documents = list()\n",
    "#for i in range(1,11):\n",
    "#    documents.append(\"Doc \" + str(i))\n",
    "#documents\n",
    "\n",
    "final_df = pd.DataFrame(np.asarray([[(dic[(x,y)] if (x,y) in dic else 0) for y in documents] for x in documents]))\n",
    "final_df.columns =  documents\n",
    "final_df.index = documents \n",
    "\n",
    "import matplotlib.pyplot as plt\n",
    "fig, ax = plt.subplots()\n",
    "ax.set_xticks(np.arange(len(documents)))\n",
    "ax.set_yticks(np.arange(len(documents)))\n",
    "ax.set_xticklabels(documents)\n",
    "ax.set_yticklabels(documents)\n",
    "ax.matshow(final_df, cmap='seismic')\n",
    "for (i, j), z in np.ndenumerate(final_df):\n",
    "  if z != 0 :\n",
    "    ax.text(j, i, '{:0.2f}'.format(z), ha='center', va='center',\n",
    "            bbox=dict(boxstyle='round', facecolor='white', edgecolor='0.3'))\n",
    "  else:\n",
    "    None\n",
    "fig.suptitle('Cosine Similarity Index between the Documents')\n",
    "plt.show()"
   ]
  },
  {
   "cell_type": "code",
   "execution_count": 27,
   "id": "058f6fd1",
   "metadata": {},
   "outputs": [],
   "source": [
    "import numpy\n",
    "data_aff_matrix = final_df + numpy.transpose(final_df)"
   ]
  },
  {
   "cell_type": "code",
   "execution_count": 57,
   "id": "e5f01b7a",
   "metadata": {},
   "outputs": [
    {
     "name": "stdout",
     "output_type": "stream",
     "text": [
      "[4 3 0 2 0 0 0 2 1 0]\n"
     ]
    },
    {
     "data": {
      "image/png": "[encoded data removed]",
      "text/plain": [
       "<Figure size 432x288 with 1 Axes>"
      ]
     },
     "metadata": {
      "needs_background": "light"
     },
     "output_type": "display_data"
    }
   ],
   "source": [
    "from sklearn.cluster import AgglomerativeClustering\n",
    "\n",
    "model = AgglomerativeClustering(affinity='precomputed', n_clusters=5, linkage='complete').fit(data_aff_matrix)\n",
    "print(model.labels_)\n",
    "\n",
    "\n",
    "model = AgglomerativeClustering(distance_threshold=0, n_clusters=None, affinity='precomputed', linkage='complete').fit(data_aff_matrix)\n",
    "\n",
    "\n",
    "\n",
    "import numpy as np\n",
    "from matplotlib import pyplot as plt\n",
    "from scipy.cluster.hierarchy import dendrogram\n",
    "\n",
    "def plot_dendrogram(model, **kwargs):\n",
    "    # Create linkage matrix and then plot the dendrogram\n",
    "\n",
    "    # create the counts of samples under each node\n",
    "    counts = np.zeros(model.children_.shape[0])\n",
    "    n_samples = len(model.labels_)\n",
    "    for i, merge in enumerate(model.children_):\n",
    "        current_count = 0\n",
    "        for child_idx in merge:\n",
    "            if child_idx < n_samples:\n",
    "                current_count += 1  # leaf node\n",
    "            else:\n",
    "                current_count += counts[child_idx - n_samples]\n",
    "        counts[i] = current_count\n",
    "\n",
    "    linkage_matrix = np.column_stack([model.children_, model.distances_,\n",
    "                                      counts]).astype(float)\n",
    "\n",
    "    # Plot the corresponding dendrogram\n",
    "    dendrogram(linkage_matrix, **kwargs)\n",
    "    \n",
    "\n",
    "\n",
    "plt.title('Hierarchical Clustering Dendrogram')\n",
    "# plot the top three levels of the dendrogram\n",
    "#plot_dendrogram(model, truncate_mode='level', p=3)\n",
    "plot_dendrogram(model, truncate_mode='level')\n",
    "plt.xlabel(\"Number of points in node (or index of point if no parenthesis).\")\n",
    "plt.show()\n",
    "\n",
    "\n"
   ]
  },
  {
   "cell_type": "code",
   "execution_count": null,
   "id": "a53ef468",
   "metadata": {},
   "outputs": [],
   "source": []
  }
 ],
 "metadata": {
  "kernelspec": {
   "display_name": "Python 3",
   "language": "python",
   "name": "python3"
  },
  "language_info": {
   "codemirror_mode": {
    "name": "ipython",
    "version": 3
   },
   "file_extension": ".py",
   "mimetype": "text/x-python",
   "name": "python",
   "nbconvert_exporter": "python",
   "pygments_lexer": "ipython3",
   "version": "3.8.8"
  }
 },
 "nbformat": 4,
 "nbformat_minor": 5
}
