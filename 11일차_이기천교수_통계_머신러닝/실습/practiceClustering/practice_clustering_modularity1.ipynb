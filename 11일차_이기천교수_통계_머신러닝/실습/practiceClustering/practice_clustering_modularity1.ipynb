{
 "cells": [
  {
   "cell_type": "code",
   "execution_count": 1,
   "id": "2cf17356",
   "metadata": {},
   "outputs": [
    {
     "data": {
      "text/plain": [
       "'2.6.1'"
      ]
     },
     "execution_count": 1,
     "metadata": {},
     "output_type": "execute_result"
    }
   ],
   "source": [
    "#https://zhiyzuo.github.io/python-modularity-maximization/\n",
    "#pip install python-modularity-maximization==0.0.1rc4\n",
    "import networkx as nx\n",
    "nx.__version__"
   ]
  },
  {
   "cell_type": "code",
   "execution_count": 2,
   "id": "abca8788",
   "metadata": {},
   "outputs": [],
   "source": [
    "from modularity_maximization import partition\n",
    "from modularity_maximization.utils import get_modularity"
   ]
  },
  {
   "cell_type": "code",
   "execution_count": 3,
   "id": "da036639",
   "metadata": {},
   "outputs": [
    {
     "name": "stdout",
     "output_type": "stream",
     "text": [
      "Graph with 34 nodes and 78 edges\n"
     ]
    }
   ],
   "source": [
    "\n",
    "karate = nx.Graph(nx.read_pajek(\"data/karate.net.txt\"))\n",
    "print(nx.info(karate))"
   ]
  },
  {
   "cell_type": "code",
   "execution_count": 7,
   "id": "f4bae41d",
   "metadata": {
    "scrolled": true
   },
   "outputs": [
    {
     "name": "stdout",
     "output_type": "stream",
     "text": [
      "Community 3\n",
      "1, 2, 3, 4, 8, 10, 12, 13, 14, 18, 20, 22\n",
      "Community 4\n",
      "5, 6, 7, 11, 17\n",
      "Community 5\n",
      "24, 25, 26, 28, 29, 32\n",
      "Community 6\n",
      "9, 15, 16, 19, 21, 23, 27, 30, 31, 33, 34\n",
      "Calculating modularity for undirected graph\n",
      "Modularity of such partition for karate is 0.419\n"
     ]
    }
   ],
   "source": [
    "from scipy.sparse.linalg import eigs\n",
    "\n",
    "comm_dict = partition(karate)\n",
    "for comm in set(comm_dict.values()):\n",
    "    print(\"Community %d\"%comm)\n",
    "    print(', '.join([node for node in comm_dict if comm_dict[node] == comm]))\n",
    "print('Modularity of such partition for karate is %.3f' % get_modularity(karate, comm_dict))"
   ]
  },
  {
   "cell_type": "code",
   "execution_count": 8,
   "id": "a6e2eb6e",
   "metadata": {},
   "outputs": [
    {
     "name": "stdout",
     "output_type": "stream",
     "text": [
      "Graph with 198 nodes and 2742 edges\n"
     ]
    }
   ],
   "source": [
    "jazz = nx.Graph(nx.read_pajek(\"data/jazz.net.txt\"))\n",
    "print(nx.info(jazz))"
   ]
  },
  {
   "cell_type": "code",
   "execution_count": 9,
   "id": "9c0bc238",
   "metadata": {},
   "outputs": [
    {
     "name": "stdout",
     "output_type": "stream",
     "text": [
      "Community 3\n",
      "9, 59, 82, 84, 93, 94, 111, 116, 117, 118, 121, 125, 137, 143, 146, 175, 177, 183, 190, 193\n",
      "Community 4\n",
      "1, 8, 15, 16, 17, 20, 22, 23, 24, 32, 33, 35, 38, 40, 42, 43, 44, 46, 48, 50, 58, 60, 62, 63, 64, 65, 66, 68, 78, 80, 81, 91, 95, 98, 99, 100, 101, 104, 105, 106, 107, 108, 109, 110, 119, 120, 122, 123, 131, 132, 134, 135, 139, 154, 159, 162, 166, 168, 170, 171, 179, 182, 187, 188\n",
      "Community 5\n",
      "2, 7, 10, 11, 12, 14, 19, 30, 31, 34, 36, 49, 52, 53, 54, 55, 56, 57, 61, 67, 69, 70, 71, 72, 74, 83, 87, 89, 103, 112, 113, 114, 127, 129, 130, 141, 142, 150, 151, 158, 161, 164, 165, 174, 178, 185, 186, 192, 194, 195, 196, 197\n",
      "Community 6\n",
      "3, 4, 5, 6, 13, 18, 21, 25, 26, 27, 28, 29, 37, 39, 41, 45, 47, 51, 73, 75, 76, 77, 79, 85, 86, 88, 90, 92, 96, 97, 102, 115, 124, 126, 128, 133, 136, 138, 140, 144, 145, 147, 148, 149, 152, 153, 155, 156, 157, 160, 163, 167, 169, 172, 173, 176, 180, 181, 184, 189, 191, 198\n",
      "Calculating modularity for undirected graph\n",
      "Modularity of such partition for jazz is 0.442\n"
     ]
    }
   ],
   "source": [
    "comm_dict = partition(jazz)\n",
    "\n",
    "for comm in set(comm_dict.values()):\n",
    "    print(\"Community %d\"%comm)\n",
    "    print(', '.join([node for node in comm_dict if comm_dict[node] == comm]))\n",
    "print('Modularity of such partition for jazz is %.3f' % get_modularity(jazz, comm_dict))"
   ]
  },
  {
   "cell_type": "code",
   "execution_count": 10,
   "id": "1688c7c2",
   "metadata": {},
   "outputs": [
    {
     "name": "stdout",
     "output_type": "stream",
     "text": [
      "Graph with 115 nodes and 613 edges\n"
     ]
    }
   ],
   "source": [
    "big_10_football = nx.read_gml(\"data/football.gml.txt\")\n",
    "print(nx.info(big_10_football))"
   ]
  },
  {
   "cell_type": "code",
   "execution_count": 11,
   "id": "1dd24f25",
   "metadata": {},
   "outputs": [],
   "source": [
    "comm_dict = partition(big_10_football)"
   ]
  },
  {
   "cell_type": "code",
   "execution_count": 12,
   "id": "dc1087c3",
   "metadata": {},
   "outputs": [
    {
     "name": "stdout",
     "output_type": "stream",
     "text": [
      "Community 7\n",
      "NorthernIllinois, WesternMichigan, Akron, BallState, BowlingGreenState, Buffalo, CentralFlorida, CentralMichigan, Connecticut, EasternMichigan, Kent, MiamiOhio, Ohio, Toledo, Marshall\n",
      "Community 8\n",
      "VirginiaTech, BostonCollege, WestVirginia, Syracuse, Pittsburgh, Temple, Navy, Rutgers, MiamiFlorida\n",
      "Community 10\n",
      "FloridaState, NorthCarolinaState, Virginia, GeorgiaTech, Duke, NorthCarolina, Clemson, WakeForest, Maryland\n",
      "Community 11\n",
      "FresnoState, Rice, SouthernMethodist, Nevada, SanJoseState, TexasElPaso, Tulsa, TexasChristian, Hawaii\n",
      "Community 12\n",
      "Iowa, PennState, Northwestern, Wisconsin, Michigan, Purdue, OhioState, Minnesota, Illinois, MichiganState, Indiana\n",
      "Community 14\n",
      "KansasState, TexasTech, Baylor, Colorado, Kansas, IowaState, Nebraska, TexasA&M, NotreDame, Oklahoma, Texas, Missouri, OklahomaState\n",
      "Community 15\n",
      "Auburn, Alabama, Florida, Kentucky, LouisianaTech, LouisianaMonroe, Vanderbilt, MiddleTennesseeState, MississippiState, SouthCarolina, Tennessee, Mississippi, Georgia, LouisianaState, LouisianaLafayette, Arkansas\n",
      "Community 16\n",
      "EastCarolina, Houston, Louisville, Memphis, SouthernMississippi, Tulane, Army, Cincinnati, AlabamaBirmingham\n",
      "Community 17\n",
      "BrighamYoung, NewMexico, SanDiegoState, NorthTexas, Wyoming, Utah, ArkansasState, BoiseState, ColoradoState, Idaho, NewMexicoState, UtahState, AirForce, NevadaLasVegas\n",
      "Community 18\n",
      "SouthernCalifornia, ArizonaState, UCLA, Arizona, Washington, Oregon, Stanford, WashingtonState, OregonState, California\n"
     ]
    }
   ],
   "source": [
    "\n",
    "for comm in set(comm_dict.values()):\n",
    "    print(\"Community %d\"%comm)\n",
    "    print(', '.join([node for node in comm_dict if comm_dict[node] == comm]))"
   ]
  },
  {
   "cell_type": "code",
   "execution_count": 13,
   "id": "ec41cebf",
   "metadata": {},
   "outputs": [
    {
     "name": "stdout",
     "output_type": "stream",
     "text": [
      "Calculating modularity for undirected graph\n",
      "Modularity of such partition for football is 0.601\n"
     ]
    }
   ],
   "source": [
    "print('Modularity of such partition for football is %.3f' %\\\n",
    "      get_modularity(big_10_football, comm_dict))"
   ]
  },
  {
   "cell_type": "code",
   "execution_count": 14,
   "id": "784474ff",
   "metadata": {},
   "outputs": [
    {
     "name": "stdout",
     "output_type": "stream",
     "text": [
      "2.6.1\n",
      "[{0, 1, 2}, {3, 4, 5}]\n",
      "0.26530612244897955\n"
     ]
    }
   ],
   "source": [
    "#https://github.com/shobrook/communities\n",
    "#pip install decorator==4.3\n",
    "#pip install networkx==2.6.1\n",
    "\n",
    "import numpy as np\n",
    "import networkx as nx\n",
    "print(nx.__version__)\n",
    "\n",
    "from communities.algorithms import louvain_method\n",
    "from communities.visualization import draw_communities\n",
    "from communities.visualization import louvain_animation\n",
    "from communities.utilities import modularity_matrix, modularity\n",
    "\n",
    "adj_matrix = np.array([[0, 1, 1, 0, 0, 0],\n",
    "                       [1, 0, 1, 0, 0, 0],\n",
    "                       [1, 1, 0, 1, 0, 0],\n",
    "                       [0, 0, 1, 0, 1, 1],\n",
    "                       [0, 0, 0, 1, 0, 1],\n",
    "                       [0, 0, 0, 1, 1, 0]])\n",
    "communities, frames  = louvain_method(adj_matrix)\n",
    "print(communities)\n",
    "\n",
    "mod_matrix = modularity_matrix(adj_matrix)\n",
    "Q = modularity(mod_matrix, communities)\n",
    "print(Q)\n",
    "\n",
    "#draw_communities(adj_matrix =adj_matrix, communities  = communities, seed =100,dark  = False)\n",
    "#louvain_animation(adj_matrix, frames)"
   ]
  },
  {
   "cell_type": "code",
   "execution_count": 15,
   "id": "9cbf0469",
   "metadata": {},
   "outputs": [],
   "source": [
    "\n",
    "import networkx as nx\n",
    "import matplotlib.pyplot as plt\n",
    "import numpy as np\n",
    "import copy\n",
    "from networkx.algorithms import community\n",
    "import matplotlib.animation as animation\n",
    "\n",
    "\n",
    "def Add_Inner_edges(range, num):\n",
    "    inner_edges = []\n",
    "    while len(inner_edges) < num:\n",
    "        tmp = np.sort(np.random.choice(range, size=2, replace=None)).tolist()\n",
    "        tmp += [10*np.random.uniform(0, 1)]  # random weight\n",
    "        new_edge = tuple(tmp)\n",
    "        if new_edge not in inner_edges:\n",
    "            inner_edges = inner_edges + [new_edge]\n",
    "    return inner_edges\n",
    "\n",
    "\n",
    "def Add_Outer_edges(Community_all, num):\n",
    "    # 두 커뮤니티 선택\n",
    "    outter_edges = []\n",
    "    while len(outter_edges) < num:\n",
    "        #group_choiced = np.random.choice(range(len(Community_all)), size=2, replace=None) # 범용적으로 커뮤니티 선택할 시\n",
    "        if len(outter_edges) < 3:\n",
    "            group_choiced = np.random.choice([0, 1], size=2, replace=None)\n",
    "        elif len(outter_edges) < 6:\n",
    "            group_choiced = np.random.choice([0, 2], size=2, replace=None)\n",
    "        elif len(outter_edges) < 10:\n",
    "            group_choiced = np.random.choice([1, 2], size=2, replace=None)\n",
    "        tmp = np.sort([np.random.choice(Community_all[group_choiced[0]], replace=None),\n",
    "                 np.random.choice(Community_all[group_choiced[1]], replace=None)]).tolist()\n",
    "        tmp += [np.random.uniform(0, 1)]  # random weight\n",
    "        new_edge = tuple(tmp)\n",
    "        if new_edge not in outter_edges:\n",
    "            outter_edges = outter_edges + [new_edge]\n",
    "    return outter_edges\n",
    "\n",
    "\n",
    "\"\"\" Network 생성 \"\"\"\n",
    "# 총 150명\n",
    "G = nx.Graph()\n",
    "G.add_nodes_from(range(150))\n",
    "# Community 설정 3개의 커뮤니티\n",
    "Community1 = range(0, 40)\n",
    "Community2 = range(40, 90)\n",
    "Community3 = range(90, 150)\n",
    "Community_all = Community1, Community2, Community3\n",
    "\n",
    "# 내부 연결 추가\n",
    "Inner_edges_1 = Add_Inner_edges(range=Community1, num=300)  # Community 1 100개\n",
    "Inner_edges_2 = Add_Inner_edges(range=Community2, num=300)  # Community 1 150개\n",
    "Inner_edges_3 = Add_Inner_edges(range=Community3, num=300)  # Community 1 120개\n",
    "G.add_weighted_edges_from(Inner_edges_1)\n",
    "G.add_weighted_edges_from(Inner_edges_2)\n",
    "G.add_weighted_edges_from(Inner_edges_3)\n",
    "\n",
    "# 외부 연결 추가\n",
    "Outter_edges = Add_Outer_edges(Community_all, 100)  # Community 1-2-3 간에 50개\n",
    "G.add_weighted_edges_from(Outter_edges)\n",
    "pos = nx.spring_layout(G)"
   ]
  },
  {
   "cell_type": "code",
   "execution_count": 16,
   "id": "f7d4643f",
   "metadata": {},
   "outputs": [
    {
     "name": "stdout",
     "output_type": "stream",
     "text": [
      "com: 0\n",
      "com: 1\n",
      "com: 2\n"
     ]
    },
    {
     "data": {
      "image/png": "[encoded data removed]",
      "text/plain": [
       "<Figure size 432x288 with 2 Axes>"
      ]
     },
     "metadata": {
      "needs_background": "light"
     },
     "output_type": "display_data"
    }
   ],
   "source": [
    "import community as lvcm\n",
    "\n",
    "\n",
    "\"\"\" Louvain method \"\"\"\n",
    "#partition = lvcm.best_partition(graph=G, partition=None, weight='weight', resolution=1., randomize=True)\n",
    "partition = lvcm.best_partition(graph=G)\n",
    "\n",
    "max_k_w = []\n",
    "for com in set(partition.values()):\n",
    "    print(\"com:\", com)\n",
    "    list_nodes = [nodes for nodes in partition.keys()\n",
    "                  if partition[nodes] == com]\n",
    "    max_k_w = max_k_w + [list_nodes]\n",
    "\n",
    "\"\"\" Make Community Color list \"\"\"\n",
    "community_num_group = len(max_k_w)\n",
    "color_list_community = [[] for i in range(len(G.nodes()))]\n",
    "for i in range(len(G.nodes())):\n",
    "    for j in range(community_num_group):\n",
    "        if i in max_k_w[j]:\n",
    "            color_list_community[i] = j\n",
    "\n",
    "\"\"\" Plot Community \"\"\"\n",
    "fig = plt.figure()\n",
    "edges = G.edges()\n",
    "weights = [G[u][v]['weight'] for u, v in edges]\n",
    "Feature_color_sub = color_list_community\n",
    "node_size = 50\n",
    "im = nx.draw_networkx_nodes(G, pos, node_size=node_size, node_color=Feature_color_sub, cmap='jet', vmin=0, vmax=community_num_group)\n",
    "nx.draw_networkx_edges(G, pos, width=weights)\n",
    "nx.draw_networkx_labels(G, pos, font_size=5, font_color=\"black\")\n",
    "plt.xticks([])\n",
    "plt.yticks([])\n",
    "plt.colorbar(im)\n",
    "plt.show(block=False)"
   ]
  },
  {
   "cell_type": "code",
   "execution_count": 17,
   "id": "55932c92",
   "metadata": {
    "scrolled": true
   },
   "outputs": [],
   "source": [
    "# display a graph with its communities:\n",
    "# as Erdos-Renyi graphs don't have true community structure,\n",
    "# instead load the karate club graph\n",
    "import community as community_louvain\n",
    "import matplotlib.cm as cm\n",
    "import matplotlib.pyplot as plt\n",
    "import networkx as nx\n",
    "G = nx.karate_club_graph()\n",
    "# compute the best partition\n",
    "partition = community_louvain.best_partition(G)\n",
    "\n",
    "\n"
   ]
  },
  {
   "cell_type": "code",
   "execution_count": null,
   "id": "afdbde5a",
   "metadata": {},
   "outputs": [],
   "source": []
  }
 ],
 "metadata": {
  "kernelspec": {
   "display_name": "Python 3",
   "language": "python",
   "name": "python3"
  },
  "language_info": {
   "codemirror_mode": {
    "name": "ipython",
    "version": 3
   },
   "file_extension": ".py",
   "mimetype": "text/x-python",
   "name": "python",
   "nbconvert_exporter": "python",
   "pygments_lexer": "ipython3",
   "version": "3.8.8"
  }
 },
 "nbformat": 4,
 "nbformat_minor": 5
}
