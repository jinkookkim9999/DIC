{
 "cells": [
  {
   "cell_type": "code",
   "execution_count": 1,
   "id": "0f7278dd",
   "metadata": {},
   "outputs": [],
   "source": [
    "def edit_distance(str1, str2, a, b):\n",
    "    string_matrix = [[0 for i in range(b+1)] for i in range(a+1)]\n",
    "\n",
    "    for i in range(a+1):\n",
    "        for j in range(b+1):\n",
    "\n",
    "            if i == 0:\n",
    "                string_matrix[i][j] = j   # If first string is empty, insert all characters of second string into first.\n",
    "\n",
    "            elif j == 0:\n",
    "                string_matrix[i][j] = i   # If second string is empty, remove all characters of first string.\n",
    "\n",
    "            elif str1[i-1] == str2[j-1]:\n",
    "                string_matrix[i][j] = string_matrix[i-1][j-1]  # If last characters of two strings are same, nothing much to do. Ignore the last two characters and get the count of remaining strings.\n",
    "\n",
    "            else:\n",
    "                string_matrix[i][j] = 1 + min(string_matrix[i][j-1],      # insert operation\n",
    "                                       string_matrix[i-1][j],      # remove operation\n",
    "                                       string_matrix[i-1][j-1])    # replace operation\n",
    "\n",
    "    return string_matrix[a][b]\n",
    "\n"
   ]
  },
  {
   "cell_type": "code",
   "execution_count": 2,
   "id": "eea7367f",
   "metadata": {},
   "outputs": [
    {
     "name": "stdout",
     "output_type": "stream",
     "text": [
      "No. of Operations required : 1\n",
      "No. of Operations required : 3\n"
     ]
    }
   ],
   "source": [
    "\n",
    "if __name__ == '__main__':\n",
    "    str1 = 'Cats'\n",
    "    str2 = 'Rats'\n",
    "\n",
    "    print('No. of Operations required :',edit_distance(str1, str2, len(str1), len(str2)))\n",
    "    \n",
    "\n",
    "    str3 = 'Saturday'\n",
    "    str4 = 'Sunday'\n",
    "    print('No. of Operations required :',edit_distance(str3, str4, len(str3), len(str4)))"
   ]
  },
  {
   "cell_type": "code",
   "execution_count": null,
   "id": "6460a586",
   "metadata": {},
   "outputs": [],
   "source": []
  }
 ],
 "metadata": {
  "kernelspec": {
   "display_name": "Python 3",
   "language": "python",
   "name": "python3"
  },
  "language_info": {
   "codemirror_mode": {
    "name": "ipython",
    "version": 3
   },
   "file_extension": ".py",
   "mimetype": "text/x-python",
   "name": "python",
   "nbconvert_exporter": "python",
   "pygments_lexer": "ipython3",
   "version": "3.8.8"
  }
 },
 "nbformat": 4,
 "nbformat_minor": 5
}
