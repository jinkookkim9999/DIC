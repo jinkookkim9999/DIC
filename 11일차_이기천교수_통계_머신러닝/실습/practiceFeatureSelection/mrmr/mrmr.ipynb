{
 "cells": [
  {
   "cell_type": "code",
   "execution_count": 1,
   "metadata": {},
   "outputs": [
    {
     "name": "stdout",
     "output_type": "stream",
     "text": [
      "Requirement already satisfied: Pymrmre in c:\\users\\kbh97\\anaconda3\\lib\\site-packages (1.0.7)\n",
      "Requirement already satisfied: scipy in c:\\users\\kbh97\\anaconda3\\lib\\site-packages (from Pymrmre) (1.5.2)\n",
      "Requirement already satisfied: numpy in c:\\users\\kbh97\\anaconda3\\lib\\site-packages (from Pymrmre) (1.19.2)\n",
      "Requirement already satisfied: pandas in c:\\users\\kbh97\\anaconda3\\lib\\site-packages (from Pymrmre) (1.1.3)\n",
      "Requirement already satisfied: pytz>=2017.2 in c:\\users\\kbh97\\anaconda3\\lib\\site-packages (from pandas->Pymrmre) (2020.1)\n",
      "Requirement already satisfied: python-dateutil>=2.7.3 in c:\\users\\kbh97\\anaconda3\\lib\\site-packages (from pandas->Pymrmre) (2.8.1)\n",
      "Requirement already satisfied: six>=1.5 in c:\\users\\kbh97\\anaconda3\\lib\\site-packages (from python-dateutil>=2.7.3->pandas->Pymrmre) (1.15.0)\n",
      "Note: you may need to restart the kernel to use updated packages.\n"
     ]
    }
   ],
   "source": [
    "#pip install Pymrmre\n",
    "#pip install category_encoders"
   ]
  },
  {
   "cell_type": "code",
   "execution_count": 11,
   "metadata": {},
   "outputs": [],
   "source": []
  },
  {
   "cell_type": "code",
   "execution_count": 4,
   "metadata": {},
   "outputs": [],
   "source": [
    "from mrmr import mrmr_classif"
   ]
  },
  {
   "cell_type": "code",
   "execution_count": 9,
   "metadata": {},
   "outputs": [],
   "source": [
    "from sklearn.datasets import make_classification\n",
    "import pandas as pd"
   ]
  },
  {
   "cell_type": "code",
   "execution_count": 10,
   "metadata": {},
   "outputs": [
    {
     "name": "stderr",
     "output_type": "stream",
     "text": [
      "100%|██████████████████████████████████████████| 10/10 [00:00<00:00, 46.08it/s]\n"
     ]
    }
   ],
   "source": [
    "# create some data\n",
    "X, y = make_classification(n_samples = 1000, n_features = 50, n_informative = 10, n_redundant = 40)\n",
    "X = pd.DataFrame(X)\n",
    "y = pd.Series(y)\n",
    "\n",
    "# use mrmr classification\n",
    "selected_features = mrmr_classif(X, y, K = 10)"
   ]
  },
  {
   "cell_type": "code",
   "execution_count": 9,
   "metadata": {},
   "outputs": [
    {
     "data": {
      "text/plain": [
       "[3, 8, 27, 23, 1, 9, 7, 47, 31, 41]"
      ]
     },
     "execution_count": 9,
     "metadata": {},
     "output_type": "execute_result"
    }
   ],
   "source": [
    "selected_features"
   ]
  },
  {
   "cell_type": "code",
   "execution_count": null,
   "metadata": {},
   "outputs": [],
   "source": []
  }
 ],
 "metadata": {
  "kernelspec": {
   "display_name": "Python 3",
   "language": "python",
   "name": "python3"
  },
  "language_info": {
   "codemirror_mode": {
    "name": "ipython",
    "version": 3
   },
   "file_extension": ".py",
   "mimetype": "text/x-python",
   "name": "python",
   "nbconvert_exporter": "python",
   "pygments_lexer": "ipython3",
   "version": "3.8.8"
  }
 },
 "nbformat": 4,
 "nbformat_minor": 4
}
