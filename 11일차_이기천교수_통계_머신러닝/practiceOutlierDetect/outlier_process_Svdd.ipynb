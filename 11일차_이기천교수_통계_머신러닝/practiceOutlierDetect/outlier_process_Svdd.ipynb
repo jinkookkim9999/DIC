{
 "cells": [
  {
   "cell_type": "code",
   "execution_count": 1,
   "metadata": {},
   "outputs": [],
   "source": [
    "import numpy as np\n",
    "import random as rd\n",
    "import pylab\n",
    "import matplotlib\n",
    "import matplotlib.pyplot as plt\n",
    "\n",
    "import math\n",
    "import time"
   ]
  },
  {
   "cell_type": "code",
   "execution_count": 2,
   "metadata": {},
   "outputs": [
    {
     "name": "stdout",
     "output_type": "stream",
     "text": [
      "Requirement already satisfied: gurobipy in c:\\anaconda3\\lib\\site-packages (9.1.2)\n",
      "Note: you may need to restart the kernel to use updated packages.\n"
     ]
    }
   ],
   "source": [
    "#pip install gurobipy"
   ]
  },
  {
   "cell_type": "code",
   "execution_count": 3,
   "metadata": {},
   "outputs": [],
   "source": [
    "from gurobipy import *"
   ]
  },
  {
   "cell_type": "code",
   "execution_count": 4,
   "metadata": {},
   "outputs": [],
   "source": [
    "#Lagrangian Dual Maximization\n",
    "\n",
    "def maximize_L(training_set):\n",
    "    m = Model(\"Dual Lagrangian\")\n",
    "    vars = ['']*int(round(element_num*training_rate))\n",
    "    for i in range(int(round(element_num*training_rate))):\n",
    "        vars[i] = m.addVar(vtype=GRB.CONTINUOUS, name=\"x\"+str(i))\n",
    "    m.update()\n",
    "\n",
    "    ## Objective function 구성\n",
    "    obj_1 = sum(vars[i]*inner_product(training_set[i], training_set[i]) for i in range(int(round(element_num*training_rate))))\n",
    "    obj_2 = 0\n",
    "    for i in range(int(round(element_num*training_rate))):\n",
    "        for j in range(int(round(element_num*training_rate))):\n",
    "            obj_2 += vars[i]*vars[j]*inner_product(training_set[i], training_set[j])\n",
    "    obj = obj_1 - obj_2\n",
    "\n",
    "    m.setObjective(obj, GRB.MAXIMIZE)\n",
    "    for i in range(int(round(element_num*training_rate))):\n",
    "        m.addConstr(vars[i] <= C, \"c\"+str(i))\n",
    "    m.optimize()\n",
    "\n",
    "    ## Rounding up\n",
    "    solution = []\n",
    "    for v in m.getVars():\n",
    "        solution.append(round(v.x, int(math.floor(abs(np.log10(C))+2))))\n",
    "    return solution"
   ]
  },
  {
   "cell_type": "code",
   "execution_count": 5,
   "metadata": {},
   "outputs": [],
   "source": [
    "# alpha 값에 따라 데이터를 분류\n",
    "\n",
    "def select_sv_on(alpha_dict):\n",
    "    sv_on_point_index = []\n",
    "    for i in range(int(round(element_num*training_rate))):\n",
    "        if alpha_dict[i] > 0:\n",
    "            if alpha_dict[i] < C:\n",
    "                sv_on_point_index.append(i)\n",
    "    print(\"number sv_on: \"+str(len(sv_on_point_index)))\n",
    "    return sv_on_point_index\n",
    "\n",
    "def select_sv_outsider(alpha_dict):\n",
    "    sv_outsider_point_index = []\n",
    "    for i in range(int(round(element_num*training_rate))):\n",
    "        if alpha_dict[i] == C :\n",
    "            sv_outsider_point_index.append(i)\n",
    "    print(\"number sv_outsider: \"+str(len(sv_outsider_point_index)))\n",
    "    return sv_outsider_point_index\n",
    "\n",
    "def select_nsv(sv_on, sv_outsider):\n",
    "    index = [i for i in range(int(round(element_num*training_rate)))]\n",
    "    sv = sv_on + sv_outsider\n",
    "    for i in sv:\n",
    "        index.remove(i)\n",
    "    print(\"number nsv: \"+str(len(index)))\n",
    "    return index"
   ]
  },
  {
   "cell_type": "code",
   "execution_count": 6,
   "metadata": {},
   "outputs": [],
   "source": [
    "# Radius 계산\n",
    "\n",
    "def calculate_radius(datapoint, point_dict, alpha_dict, middlepoint):\n",
    "    R_1 = inner_product(datapoint, datapoint)\n",
    "    R_2 = sum([alpha_dict[i]*inner_product(point_dict[i], datapoint) for i in range(training_num)])\n",
    "    R_3 = 0\n",
    "    for i in range(training_num):\n",
    "        for j in range(training_num):\n",
    "            R_3 += alpha_dict[i]*alpha_dict[j]*inner_product(point_dict[i], point_dict[j])\n",
    "    R =(R_1 - 2*R_2 + R_3)**0.5\n",
    "    return R"
   ]
  },
  {
   "cell_type": "code",
   "execution_count": 7,
   "metadata": {},
   "outputs": [],
   "source": [
    "# Outlier test(Yes/No)\n",
    "\n",
    "def test_SVDD(test_set, data_class, middlepoint, R, point_dict, alpha_dict):\n",
    "    FRR2, FAR2 = 0, 0\n",
    "    for i in range(len(test_set)):\n",
    "        if data_class[i] == 1:\n",
    "            FRR2 +=1\n",
    "        else:\n",
    "            FAR2 +=1\n",
    "    i, FRR1, FAR1 = 0, 0, 0\n",
    "    for test_data in test_set:\n",
    "        if calculate_radius(test_data, point_dict, alpha_dict, middlepoint) > R :\n",
    "            print(\"Data #\" + str(i+1) + \" : No\")\n",
    "            if data_class[i] == 1:\n",
    "                FRR1 += 1\n",
    "        else:\n",
    "            print(\"Data #\" + str(i+1) + \" : Yes\")\n",
    "            if data_class[i] == 2:\n",
    "                FAR1 += 1\n",
    "        i+=1\n",
    "    print(\"\\nTotal set : \" + str(len(test_set)))\n",
    "    print(\"FRR : \" + str(FRR1/float(FRR2)))\n",
    "    print(\"FAR : \" + str(FAR1/float(FAR2)))\n",
    "    print(\"Radius R : \" + str(R))\n",
    "    return FRR1/float(FRR2), FAR1/float(FAR2)"
   ]
  },
  {
   "cell_type": "code",
   "execution_count": null,
   "metadata": {},
   "outputs": [],
   "source": []
  }
 ],
 "metadata": {
  "kernelspec": {
   "display_name": "Python 3",
   "language": "python",
   "name": "python3"
  },
  "language_info": {
   "codemirror_mode": {
    "name": "ipython",
    "version": 3
   },
   "file_extension": ".py",
   "mimetype": "text/x-python",
   "name": "python",
   "nbconvert_exporter": "python",
   "pygments_lexer": "ipython3",
   "version": "3.8.8"
  }
 },
 "nbformat": 4,
 "nbformat_minor": 4
}
